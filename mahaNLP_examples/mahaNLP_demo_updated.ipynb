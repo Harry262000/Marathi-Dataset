{
  "cells": [
    {
      "cell_type": "markdown",
      "metadata": {
        "id": "of31q3AZahIc"
      },
      "source": [
        "# **mahaNLP**\n",
        "\n",
        "- **mahaNLP** is a python-based natural language processing library focused on the Indian language **Marathi**. It provides an easy interface for NLP features like sentiment analysis, named entity recognition, hate speech detection, etc. exclusively for Marathi text.\n",
        "- **L3Cube**, the author of this library aims to bring Marathi to the forefront of IndicNLP. Our vision is to make Marathi a resource-rich language and promote AI for Maharashtra!"
      ]
    },
    {
      "cell_type": "markdown",
      "metadata": {
        "id": "7fVtKiL3NqGA"
      },
      "source": [
        "# **'How to use mahaNLP?'**"
      ]
    },
    {
      "cell_type": "markdown",
      "metadata": {
        "id": "SJjjV5wkRkz3"
      },
      "source": [
        "### installation\n",
        "\n",
        "Library link (for reference): https://pypi.org/project/mahaNLP/"
      ]
    },
    {
      "cell_type": "code",
      "execution_count": null,
      "metadata": {
        "colab": {
          "base_uri": "https://localhost:8080/"
        },
        "id": "1-9zjw5xy9Gb",
        "outputId": "a645dc75-379c-449d-e929-b5a189fcd06a"
      },
      "outputs": [
        {
          "output_type": "stream",
          "name": "stdout",
          "text": [
            "Looking in indexes: https://pypi.org/simple, https://us-python.pkg.dev/colab-wheels/public/simple/\n",
            "Collecting mahaNLP==0.6\n",
            "  Downloading mahaNLP-0.6-py3-none-any.whl (34 kB)\n",
            "Requirement already satisfied: importlib-resources in /usr/local/lib/python3.10/dist-packages (from mahaNLP==0.6) (5.12.0)\n",
            "Collecting huggingface-hub==0.11.1 (from mahaNLP==0.6)\n",
            "  Downloading huggingface_hub-0.11.1-py3-none-any.whl (182 kB)\n",
            "\u001b[2K     \u001b[90m━━━━━━━━━━━━━━━━━━━━━━━━━━━━━━━━━━━━━━━\u001b[0m \u001b[32m182.4/182.4 kB\u001b[0m \u001b[31m5.7 MB/s\u001b[0m eta \u001b[36m0:00:00\u001b[0m\n",
            "\u001b[?25hRequirement already satisfied: tqdm in /usr/local/lib/python3.10/dist-packages (from mahaNLP==0.6) (4.65.0)\n",
            "Requirement already satisfied: pandas in /usr/local/lib/python3.10/dist-packages (from mahaNLP==0.6) (1.5.3)\n",
            "Collecting sentence-transformers (from mahaNLP==0.6)\n",
            "  Downloading sentence-transformers-2.2.2.tar.gz (85 kB)\n",
            "\u001b[2K     \u001b[90m━━━━━━━━━━━━━━━━━━━━━━━━━━━━━━━━━━━━━━━━\u001b[0m \u001b[32m86.0/86.0 kB\u001b[0m \u001b[31m10.0 MB/s\u001b[0m eta \u001b[36m0:00:00\u001b[0m\n",
            "\u001b[?25h  Preparing metadata (setup.py) ... \u001b[?25l\u001b[?25hdone\n",
            "Collecting transformers (from mahaNLP==0.6)\n",
            "  Downloading transformers-4.29.2-py3-none-any.whl (7.1 MB)\n",
            "\u001b[2K     \u001b[90m━━━━━━━━━━━━━━━━━━━━━━━━━━━━━━━━━━━━━━━━\u001b[0m \u001b[32m7.1/7.1 MB\u001b[0m \u001b[31m70.3 MB/s\u001b[0m eta \u001b[36m0:00:00\u001b[0m\n",
            "\u001b[?25hRequirement already satisfied: numpy in /usr/local/lib/python3.10/dist-packages (from mahaNLP==0.6) (1.22.4)\n",
            "Requirement already satisfied: torch in /usr/local/lib/python3.10/dist-packages (from mahaNLP==0.6) (2.0.1+cu118)\n",
            "Requirement already satisfied: IPython in /usr/local/lib/python3.10/dist-packages (from mahaNLP==0.6) (7.34.0)\n",
            "Requirement already satisfied: filelock in /usr/local/lib/python3.10/dist-packages (from huggingface-hub==0.11.1->mahaNLP==0.6) (3.12.0)\n",
            "Requirement already satisfied: requests in /usr/local/lib/python3.10/dist-packages (from huggingface-hub==0.11.1->mahaNLP==0.6) (2.27.1)\n",
            "Requirement already satisfied: pyyaml>=5.1 in /usr/local/lib/python3.10/dist-packages (from huggingface-hub==0.11.1->mahaNLP==0.6) (6.0)\n",
            "Requirement already satisfied: typing-extensions>=3.7.4.3 in /usr/local/lib/python3.10/dist-packages (from huggingface-hub==0.11.1->mahaNLP==0.6) (4.5.0)\n",
            "Requirement already satisfied: packaging>=20.9 in /usr/local/lib/python3.10/dist-packages (from huggingface-hub==0.11.1->mahaNLP==0.6) (23.1)\n",
            "Requirement already satisfied: setuptools>=18.5 in /usr/local/lib/python3.10/dist-packages (from IPython->mahaNLP==0.6) (67.7.2)\n",
            "Collecting jedi>=0.16 (from IPython->mahaNLP==0.6)\n",
            "  Downloading jedi-0.18.2-py2.py3-none-any.whl (1.6 MB)\n",
            "\u001b[2K     \u001b[90m━━━━━━━━━━━━━━━━━━━━━━━━━━━━━━━━━━━━━━━━\u001b[0m \u001b[32m1.6/1.6 MB\u001b[0m \u001b[31m65.6 MB/s\u001b[0m eta \u001b[36m0:00:00\u001b[0m\n",
            "\u001b[?25hRequirement already satisfied: decorator in /usr/local/lib/python3.10/dist-packages (from IPython->mahaNLP==0.6) (4.4.2)\n",
            "Requirement already satisfied: pickleshare in /usr/local/lib/python3.10/dist-packages (from IPython->mahaNLP==0.6) (0.7.5)\n",
            "Requirement already satisfied: traitlets>=4.2 in /usr/local/lib/python3.10/dist-packages (from IPython->mahaNLP==0.6) (5.7.1)\n",
            "Requirement already satisfied: prompt-toolkit!=3.0.0,!=3.0.1,<3.1.0,>=2.0.0 in /usr/local/lib/python3.10/dist-packages (from IPython->mahaNLP==0.6) (3.0.38)\n",
            "Requirement already satisfied: pygments in /usr/local/lib/python3.10/dist-packages (from IPython->mahaNLP==0.6) (2.14.0)\n",
            "Requirement already satisfied: backcall in /usr/local/lib/python3.10/dist-packages (from IPython->mahaNLP==0.6) (0.2.0)\n",
            "Requirement already satisfied: matplotlib-inline in /usr/local/lib/python3.10/dist-packages (from IPython->mahaNLP==0.6) (0.1.6)\n",
            "Requirement already satisfied: pexpect>4.3 in /usr/local/lib/python3.10/dist-packages (from IPython->mahaNLP==0.6) (4.8.0)\n",
            "Requirement already satisfied: python-dateutil>=2.8.1 in /usr/local/lib/python3.10/dist-packages (from pandas->mahaNLP==0.6) (2.8.2)\n",
            "Requirement already satisfied: pytz>=2020.1 in /usr/local/lib/python3.10/dist-packages (from pandas->mahaNLP==0.6) (2022.7.1)\n",
            "Requirement already satisfied: torchvision in /usr/local/lib/python3.10/dist-packages (from sentence-transformers->mahaNLP==0.6) (0.15.2+cu118)\n",
            "Requirement already satisfied: scikit-learn in /usr/local/lib/python3.10/dist-packages (from sentence-transformers->mahaNLP==0.6) (1.2.2)\n",
            "Requirement already satisfied: scipy in /usr/local/lib/python3.10/dist-packages (from sentence-transformers->mahaNLP==0.6) (1.10.1)\n",
            "Requirement already satisfied: nltk in /usr/local/lib/python3.10/dist-packages (from sentence-transformers->mahaNLP==0.6) (3.8.1)\n",
            "Collecting sentencepiece (from sentence-transformers->mahaNLP==0.6)\n",
            "  Downloading sentencepiece-0.1.99-cp310-cp310-manylinux_2_17_x86_64.manylinux2014_x86_64.whl (1.3 MB)\n",
            "\u001b[2K     \u001b[90m━━━━━━━━━━━━━━━━━━━━━━━━━━━━━━━━━━━━━━━━\u001b[0m \u001b[32m1.3/1.3 MB\u001b[0m \u001b[31m54.2 MB/s\u001b[0m eta \u001b[36m0:00:00\u001b[0m\n",
            "\u001b[?25hRequirement already satisfied: sympy in /usr/local/lib/python3.10/dist-packages (from torch->mahaNLP==0.6) (1.11.1)\n",
            "Requirement already satisfied: networkx in /usr/local/lib/python3.10/dist-packages (from torch->mahaNLP==0.6) (3.1)\n",
            "Requirement already satisfied: jinja2 in /usr/local/lib/python3.10/dist-packages (from torch->mahaNLP==0.6) (3.1.2)\n",
            "Requirement already satisfied: triton==2.0.0 in /usr/local/lib/python3.10/dist-packages (from torch->mahaNLP==0.6) (2.0.0)\n",
            "Requirement already satisfied: cmake in /usr/local/lib/python3.10/dist-packages (from triton==2.0.0->torch->mahaNLP==0.6) (3.25.2)\n",
            "Requirement already satisfied: lit in /usr/local/lib/python3.10/dist-packages (from triton==2.0.0->torch->mahaNLP==0.6) (16.0.5)\n",
            "INFO: pip is looking at multiple versions of transformers to determine which version is compatible with other requirements. This could take a while.\n",
            "Collecting transformers (from mahaNLP==0.6)\n",
            "  Downloading transformers-4.29.1-py3-none-any.whl (7.1 MB)\n",
            "\u001b[2K     \u001b[90m━━━━━━━━━━━━━━━━━━━━━━━━━━━━━━━━━━━━━━━━\u001b[0m \u001b[32m7.1/7.1 MB\u001b[0m \u001b[31m80.6 MB/s\u001b[0m eta \u001b[36m0:00:00\u001b[0m\n",
            "\u001b[?25h  Downloading transformers-4.29.0-py3-none-any.whl (7.1 MB)\n",
            "\u001b[2K     \u001b[90m━━━━━━━━━━━━━━━━━━━━━━━━━━━━━━━━━━━━━━━━\u001b[0m \u001b[32m7.1/7.1 MB\u001b[0m \u001b[31m89.9 MB/s\u001b[0m eta \u001b[36m0:00:00\u001b[0m\n",
            "\u001b[?25hRequirement already satisfied: regex!=2019.12.17 in /usr/local/lib/python3.10/dist-packages (from transformers->mahaNLP==0.6) (2022.10.31)\n",
            "Collecting tokenizers!=0.11.3,<0.14,>=0.11.1 (from transformers->mahaNLP==0.6)\n",
            "  Downloading tokenizers-0.13.3-cp310-cp310-manylinux_2_17_x86_64.manylinux2014_x86_64.whl (7.8 MB)\n",
            "\u001b[2K     \u001b[90m━━━━━━━━━━━━━━━━━━━━━━━━━━━━━━━━━━━━━━━━\u001b[0m \u001b[32m7.8/7.8 MB\u001b[0m \u001b[31m88.8 MB/s\u001b[0m eta \u001b[36m0:00:00\u001b[0m\n",
            "\u001b[?25hRequirement already satisfied: parso<0.9.0,>=0.8.0 in /usr/local/lib/python3.10/dist-packages (from jedi>=0.16->IPython->mahaNLP==0.6) (0.8.3)\n",
            "Requirement already satisfied: ptyprocess>=0.5 in /usr/local/lib/python3.10/dist-packages (from pexpect>4.3->IPython->mahaNLP==0.6) (0.7.0)\n",
            "Requirement already satisfied: wcwidth in /usr/local/lib/python3.10/dist-packages (from prompt-toolkit!=3.0.0,!=3.0.1,<3.1.0,>=2.0.0->IPython->mahaNLP==0.6) (0.2.6)\n",
            "Requirement already satisfied: six>=1.5 in /usr/local/lib/python3.10/dist-packages (from python-dateutil>=2.8.1->pandas->mahaNLP==0.6) (1.16.0)\n",
            "Requirement already satisfied: MarkupSafe>=2.0 in /usr/local/lib/python3.10/dist-packages (from jinja2->torch->mahaNLP==0.6) (2.1.2)\n",
            "Requirement already satisfied: click in /usr/local/lib/python3.10/dist-packages (from nltk->sentence-transformers->mahaNLP==0.6) (8.1.3)\n",
            "Requirement already satisfied: joblib in /usr/local/lib/python3.10/dist-packages (from nltk->sentence-transformers->mahaNLP==0.6) (1.2.0)\n",
            "Requirement already satisfied: urllib3<1.27,>=1.21.1 in /usr/local/lib/python3.10/dist-packages (from requests->huggingface-hub==0.11.1->mahaNLP==0.6) (1.26.15)\n",
            "Requirement already satisfied: certifi>=2017.4.17 in /usr/local/lib/python3.10/dist-packages (from requests->huggingface-hub==0.11.1->mahaNLP==0.6) (2022.12.7)\n",
            "Requirement already satisfied: charset-normalizer~=2.0.0 in /usr/local/lib/python3.10/dist-packages (from requests->huggingface-hub==0.11.1->mahaNLP==0.6) (2.0.12)\n",
            "Requirement already satisfied: idna<4,>=2.5 in /usr/local/lib/python3.10/dist-packages (from requests->huggingface-hub==0.11.1->mahaNLP==0.6) (3.4)\n",
            "Requirement already satisfied: threadpoolctl>=2.0.0 in /usr/local/lib/python3.10/dist-packages (from scikit-learn->sentence-transformers->mahaNLP==0.6) (3.1.0)\n",
            "Requirement already satisfied: mpmath>=0.19 in /usr/local/lib/python3.10/dist-packages (from sympy->torch->mahaNLP==0.6) (1.3.0)\n",
            "Requirement already satisfied: pillow!=8.3.*,>=5.3.0 in /usr/local/lib/python3.10/dist-packages (from torchvision->sentence-transformers->mahaNLP==0.6) (8.4.0)\n",
            "Building wheels for collected packages: sentence-transformers\n",
            "  Building wheel for sentence-transformers (setup.py) ... \u001b[?25l\u001b[?25hdone\n",
            "  Created wheel for sentence-transformers: filename=sentence_transformers-2.2.2-py3-none-any.whl size=125926 sha256=9481a62438593310e3eb3748e548438e21fc1727d38e4891cf1611730bf55f55\n",
            "  Stored in directory: /root/.cache/pip/wheels/62/f2/10/1e606fd5f02395388f74e7462910fe851042f97238cbbd902f\n",
            "Successfully built sentence-transformers\n",
            "Installing collected packages: tokenizers, sentencepiece, jedi, huggingface-hub, transformers, sentence-transformers, mahaNLP\n",
            "Successfully installed huggingface-hub-0.11.1 jedi-0.18.2 mahaNLP-0.6 sentence-transformers-2.2.2 sentencepiece-0.1.99 tokenizers-0.13.3 transformers-4.29.0\n"
          ]
        }
      ],
      "source": [
        "pip install mahaNLP==0.6"
      ]
    },
    {
      "cell_type": "markdown",
      "metadata": {
        "id": "HLw1DmNDSezY"
      },
      "source": [
        "#### import the library"
      ]
    },
    {
      "cell_type": "code",
      "execution_count": null,
      "metadata": {
        "id": "sJctly5D1hme"
      },
      "outputs": [],
      "source": [
        "import mahaNLP"
      ]
    },
    {
      "cell_type": "markdown",
      "metadata": {
        "id": "M46WMVr2oVFu"
      },
      "source": [
        "### **This library is customised to be used by an ML practitioner and a basic programmer.**"
      ]
    },
    {
      "cell_type": "markdown",
      "metadata": {
        "id": "ZisPnr3oz_O2"
      },
      "source": [
        "***\n",
        "***"
      ]
    },
    {
      "cell_type": "markdown",
      "metadata": {
        "id": "TKLRx2ooz_O3"
      },
      "source": [
        "## **1. Basic Usage:**\n",
        "\n",
        "This mode of access is designed from a basic programmer point of view and follow simpler way to perform the desired tasks."
      ]
    },
    {
      "cell_type": "markdown",
      "metadata": {
        "id": "z-epi75Sz_O4"
      },
      "source": [
        "### The below mentioned topics are explained in the following examples:\n",
        "\n",
        "**a. Datasets:** Provides the functionality to load the dataset\n",
        "\n",
        "**b. Autocomplete:** Text prediction\n",
        "\n",
        "**c. Preprocess:** Data cleaning\n",
        "\n",
        "**d. Tokenizer:** Tokenizes text\n",
        "\n",
        "**e. Tagger:** Named entity recognision\n",
        "\n",
        "**f. MaskFill:** Predicts the masked tokens\n",
        "\n",
        "**g. Hate:** Detects hate speech\n",
        "\n",
        "**h. Sentiment:** Sentiment analysis\n",
        "\n",
        "**i. Similarity:** Detects similarity"
      ]
    },
    {
      "cell_type": "markdown",
      "metadata": {
        "id": "lqKP3wCEz_O5"
      },
      "source": [
        "***"
      ]
    },
    {
      "cell_type": "markdown",
      "metadata": {
        "id": "Zgdu2M-Ai7wU"
      },
      "source": [
        "### **a. Datasets**"
      ]
    },
    {
      "cell_type": "markdown",
      "metadata": {
        "id": "ZWZq-4-mjq6R"
      },
      "source": [
        "#### import datasets"
      ]
    },
    {
      "cell_type": "code",
      "execution_count": null,
      "metadata": {
        "id": "Z_n63DXxizCs"
      },
      "outputs": [],
      "source": [
        "from mahaNLP.datasets import *"
      ]
    },
    {
      "cell_type": "markdown",
      "metadata": {
        "id": "btMvA51njw6n"
      },
      "source": [
        "#### loading the datasets"
      ]
    },
    {
      "cell_type": "code",
      "execution_count": null,
      "metadata": {
        "id": "qlwTaaInj5vi"
      },
      "outputs": [],
      "source": [
        "# loads the dataframe into 'dataset'\n",
        "dataset_1 = load_datasets('mahaSent')"
      ]
    },
    {
      "cell_type": "code",
      "execution_count": null,
      "metadata": {
        "id": "ZM2PzzCijt-k"
      },
      "outputs": [],
      "source": [
        "dataset_2 = load_datasets('mahaNER')"
      ]
    },
    {
      "cell_type": "code",
      "execution_count": null,
      "metadata": {
        "id": "3pC9dKXPj3xC",
        "colab": {
          "base_uri": "https://localhost:8080/"
        },
        "outputId": "afad4a0e-2e27-4b96-ed39-71e0e1abe9d5"
      },
      "outputs": [
        {
          "output_type": "stream",
          "name": "stderr",
          "text": [
            "/usr/local/lib/python3.10/dist-packages/pandas/util/_decorators.py:211: FutureWarning: the 'encoding' keyword is deprecated and will be removed in a future version. Please take steps to stop the use of 'encoding'\n",
            "  return func(*args, **kwargs)\n",
            "/usr/local/lib/python3.10/dist-packages/pandas/util/_decorators.py:211: FutureWarning: the 'encoding' keyword is deprecated and will be removed in a future version. Please take steps to stop the use of 'encoding'\n",
            "  return func(*args, **kwargs)\n",
            "/usr/local/lib/python3.10/dist-packages/pandas/util/_decorators.py:211: FutureWarning: the 'encoding' keyword is deprecated and will be removed in a future version. Please take steps to stop the use of 'encoding'\n",
            "  return func(*args, **kwargs)\n",
            "/usr/local/lib/python3.10/dist-packages/pandas/util/_decorators.py:211: FutureWarning: the 'encoding' keyword is deprecated and will be removed in a future version. Please take steps to stop the use of 'encoding'\n",
            "  return func(*args, **kwargs)\n",
            "/usr/local/lib/python3.10/dist-packages/pandas/util/_decorators.py:211: FutureWarning: the 'encoding' keyword is deprecated and will be removed in a future version. Please take steps to stop the use of 'encoding'\n",
            "  return func(*args, **kwargs)\n",
            "/usr/local/lib/python3.10/dist-packages/pandas/util/_decorators.py:211: FutureWarning: the 'encoding' keyword is deprecated and will be removed in a future version. Please take steps to stop the use of 'encoding'\n",
            "  return func(*args, **kwargs)\n"
          ]
        }
      ],
      "source": [
        "dataset_3 = load_datasets('mahaHate')"
      ]
    },
    {
      "cell_type": "markdown",
      "metadata": {
        "id": "z9_DxTWyz_O8"
      },
      "source": [
        "***"
      ]
    },
    {
      "cell_type": "markdown",
      "metadata": {
        "id": "ERzN1Uy0z_O8"
      },
      "source": [
        "### **b. Autocomplete**"
      ]
    },
    {
      "cell_type": "markdown",
      "metadata": {
        "id": "rY63hn-8z_O-"
      },
      "source": [
        "#### import"
      ]
    },
    {
      "cell_type": "code",
      "execution_count": null,
      "metadata": {
        "id": "PTKH4hDOz_O-"
      },
      "outputs": [],
      "source": [
        "from mahaNLP.autocomplete import TextGenerator"
      ]
    },
    {
      "cell_type": "markdown",
      "metadata": {
        "id": "G9Iw7Au6z_O_"
      },
      "source": [
        "#### create an object"
      ]
    },
    {
      "cell_type": "code",
      "execution_count": null,
      "metadata": {
        "id": "X1c5FoGBz_O_"
      },
      "outputs": [],
      "source": [
        "model1 = TextGenerator()"
      ]
    },
    {
      "cell_type": "markdown",
      "metadata": {
        "id": "UqQcU-Ozz_PA"
      },
      "source": [
        "### **Usage of autocomplete:**\n",
        "It provides two functionalities\n",
        "* **next_word:** Predicts the next word in the given sentence\n",
        "* **complete_sentence:** Predicts the remanining blank words in the given sentence and completes a sentence."
      ]
    },
    {
      "cell_type": "markdown",
      "metadata": {
        "id": "msY7Jvy8z_PA"
      },
      "source": [
        "#### **next_word:**"
      ]
    },
    {
      "cell_type": "code",
      "execution_count": null,
      "metadata": {
        "id": "9u2grQezz_PA",
        "outputId": "038f5415-000a-4441-8b13-0e715cec4fa2",
        "colab": {
          "base_uri": "https://localhost:8080/"
        }
      },
      "outputs": [
        {
          "output_type": "execute_result",
          "data": {
            "text/plain": [
              "                  generated_text\n",
              "0  आपण आरोग्याची काळजी घेतली  हे"
            ],
            "text/html": [
              "\n",
              "  <div id=\"df-9215cab7-02ce-458d-aaeb-9c8a862f061f\">\n",
              "    <div class=\"colab-df-container\">\n",
              "      <div>\n",
              "<style scoped>\n",
              "    .dataframe tbody tr th:only-of-type {\n",
              "        vertical-align: middle;\n",
              "    }\n",
              "\n",
              "    .dataframe tbody tr th {\n",
              "        vertical-align: top;\n",
              "    }\n",
              "\n",
              "    .dataframe thead th {\n",
              "        text-align: right;\n",
              "    }\n",
              "</style>\n",
              "<table border=\"1\" class=\"dataframe\">\n",
              "  <thead>\n",
              "    <tr style=\"text-align: right;\">\n",
              "      <th></th>\n",
              "      <th>generated_text</th>\n",
              "    </tr>\n",
              "  </thead>\n",
              "  <tbody>\n",
              "    <tr>\n",
              "      <th>0</th>\n",
              "      <td>आपण आरोग्याची काळजी घेतली  हे</td>\n",
              "    </tr>\n",
              "  </tbody>\n",
              "</table>\n",
              "</div>\n",
              "      <button class=\"colab-df-convert\" onclick=\"convertToInteractive('df-9215cab7-02ce-458d-aaeb-9c8a862f061f')\"\n",
              "              title=\"Convert this dataframe to an interactive table.\"\n",
              "              style=\"display:none;\">\n",
              "        \n",
              "  <svg xmlns=\"http://www.w3.org/2000/svg\" height=\"24px\"viewBox=\"0 0 24 24\"\n",
              "       width=\"24px\">\n",
              "    <path d=\"M0 0h24v24H0V0z\" fill=\"none\"/>\n",
              "    <path d=\"M18.56 5.44l.94 2.06.94-2.06 2.06-.94-2.06-.94-.94-2.06-.94 2.06-2.06.94zm-11 1L8.5 8.5l.94-2.06 2.06-.94-2.06-.94L8.5 2.5l-.94 2.06-2.06.94zm10 10l.94 2.06.94-2.06 2.06-.94-2.06-.94-.94-2.06-.94 2.06-2.06.94z\"/><path d=\"M17.41 7.96l-1.37-1.37c-.4-.4-.92-.59-1.43-.59-.52 0-1.04.2-1.43.59L10.3 9.45l-7.72 7.72c-.78.78-.78 2.05 0 2.83L4 21.41c.39.39.9.59 1.41.59.51 0 1.02-.2 1.41-.59l7.78-7.78 2.81-2.81c.8-.78.8-2.07 0-2.86zM5.41 20L4 18.59l7.72-7.72 1.47 1.35L5.41 20z\"/>\n",
              "  </svg>\n",
              "      </button>\n",
              "      \n",
              "  <style>\n",
              "    .colab-df-container {\n",
              "      display:flex;\n",
              "      flex-wrap:wrap;\n",
              "      gap: 12px;\n",
              "    }\n",
              "\n",
              "    .colab-df-convert {\n",
              "      background-color: #E8F0FE;\n",
              "      border: none;\n",
              "      border-radius: 50%;\n",
              "      cursor: pointer;\n",
              "      display: none;\n",
              "      fill: #1967D2;\n",
              "      height: 32px;\n",
              "      padding: 0 0 0 0;\n",
              "      width: 32px;\n",
              "    }\n",
              "\n",
              "    .colab-df-convert:hover {\n",
              "      background-color: #E2EBFA;\n",
              "      box-shadow: 0px 1px 2px rgba(60, 64, 67, 0.3), 0px 1px 3px 1px rgba(60, 64, 67, 0.15);\n",
              "      fill: #174EA6;\n",
              "    }\n",
              "\n",
              "    [theme=dark] .colab-df-convert {\n",
              "      background-color: #3B4455;\n",
              "      fill: #D2E3FC;\n",
              "    }\n",
              "\n",
              "    [theme=dark] .colab-df-convert:hover {\n",
              "      background-color: #434B5C;\n",
              "      box-shadow: 0px 1px 3px 1px rgba(0, 0, 0, 0.15);\n",
              "      filter: drop-shadow(0px 1px 2px rgba(0, 0, 0, 0.3));\n",
              "      fill: #FFFFFF;\n",
              "    }\n",
              "  </style>\n",
              "\n",
              "      <script>\n",
              "        const buttonEl =\n",
              "          document.querySelector('#df-9215cab7-02ce-458d-aaeb-9c8a862f061f button.colab-df-convert');\n",
              "        buttonEl.style.display =\n",
              "          google.colab.kernel.accessAllowed ? 'block' : 'none';\n",
              "\n",
              "        async function convertToInteractive(key) {\n",
              "          const element = document.querySelector('#df-9215cab7-02ce-458d-aaeb-9c8a862f061f');\n",
              "          const dataTable =\n",
              "            await google.colab.kernel.invokeFunction('convertToInteractive',\n",
              "                                                     [key], {});\n",
              "          if (!dataTable) return;\n",
              "\n",
              "          const docLinkHtml = 'Like what you see? Visit the ' +\n",
              "            '<a target=\"_blank\" href=https://colab.research.google.com/notebooks/data_table.ipynb>data table notebook</a>'\n",
              "            + ' to learn more about interactive tables.';\n",
              "          element.innerHTML = '';\n",
              "          dataTable['output_type'] = 'display_data';\n",
              "          await google.colab.output.renderOutput(dataTable, element);\n",
              "          const docLink = document.createElement('div');\n",
              "          docLink.innerHTML = docLinkHtml;\n",
              "          element.appendChild(docLink);\n",
              "        }\n",
              "      </script>\n",
              "    </div>\n",
              "  </div>\n",
              "  "
            ]
          },
          "metadata": {},
          "execution_count": 9
        }
      ],
      "source": [
        "# Example:\n",
        "\n",
        "text1 = 'आपण आरोग्याची काळजी घेतली '\n",
        "# English Translation:\n",
        "# 'We take care of our health'\n",
        "\n",
        "model1.next_word(text1)"
      ]
    },
    {
      "cell_type": "markdown",
      "metadata": {
        "id": "9X2pEWdcz_PB"
      },
      "source": [
        "Optional Parameter(s):\n",
        "* **num_of_predictions** (any number) in int - Default: 1\n",
        "  * Used to pass the number of predictions to be made"
      ]
    },
    {
      "cell_type": "code",
      "execution_count": null,
      "metadata": {
        "id": "ISwXl44iz_PC",
        "outputId": "33b7d319-f526-44b0-a16b-c59476169e6c",
        "colab": {
          "base_uri": "https://localhost:8080/"
        }
      },
      "outputs": [
        {
          "output_type": "execute_result",
          "data": {
            "text/plain": [
              "                      generated_text\n",
              "0  आपण आरोग्याची काळजी घेतली  पाहिजे\n",
              "1  आपण आरोग्याची काळजी घेतली  पाहिजे"
            ],
            "text/html": [
              "\n",
              "  <div id=\"df-8b419de8-0fd0-42e7-943d-e9a9b88af6a9\">\n",
              "    <div class=\"colab-df-container\">\n",
              "      <div>\n",
              "<style scoped>\n",
              "    .dataframe tbody tr th:only-of-type {\n",
              "        vertical-align: middle;\n",
              "    }\n",
              "\n",
              "    .dataframe tbody tr th {\n",
              "        vertical-align: top;\n",
              "    }\n",
              "\n",
              "    .dataframe thead th {\n",
              "        text-align: right;\n",
              "    }\n",
              "</style>\n",
              "<table border=\"1\" class=\"dataframe\">\n",
              "  <thead>\n",
              "    <tr style=\"text-align: right;\">\n",
              "      <th></th>\n",
              "      <th>generated_text</th>\n",
              "    </tr>\n",
              "  </thead>\n",
              "  <tbody>\n",
              "    <tr>\n",
              "      <th>0</th>\n",
              "      <td>आपण आरोग्याची काळजी घेतली  पाहिजे</td>\n",
              "    </tr>\n",
              "    <tr>\n",
              "      <th>1</th>\n",
              "      <td>आपण आरोग्याची काळजी घेतली  पाहिजे</td>\n",
              "    </tr>\n",
              "  </tbody>\n",
              "</table>\n",
              "</div>\n",
              "      <button class=\"colab-df-convert\" onclick=\"convertToInteractive('df-8b419de8-0fd0-42e7-943d-e9a9b88af6a9')\"\n",
              "              title=\"Convert this dataframe to an interactive table.\"\n",
              "              style=\"display:none;\">\n",
              "        \n",
              "  <svg xmlns=\"http://www.w3.org/2000/svg\" height=\"24px\"viewBox=\"0 0 24 24\"\n",
              "       width=\"24px\">\n",
              "    <path d=\"M0 0h24v24H0V0z\" fill=\"none\"/>\n",
              "    <path d=\"M18.56 5.44l.94 2.06.94-2.06 2.06-.94-2.06-.94-.94-2.06-.94 2.06-2.06.94zm-11 1L8.5 8.5l.94-2.06 2.06-.94-2.06-.94L8.5 2.5l-.94 2.06-2.06.94zm10 10l.94 2.06.94-2.06 2.06-.94-2.06-.94-.94-2.06-.94 2.06-2.06.94z\"/><path d=\"M17.41 7.96l-1.37-1.37c-.4-.4-.92-.59-1.43-.59-.52 0-1.04.2-1.43.59L10.3 9.45l-7.72 7.72c-.78.78-.78 2.05 0 2.83L4 21.41c.39.39.9.59 1.41.59.51 0 1.02-.2 1.41-.59l7.78-7.78 2.81-2.81c.8-.78.8-2.07 0-2.86zM5.41 20L4 18.59l7.72-7.72 1.47 1.35L5.41 20z\"/>\n",
              "  </svg>\n",
              "      </button>\n",
              "      \n",
              "  <style>\n",
              "    .colab-df-container {\n",
              "      display:flex;\n",
              "      flex-wrap:wrap;\n",
              "      gap: 12px;\n",
              "    }\n",
              "\n",
              "    .colab-df-convert {\n",
              "      background-color: #E8F0FE;\n",
              "      border: none;\n",
              "      border-radius: 50%;\n",
              "      cursor: pointer;\n",
              "      display: none;\n",
              "      fill: #1967D2;\n",
              "      height: 32px;\n",
              "      padding: 0 0 0 0;\n",
              "      width: 32px;\n",
              "    }\n",
              "\n",
              "    .colab-df-convert:hover {\n",
              "      background-color: #E2EBFA;\n",
              "      box-shadow: 0px 1px 2px rgba(60, 64, 67, 0.3), 0px 1px 3px 1px rgba(60, 64, 67, 0.15);\n",
              "      fill: #174EA6;\n",
              "    }\n",
              "\n",
              "    [theme=dark] .colab-df-convert {\n",
              "      background-color: #3B4455;\n",
              "      fill: #D2E3FC;\n",
              "    }\n",
              "\n",
              "    [theme=dark] .colab-df-convert:hover {\n",
              "      background-color: #434B5C;\n",
              "      box-shadow: 0px 1px 3px 1px rgba(0, 0, 0, 0.15);\n",
              "      filter: drop-shadow(0px 1px 2px rgba(0, 0, 0, 0.3));\n",
              "      fill: #FFFFFF;\n",
              "    }\n",
              "  </style>\n",
              "\n",
              "      <script>\n",
              "        const buttonEl =\n",
              "          document.querySelector('#df-8b419de8-0fd0-42e7-943d-e9a9b88af6a9 button.colab-df-convert');\n",
              "        buttonEl.style.display =\n",
              "          google.colab.kernel.accessAllowed ? 'block' : 'none';\n",
              "\n",
              "        async function convertToInteractive(key) {\n",
              "          const element = document.querySelector('#df-8b419de8-0fd0-42e7-943d-e9a9b88af6a9');\n",
              "          const dataTable =\n",
              "            await google.colab.kernel.invokeFunction('convertToInteractive',\n",
              "                                                     [key], {});\n",
              "          if (!dataTable) return;\n",
              "\n",
              "          const docLinkHtml = 'Like what you see? Visit the ' +\n",
              "            '<a target=\"_blank\" href=https://colab.research.google.com/notebooks/data_table.ipynb>data table notebook</a>'\n",
              "            + ' to learn more about interactive tables.';\n",
              "          element.innerHTML = '';\n",
              "          dataTable['output_type'] = 'display_data';\n",
              "          await google.colab.output.renderOutput(dataTable, element);\n",
              "          const docLink = document.createElement('div');\n",
              "          docLink.innerHTML = docLinkHtml;\n",
              "          element.appendChild(docLink);\n",
              "        }\n",
              "      </script>\n",
              "    </div>\n",
              "  </div>\n",
              "  "
            ]
          },
          "metadata": {},
          "execution_count": 10
        }
      ],
      "source": [
        "# Example:\n",
        "\n",
        "model1.next_word(text1, num_of_predictions = 2)\n",
        "# or\n",
        "# model1.next_word(text1, 2)"
      ]
    },
    {
      "cell_type": "markdown",
      "metadata": {
        "id": "F-lQGYIyz_PC"
      },
      "source": [
        "#### **complete_sentence:**"
      ]
    },
    {
      "cell_type": "code",
      "execution_count": null,
      "metadata": {
        "id": "XRSuUNMPz_PC",
        "outputId": "50919cd8-48f0-432f-bdb5-6e5783948899",
        "colab": {
          "base_uri": "https://localhost:8080/"
        }
      },
      "outputs": [
        {
          "output_type": "execute_result",
          "data": {
            "text/plain": [
              "                                                                                                                                                                                                                                               generated_text\n",
              "0  कडक उन्हाळ्यातून थंडगार पावसाळ्यात येताना, ऋतूमानातील बदल हा मानवी आरोग्यावरही परिणामकारक ठरतो. हवामानात होणार्‍या बदलांमुळे ही या कालावधीत उष्माघात ाचा धोका अधिक वाढतो. अशा वेळी उष्माघात ाचा धोका बळा वतो. त्या अनुषंगाने हे आजार आटोक्यात आणायला हवेत."
            ],
            "text/html": [
              "\n",
              "  <div id=\"df-ca02843d-d959-40aa-9fce-85a1a18852ce\">\n",
              "    <div class=\"colab-df-container\">\n",
              "      <div>\n",
              "<style scoped>\n",
              "    .dataframe tbody tr th:only-of-type {\n",
              "        vertical-align: middle;\n",
              "    }\n",
              "\n",
              "    .dataframe tbody tr th {\n",
              "        vertical-align: top;\n",
              "    }\n",
              "\n",
              "    .dataframe thead th {\n",
              "        text-align: right;\n",
              "    }\n",
              "</style>\n",
              "<table border=\"1\" class=\"dataframe\">\n",
              "  <thead>\n",
              "    <tr style=\"text-align: right;\">\n",
              "      <th></th>\n",
              "      <th>generated_text</th>\n",
              "    </tr>\n",
              "  </thead>\n",
              "  <tbody>\n",
              "    <tr>\n",
              "      <th>0</th>\n",
              "      <td>कडक उन्हाळ्यातून थंडगार पावसाळ्यात येताना, ऋतूमानातील बदल हा मानवी आरोग्यावरही परिणामकारक ठरतो. हवामानात होणार्‍या बदलांमुळे ही या कालावधीत उष्माघात ाचा धोका अधिक वाढतो. अशा वेळी उष्माघात ाचा धोका बळा वतो. त्या अनुषंगाने हे आजार आटोक्यात आणायला हवेत.</td>\n",
              "    </tr>\n",
              "  </tbody>\n",
              "</table>\n",
              "</div>\n",
              "      <button class=\"colab-df-convert\" onclick=\"convertToInteractive('df-ca02843d-d959-40aa-9fce-85a1a18852ce')\"\n",
              "              title=\"Convert this dataframe to an interactive table.\"\n",
              "              style=\"display:none;\">\n",
              "        \n",
              "  <svg xmlns=\"http://www.w3.org/2000/svg\" height=\"24px\"viewBox=\"0 0 24 24\"\n",
              "       width=\"24px\">\n",
              "    <path d=\"M0 0h24v24H0V0z\" fill=\"none\"/>\n",
              "    <path d=\"M18.56 5.44l.94 2.06.94-2.06 2.06-.94-2.06-.94-.94-2.06-.94 2.06-2.06.94zm-11 1L8.5 8.5l.94-2.06 2.06-.94-2.06-.94L8.5 2.5l-.94 2.06-2.06.94zm10 10l.94 2.06.94-2.06 2.06-.94-2.06-.94-.94-2.06-.94 2.06-2.06.94z\"/><path d=\"M17.41 7.96l-1.37-1.37c-.4-.4-.92-.59-1.43-.59-.52 0-1.04.2-1.43.59L10.3 9.45l-7.72 7.72c-.78.78-.78 2.05 0 2.83L4 21.41c.39.39.9.59 1.41.59.51 0 1.02-.2 1.41-.59l7.78-7.78 2.81-2.81c.8-.78.8-2.07 0-2.86zM5.41 20L4 18.59l7.72-7.72 1.47 1.35L5.41 20z\"/>\n",
              "  </svg>\n",
              "      </button>\n",
              "      \n",
              "  <style>\n",
              "    .colab-df-container {\n",
              "      display:flex;\n",
              "      flex-wrap:wrap;\n",
              "      gap: 12px;\n",
              "    }\n",
              "\n",
              "    .colab-df-convert {\n",
              "      background-color: #E8F0FE;\n",
              "      border: none;\n",
              "      border-radius: 50%;\n",
              "      cursor: pointer;\n",
              "      display: none;\n",
              "      fill: #1967D2;\n",
              "      height: 32px;\n",
              "      padding: 0 0 0 0;\n",
              "      width: 32px;\n",
              "    }\n",
              "\n",
              "    .colab-df-convert:hover {\n",
              "      background-color: #E2EBFA;\n",
              "      box-shadow: 0px 1px 2px rgba(60, 64, 67, 0.3), 0px 1px 3px 1px rgba(60, 64, 67, 0.15);\n",
              "      fill: #174EA6;\n",
              "    }\n",
              "\n",
              "    [theme=dark] .colab-df-convert {\n",
              "      background-color: #3B4455;\n",
              "      fill: #D2E3FC;\n",
              "    }\n",
              "\n",
              "    [theme=dark] .colab-df-convert:hover {\n",
              "      background-color: #434B5C;\n",
              "      box-shadow: 0px 1px 3px 1px rgba(0, 0, 0, 0.15);\n",
              "      filter: drop-shadow(0px 1px 2px rgba(0, 0, 0, 0.3));\n",
              "      fill: #FFFFFF;\n",
              "    }\n",
              "  </style>\n",
              "\n",
              "      <script>\n",
              "        const buttonEl =\n",
              "          document.querySelector('#df-ca02843d-d959-40aa-9fce-85a1a18852ce button.colab-df-convert');\n",
              "        buttonEl.style.display =\n",
              "          google.colab.kernel.accessAllowed ? 'block' : 'none';\n",
              "\n",
              "        async function convertToInteractive(key) {\n",
              "          const element = document.querySelector('#df-ca02843d-d959-40aa-9fce-85a1a18852ce');\n",
              "          const dataTable =\n",
              "            await google.colab.kernel.invokeFunction('convertToInteractive',\n",
              "                                                     [key], {});\n",
              "          if (!dataTable) return;\n",
              "\n",
              "          const docLinkHtml = 'Like what you see? Visit the ' +\n",
              "            '<a target=\"_blank\" href=https://colab.research.google.com/notebooks/data_table.ipynb>data table notebook</a>'\n",
              "            + ' to learn more about interactive tables.';\n",
              "          element.innerHTML = '';\n",
              "          dataTable['output_type'] = 'display_data';\n",
              "          await google.colab.output.renderOutput(dataTable, element);\n",
              "          const docLink = document.createElement('div');\n",
              "          docLink.innerHTML = docLinkHtml;\n",
              "          element.appendChild(docLink);\n",
              "        }\n",
              "      </script>\n",
              "    </div>\n",
              "  </div>\n",
              "  "
            ]
          },
          "metadata": {},
          "execution_count": 11
        }
      ],
      "source": [
        "# Example:\n",
        "\n",
        "text2 = 'कडक उन्हाळ्यातून थंडगार पावसाळ्यात येताना, ऋतूमानातील बदल हा मानवी आरोग्यावरही परिणामकारक ठरतो. हवामानात होणार्‍या बदलांमुळे'\n",
        "# English Translation:\n",
        "# 'From hot summers to cooler monsoons, the change in climate also affects human health. Due to changes in climate'\n",
        "\n",
        "model1.complete_sentence(text2)"
      ]
    },
    {
      "cell_type": "markdown",
      "metadata": {
        "id": "fDTVCsvxz_PD"
      },
      "source": [
        "Optional Parameter(s):\n",
        "* **num_of_words** (any number) in int - Default: 25\n",
        "  * Used to pass the number of words to be filled\n",
        "* **num_of_predictions** (any number) in int - Default: 1\n",
        "  * Used to pass the number of predictions to be made"
      ]
    },
    {
      "cell_type": "code",
      "execution_count": null,
      "metadata": {
        "id": "YSm8rhEnz_PD",
        "outputId": "afde229e-115c-4743-8bb8-ce2db052953a",
        "colab": {
          "base_uri": "https://localhost:8080/"
        }
      },
      "outputs": [
        {
          "output_type": "execute_result",
          "data": {
            "text/plain": [
              "                                                                                                                                                                                    generated_text\n",
              "0  कडक उन्हाळ्यातून थंडगार पावसाळ्यात येताना, ऋतूमानातील बदल हा मानवी आरोग्यावरही परिणामकारक ठरतो. हवामानात होणार्‍या बदलांमुळे हवेतील दमट वातावरणाचा आरोग्यावर विपरीत परिणाम होताना दिसतो. तापमान\n",
              "1            कडक उन्हाळ्यातून थंडगार पावसाळ्यात येताना, ऋतूमानातील बदल हा मानवी आरोग्यावरही परिणामकारक ठरतो. हवामानात होणार्‍या बदलांमुळे ही परिस्थिती ओढ वते. अशावेळी पाण्याचा निचरा होत असल्याने\n",
              "2                   कडक उन्हाळ्यातून थंडगार पावसाळ्यात येताना, ऋतूमानातील बदल हा मानवी आरोग्यावरही परिणामकारक ठरतो. हवामानात होणार्‍या बदलांमुळे अनेक आजार होतात. या काळात उन्हाळ्यात बर्फ वितळ णे\n",
              "3                                    कडक उन्हाळ्यातून थंडगार पावसाळ्यात येताना, ऋतूमानातील बदल हा मानवी आरोग्यावरही परिणामकारक ठरतो. हवामानात होणार्‍या बदलांमुळे, सर्दी - खोकला, ताप व सर्दी - पड"
            ],
            "text/html": [
              "\n",
              "  <div id=\"df-d5dd8c83-2d1b-4aff-83f9-dd334650576d\">\n",
              "    <div class=\"colab-df-container\">\n",
              "      <div>\n",
              "<style scoped>\n",
              "    .dataframe tbody tr th:only-of-type {\n",
              "        vertical-align: middle;\n",
              "    }\n",
              "\n",
              "    .dataframe tbody tr th {\n",
              "        vertical-align: top;\n",
              "    }\n",
              "\n",
              "    .dataframe thead th {\n",
              "        text-align: right;\n",
              "    }\n",
              "</style>\n",
              "<table border=\"1\" class=\"dataframe\">\n",
              "  <thead>\n",
              "    <tr style=\"text-align: right;\">\n",
              "      <th></th>\n",
              "      <th>generated_text</th>\n",
              "    </tr>\n",
              "  </thead>\n",
              "  <tbody>\n",
              "    <tr>\n",
              "      <th>0</th>\n",
              "      <td>कडक उन्हाळ्यातून थंडगार पावसाळ्यात येताना, ऋतूमानातील बदल हा मानवी आरोग्यावरही परिणामकारक ठरतो. हवामानात होणार्‍या बदलांमुळे हवेतील दमट वातावरणाचा आरोग्यावर विपरीत परिणाम होताना दिसतो. तापमान</td>\n",
              "    </tr>\n",
              "    <tr>\n",
              "      <th>1</th>\n",
              "      <td>कडक उन्हाळ्यातून थंडगार पावसाळ्यात येताना, ऋतूमानातील बदल हा मानवी आरोग्यावरही परिणामकारक ठरतो. हवामानात होणार्‍या बदलांमुळे ही परिस्थिती ओढ वते. अशावेळी पाण्याचा निचरा होत असल्याने</td>\n",
              "    </tr>\n",
              "    <tr>\n",
              "      <th>2</th>\n",
              "      <td>कडक उन्हाळ्यातून थंडगार पावसाळ्यात येताना, ऋतूमानातील बदल हा मानवी आरोग्यावरही परिणामकारक ठरतो. हवामानात होणार्‍या बदलांमुळे अनेक आजार होतात. या काळात उन्हाळ्यात बर्फ वितळ णे</td>\n",
              "    </tr>\n",
              "    <tr>\n",
              "      <th>3</th>\n",
              "      <td>कडक उन्हाळ्यातून थंडगार पावसाळ्यात येताना, ऋतूमानातील बदल हा मानवी आरोग्यावरही परिणामकारक ठरतो. हवामानात होणार्‍या बदलांमुळे, सर्दी - खोकला, ताप व सर्दी - पड</td>\n",
              "    </tr>\n",
              "  </tbody>\n",
              "</table>\n",
              "</div>\n",
              "      <button class=\"colab-df-convert\" onclick=\"convertToInteractive('df-d5dd8c83-2d1b-4aff-83f9-dd334650576d')\"\n",
              "              title=\"Convert this dataframe to an interactive table.\"\n",
              "              style=\"display:none;\">\n",
              "        \n",
              "  <svg xmlns=\"http://www.w3.org/2000/svg\" height=\"24px\"viewBox=\"0 0 24 24\"\n",
              "       width=\"24px\">\n",
              "    <path d=\"M0 0h24v24H0V0z\" fill=\"none\"/>\n",
              "    <path d=\"M18.56 5.44l.94 2.06.94-2.06 2.06-.94-2.06-.94-.94-2.06-.94 2.06-2.06.94zm-11 1L8.5 8.5l.94-2.06 2.06-.94-2.06-.94L8.5 2.5l-.94 2.06-2.06.94zm10 10l.94 2.06.94-2.06 2.06-.94-2.06-.94-.94-2.06-.94 2.06-2.06.94z\"/><path d=\"M17.41 7.96l-1.37-1.37c-.4-.4-.92-.59-1.43-.59-.52 0-1.04.2-1.43.59L10.3 9.45l-7.72 7.72c-.78.78-.78 2.05 0 2.83L4 21.41c.39.39.9.59 1.41.59.51 0 1.02-.2 1.41-.59l7.78-7.78 2.81-2.81c.8-.78.8-2.07 0-2.86zM5.41 20L4 18.59l7.72-7.72 1.47 1.35L5.41 20z\"/>\n",
              "  </svg>\n",
              "      </button>\n",
              "      \n",
              "  <style>\n",
              "    .colab-df-container {\n",
              "      display:flex;\n",
              "      flex-wrap:wrap;\n",
              "      gap: 12px;\n",
              "    }\n",
              "\n",
              "    .colab-df-convert {\n",
              "      background-color: #E8F0FE;\n",
              "      border: none;\n",
              "      border-radius: 50%;\n",
              "      cursor: pointer;\n",
              "      display: none;\n",
              "      fill: #1967D2;\n",
              "      height: 32px;\n",
              "      padding: 0 0 0 0;\n",
              "      width: 32px;\n",
              "    }\n",
              "\n",
              "    .colab-df-convert:hover {\n",
              "      background-color: #E2EBFA;\n",
              "      box-shadow: 0px 1px 2px rgba(60, 64, 67, 0.3), 0px 1px 3px 1px rgba(60, 64, 67, 0.15);\n",
              "      fill: #174EA6;\n",
              "    }\n",
              "\n",
              "    [theme=dark] .colab-df-convert {\n",
              "      background-color: #3B4455;\n",
              "      fill: #D2E3FC;\n",
              "    }\n",
              "\n",
              "    [theme=dark] .colab-df-convert:hover {\n",
              "      background-color: #434B5C;\n",
              "      box-shadow: 0px 1px 3px 1px rgba(0, 0, 0, 0.15);\n",
              "      filter: drop-shadow(0px 1px 2px rgba(0, 0, 0, 0.3));\n",
              "      fill: #FFFFFF;\n",
              "    }\n",
              "  </style>\n",
              "\n",
              "      <script>\n",
              "        const buttonEl =\n",
              "          document.querySelector('#df-d5dd8c83-2d1b-4aff-83f9-dd334650576d button.colab-df-convert');\n",
              "        buttonEl.style.display =\n",
              "          google.colab.kernel.accessAllowed ? 'block' : 'none';\n",
              "\n",
              "        async function convertToInteractive(key) {\n",
              "          const element = document.querySelector('#df-d5dd8c83-2d1b-4aff-83f9-dd334650576d');\n",
              "          const dataTable =\n",
              "            await google.colab.kernel.invokeFunction('convertToInteractive',\n",
              "                                                     [key], {});\n",
              "          if (!dataTable) return;\n",
              "\n",
              "          const docLinkHtml = 'Like what you see? Visit the ' +\n",
              "            '<a target=\"_blank\" href=https://colab.research.google.com/notebooks/data_table.ipynb>data table notebook</a>'\n",
              "            + ' to learn more about interactive tables.';\n",
              "          element.innerHTML = '';\n",
              "          dataTable['output_type'] = 'display_data';\n",
              "          await google.colab.output.renderOutput(dataTable, element);\n",
              "          const docLink = document.createElement('div');\n",
              "          docLink.innerHTML = docLinkHtml;\n",
              "          element.appendChild(docLink);\n",
              "        }\n",
              "      </script>\n",
              "    </div>\n",
              "  </div>\n",
              "  "
            ]
          },
          "metadata": {},
          "execution_count": 12
        }
      ],
      "source": [
        "# Example:\n",
        "\n",
        "model1.complete_sentence(text2, num_of_words = 10, num_of_predictions = 4)"
      ]
    },
    {
      "cell_type": "markdown",
      "metadata": {
        "id": "piVMgpOYz_PE"
      },
      "source": [
        "***"
      ]
    },
    {
      "cell_type": "markdown",
      "metadata": {
        "id": "r2NlXc8Hz_PE"
      },
      "source": [
        "### **c. Preprocess**"
      ]
    },
    {
      "cell_type": "markdown",
      "metadata": {
        "id": "xj91JczJz_PF"
      },
      "source": [
        "#### import"
      ]
    },
    {
      "cell_type": "code",
      "execution_count": null,
      "metadata": {
        "id": "ECIdq8hGz_PF"
      },
      "outputs": [],
      "source": [
        "from mahaNLP.preprocess import Preprocess"
      ]
    },
    {
      "cell_type": "markdown",
      "metadata": {
        "id": "sJHmm7_Lz_PF"
      },
      "source": [
        "#### create an object"
      ]
    },
    {
      "cell_type": "code",
      "execution_count": null,
      "metadata": {
        "id": "7vcz0dXaz_PF"
      },
      "outputs": [],
      "source": [
        "model2 = Preprocess()"
      ]
    },
    {
      "cell_type": "markdown",
      "metadata": {
        "id": "9x9TXj8Dz_PG"
      },
      "source": [
        "### **Usage of preprocess:**\n",
        "It provides three functionalities\n",
        "* **remove_url:** Removes url from the text\n",
        "* **remove_stopwords:** Removes stopwords from the text\n",
        "* **remove_nondevnagari:** Removes the non-marathi characters"
      ]
    },
    {
      "cell_type": "markdown",
      "metadata": {
        "id": "dYgiSdzIz_PG"
      },
      "source": [
        "#### **remove_url:**"
      ]
    },
    {
      "cell_type": "code",
      "execution_count": null,
      "metadata": {
        "id": "5MY7K6T_z_PG",
        "outputId": "b6e73839-af47-4aeb-c013-4cecb53e1403",
        "colab": {
          "base_uri": "https://localhost:8080/"
        }
      },
      "outputs": [
        {
          "output_type": "execute_result",
          "data": {
            "text/plain": [
              "'मी गुगल  वर शोधले कि भारतात जवळपास एकूण ८० टक्के लोकांचे बँकेत खाते आहे.'"
            ],
            "application/vnd.google.colaboratory.intrinsic+json": {
              "type": "string"
            }
          },
          "metadata": {},
          "execution_count": 15
        }
      ],
      "source": [
        "# Example:\n",
        "\n",
        "text3 = 'मी गुगल https://www.google.com/ वर शोधले कि भारतात जवळपास एकूण ८० टक्के लोकांचे बँकेत खाते आहे.'\n",
        "# English Translation:\n",
        "# 'I found on google https://www.google.com/ that almost 80 percent of total people in India have bank account.'\n",
        "\n",
        "model2.remove_url(text3)"
      ]
    },
    {
      "cell_type": "markdown",
      "metadata": {
        "id": "PwhWTGaZz_PG"
      },
      "source": [
        "#### **remove_stopwords:**"
      ]
    },
    {
      "cell_type": "code",
      "execution_count": null,
      "metadata": {
        "id": "GUoGfmX3z_PH",
        "outputId": "3f426465-9888-46ba-9d9d-5183aecc11d8",
        "colab": {
          "base_uri": "https://localhost:8080/"
        }
      },
      "outputs": [
        {
          "output_type": "execute_result",
          "data": {
            "text/plain": [
              "['दिवस', 'गाडी', 'अजून', 'सापडली', 'पोलिसांचा', 'कडक', 'तपास', 'सुरु']"
            ]
          },
          "metadata": {},
          "execution_count": 16
        }
      ],
      "source": [
        "# stopwords like articles, prepositions, pronouns, conjunctions, etc.\n",
        "\n",
        "# Example:\n",
        "\n",
        "text4 = 'तीन दिवस झाले, पण गाडी अजून सापडली नाही. पोलिसांचा कडक तपास सुरु आहे.'\n",
        "# English Translation:\n",
        "# 'It's been three days, but the car is still not found. Strict investigation by the police is going on.'\n",
        "\n",
        "model2.remove_stopwords(text4)"
      ]
    },
    {
      "cell_type": "markdown",
      "metadata": {
        "id": "NxNKQL1az_PH"
      },
      "source": [
        "#### **remove_nondevnagari:**"
      ]
    },
    {
      "cell_type": "code",
      "execution_count": null,
      "metadata": {
        "id": "-C5g-je9z_PI",
        "outputId": "1ee1af73-f86c-49cb-b815-638083469141",
        "colab": {
          "base_uri": "https://localhost:8080/"
        }
      },
      "outputs": [
        {
          "output_type": "stream",
          "name": "stdout",
          "text": [
            "डाळी भारतीय थाळीमध्ये सामील असलेले मुख्य भोजन आहेत.   , यु एस एग्रीकल्चर डिपार्टमेंट नुसार १०० ग्रॅम डाळ मध्ये 8 ते 9 ग्राम प्रोटीन असतात.\n"
          ]
        }
      ],
      "source": [
        "# Example:\n",
        "\n",
        "text5 = 'डाळी भारतीय थाळीमध्ये सामील असलेले मुख्य भोजन आहेत. US agriculture department, यु एस एग्रीकल्चर डिपार्टमेंट नुसार १०० ग्रॅम डाळ मध्ये 8 ते 9 ग्राम प्रोटीन असतात.'\n",
        "# English Translation:\n",
        "# 'Pulses are the staple food included in Indian Thali. According to the US agriculture department, 100 grams of dal contains 8-9 grams of protein.'\n",
        "\n",
        "model2.remove_nondevnagari(text5)"
      ]
    },
    {
      "cell_type": "markdown",
      "metadata": {
        "id": "omTXKJrhz_PI"
      },
      "source": [
        "Optional Parameter(s):\n",
        "* **en_num** (1, 0) in int - Default: 1\n",
        "  * Decides whether to keep English numericals (1-yes, 0-no)"
      ]
    },
    {
      "cell_type": "code",
      "execution_count": null,
      "metadata": {
        "id": "pl3KLtHez_PI",
        "outputId": "8519f260-6fbd-4039-e77f-3a9cb389a001",
        "colab": {
          "base_uri": "https://localhost:8080/"
        }
      },
      "outputs": [
        {
          "output_type": "stream",
          "name": "stdout",
          "text": [
            "डाळी भारतीय थाळीमध्ये सामील असलेले मुख्य भोजन आहेत.   , यु एस एग्रीकल्चर डिपार्टमेंट नुसार १०० ग्रॅम डाळ मध्ये  ते  ग्राम प्रोटीन असतात.\n"
          ]
        }
      ],
      "source": [
        "# Example:\n",
        "\n",
        "model2.remove_nondevnagari(text5, en_num = 0)"
      ]
    },
    {
      "cell_type": "markdown",
      "metadata": {
        "id": "S89XZH_7z_PJ"
      },
      "source": [
        "***"
      ]
    },
    {
      "cell_type": "markdown",
      "metadata": {
        "id": "SoEAJyMDz_PJ"
      },
      "source": [
        "### **d. Tokenizer**"
      ]
    },
    {
      "cell_type": "markdown",
      "metadata": {
        "id": "0StlwoAkz_PK"
      },
      "source": [
        "#### import"
      ]
    },
    {
      "cell_type": "code",
      "execution_count": null,
      "metadata": {
        "id": "Y3g6wCssz_PK"
      },
      "outputs": [],
      "source": [
        "from mahaNLP.tokenizer import Tokenize"
      ]
    },
    {
      "cell_type": "markdown",
      "metadata": {
        "id": "aRzdJa1pz_PK"
      },
      "source": [
        "#### create an object"
      ]
    },
    {
      "cell_type": "code",
      "execution_count": null,
      "metadata": {
        "id": "nkQxHjyFz_PL"
      },
      "outputs": [],
      "source": [
        "model3 = Tokenize()"
      ]
    },
    {
      "cell_type": "markdown",
      "metadata": {
        "id": "Zh27L2gXz_PL"
      },
      "source": [
        "### **Usage of tokenizer:**\n",
        "It provides two functionalities\n",
        "* **word_tokenize:** Tokenizes words from sentences and stores them in an array\n",
        "* **sentence_tokenize:** Tokenizes sentences from paragraph or set of sentences"
      ]
    },
    {
      "cell_type": "markdown",
      "metadata": {
        "id": "5YyOx0u6z_PL"
      },
      "source": [
        "#### **wordTokenize:**"
      ]
    },
    {
      "cell_type": "code",
      "execution_count": null,
      "metadata": {
        "id": "q_q40jynz_PL",
        "outputId": "361b304a-089f-4014-fadb-9a9dbfc768e9",
        "colab": {
          "base_uri": "https://localhost:8080/"
        }
      },
      "outputs": [
        {
          "output_type": "execute_result",
          "data": {
            "text/plain": [
              "['तुमच्या',\n",
              " 'भावनाही',\n",
              " 'शरीर',\n",
              " 'निरोगी',\n",
              " 'ठेवण्यात',\n",
              " 'महत्त्वाची',\n",
              " 'भूमिका',\n",
              " 'बजावतात',\n",
              " '!']"
            ]
          },
          "metadata": {},
          "execution_count": 21
        }
      ],
      "source": [
        "# Example:\n",
        "\n",
        "text6 = 'तुमच्या भावनाही शरीर निरोगी ठेवण्यात महत्त्वाची भूमिका बजावतात!'\n",
        "# English Translation:\n",
        "# 'Your emotions also play an important role in keeping the body healthy!'\n",
        "\n",
        "model3.word_tokenize(text6)"
      ]
    },
    {
      "cell_type": "markdown",
      "metadata": {
        "id": "cMi9CBv-z_PM"
      },
      "source": [
        "You can see the above example also tokenized the punctuation marks"
      ]
    },
    {
      "cell_type": "markdown",
      "metadata": {
        "id": "yQTgKB7lz_PM"
      },
      "source": [
        "Optional Parameter(s):\n",
        "* **punctuation** (True, False) in bool - Default: True\n",
        "  * Decides whether to tokenize punctuation marks (True-yes, False-no)"
      ]
    },
    {
      "cell_type": "code",
      "execution_count": null,
      "metadata": {
        "scrolled": true,
        "id": "O3z5vzOjz_PN",
        "outputId": "ddbd6b28-b0cc-491c-b1b7-3f8cfbb8ba51",
        "colab": {
          "base_uri": "https://localhost:8080/"
        }
      },
      "outputs": [
        {
          "output_type": "execute_result",
          "data": {
            "text/plain": [
              "['तुमच्या',\n",
              " 'भावनाही',\n",
              " 'शरीर',\n",
              " 'निरोगी',\n",
              " 'ठेवण्यात',\n",
              " 'महत्त्वाची',\n",
              " 'भूमिका',\n",
              " 'बजावतात']"
            ]
          },
          "metadata": {},
          "execution_count": 22
        }
      ],
      "source": [
        "# Example:\n",
        "\n",
        "model3.word_tokenize(text6, punctuation = False)"
      ]
    },
    {
      "cell_type": "markdown",
      "metadata": {
        "id": "-2TN2127z_PN"
      },
      "source": [
        "#### **sentence_tokenize:**"
      ]
    },
    {
      "cell_type": "code",
      "execution_count": null,
      "metadata": {
        "id": "ueAS6ypEz_PO",
        "outputId": "823d1919-e691-496f-d3f9-a925d0790a78",
        "colab": {
          "base_uri": "https://localhost:8080/"
        }
      },
      "outputs": [
        {
          "output_type": "execute_result",
          "data": {
            "text/plain": [
              "['पावसाळ्यात हवेत ओलावा असल्यामुळे फळे व भाज्यांवर धूळ व कचरा बसतो.',\n",
              " ' त्यामुळे फळे व भाज्या स्वच्छ धुवून मगच खाव्यात!',\n",
              " ' पावसाळ्यात रोगप्रतिकारक शक्ती कमी झालेली असते.',\n",
              " ' त्यामुळे या दिवसांत शरीराला जास्त ताण देणारे व्यायाम केल्यास शरीरातील पित्त वाढते.',\n",
              " ' पावसाळ्यात पोहणे, योगासने किंवा चालणे यांसारखे सोपे व्यायम करावेत.']"
            ]
          },
          "metadata": {},
          "execution_count": 23
        }
      ],
      "source": [
        "# Example\n",
        "\n",
        "text7 = 'पावसाळ्यात हवेत ओलावा असल्यामुळे फळे व भाज्यांवर धूळ व कचरा बसतो. त्यामुळे फळे व भाज्या स्वच्छ धुवून मगच खाव्यात! पावसाळ्यात रोगप्रतिकारक शक्ती कमी झालेली असते. त्यामुळे या दिवसांत शरीराला जास्त ताण देणारे व्यायाम केल्यास शरीरातील पित्त वाढते. पावसाळ्यात पोहणे, योगासने किंवा चालणे यांसारखे सोपे व्यायम करावेत.'\n",
        "# English Translation:\n",
        "# 'Due to moisture in the air during monsoons, dust and garbage settle on fruits and vegetables. So fruits and vegetables should be washed and then eaten! The immune system is reduced during monsoon. Therefore, during these days, doing exercises that put more stress on the body increases the pitta in the body. Simple exercises like swimming, yoga or walking should be done during monsoons.'\n",
        "\n",
        "model3.sentence_tokenize(text7)"
      ]
    },
    {
      "cell_type": "markdown",
      "metadata": {
        "id": "8cogXx4cz_PO"
      },
      "source": [
        "***"
      ]
    },
    {
      "cell_type": "markdown",
      "metadata": {
        "id": "R_wA2jIwz_PO"
      },
      "source": [
        "### **e. Tagger**"
      ]
    },
    {
      "cell_type": "markdown",
      "metadata": {
        "id": "J7pQA3caz_PP"
      },
      "source": [
        "#### import"
      ]
    },
    {
      "cell_type": "code",
      "execution_count": null,
      "metadata": {
        "id": "AbrL_kIiz_PP"
      },
      "outputs": [],
      "source": [
        "from mahaNLP.tagger import EntityRecognizer"
      ]
    },
    {
      "cell_type": "markdown",
      "metadata": {
        "id": "4L7CNcQXz_PP"
      },
      "source": [
        "#### create an object"
      ]
    },
    {
      "cell_type": "code",
      "execution_count": null,
      "metadata": {
        "id": "bKo7wdcqz_PQ"
      },
      "outputs": [],
      "source": [
        "model4 = EntityRecognizer()"
      ]
    },
    {
      "cell_type": "markdown",
      "metadata": {
        "id": "DWnkOhtWz_PQ"
      },
      "source": [
        "### **Usage of tagger:**\n",
        "It provides two functionalities\n",
        "* **get_token_labels:** Prints token and entity label for each word\n",
        "* **get_tokens:** Prints a string with all entity lables for the respective tokens in the text"
      ]
    },
    {
      "cell_type": "markdown",
      "metadata": {
        "id": "AFk2HW8Tz_PQ"
      },
      "source": [
        "#### **get_token_labels:**"
      ]
    },
    {
      "cell_type": "code",
      "execution_count": null,
      "metadata": {
        "id": "mhlusjTEz_PQ",
        "outputId": "65e05e7d-a812-4309-fff0-ee1692a0e631",
        "colab": {
          "base_uri": "https://localhost:8080/"
        }
      },
      "outputs": [
        {
          "output_type": "execute_result",
          "data": {
            "text/plain": [
              "          word entity_group\n",
              "0      भारताचे     Location\n",
              "1        दुसरे      Measure\n",
              "2   राष्ट्रपती  Designation\n",
              "3          डॉ.  Designation\n",
              "4    सर्वपल्ली       Person\n",
              "5   राधाकृष्णन       Person\n",
              "6        यांचा        Other\n",
              "7     जन्मदिवस        Other\n",
              "8     म्हणजेच,        Other\n",
              "9            ५         Date\n",
              "10    सप्टेंबर         Date\n",
              "11          हा        Other\n",
              "12        दिवस        Other\n",
              "13      शिक्षक        Other\n",
              "14         दिन        Other\n",
              "15      म्हणून        Other\n",
              "16       साजरा        Other\n",
              "17     करण्यात        Other\n",
              "18       येतो.        Other"
            ],
            "text/html": [
              "\n",
              "  <div id=\"df-c620ad17-e517-48ff-8ed8-24feef5b8d21\">\n",
              "    <div class=\"colab-df-container\">\n",
              "      <div>\n",
              "<style scoped>\n",
              "    .dataframe tbody tr th:only-of-type {\n",
              "        vertical-align: middle;\n",
              "    }\n",
              "\n",
              "    .dataframe tbody tr th {\n",
              "        vertical-align: top;\n",
              "    }\n",
              "\n",
              "    .dataframe thead th {\n",
              "        text-align: right;\n",
              "    }\n",
              "</style>\n",
              "<table border=\"1\" class=\"dataframe\">\n",
              "  <thead>\n",
              "    <tr style=\"text-align: right;\">\n",
              "      <th></th>\n",
              "      <th>word</th>\n",
              "      <th>entity_group</th>\n",
              "    </tr>\n",
              "  </thead>\n",
              "  <tbody>\n",
              "    <tr>\n",
              "      <th>0</th>\n",
              "      <td>भारताचे</td>\n",
              "      <td>Location</td>\n",
              "    </tr>\n",
              "    <tr>\n",
              "      <th>1</th>\n",
              "      <td>दुसरे</td>\n",
              "      <td>Measure</td>\n",
              "    </tr>\n",
              "    <tr>\n",
              "      <th>2</th>\n",
              "      <td>राष्ट्रपती</td>\n",
              "      <td>Designation</td>\n",
              "    </tr>\n",
              "    <tr>\n",
              "      <th>3</th>\n",
              "      <td>डॉ.</td>\n",
              "      <td>Designation</td>\n",
              "    </tr>\n",
              "    <tr>\n",
              "      <th>4</th>\n",
              "      <td>सर्वपल्ली</td>\n",
              "      <td>Person</td>\n",
              "    </tr>\n",
              "    <tr>\n",
              "      <th>5</th>\n",
              "      <td>राधाकृष्णन</td>\n",
              "      <td>Person</td>\n",
              "    </tr>\n",
              "    <tr>\n",
              "      <th>6</th>\n",
              "      <td>यांचा</td>\n",
              "      <td>Other</td>\n",
              "    </tr>\n",
              "    <tr>\n",
              "      <th>7</th>\n",
              "      <td>जन्मदिवस</td>\n",
              "      <td>Other</td>\n",
              "    </tr>\n",
              "    <tr>\n",
              "      <th>8</th>\n",
              "      <td>म्हणजेच,</td>\n",
              "      <td>Other</td>\n",
              "    </tr>\n",
              "    <tr>\n",
              "      <th>9</th>\n",
              "      <td>५</td>\n",
              "      <td>Date</td>\n",
              "    </tr>\n",
              "    <tr>\n",
              "      <th>10</th>\n",
              "      <td>सप्टेंबर</td>\n",
              "      <td>Date</td>\n",
              "    </tr>\n",
              "    <tr>\n",
              "      <th>11</th>\n",
              "      <td>हा</td>\n",
              "      <td>Other</td>\n",
              "    </tr>\n",
              "    <tr>\n",
              "      <th>12</th>\n",
              "      <td>दिवस</td>\n",
              "      <td>Other</td>\n",
              "    </tr>\n",
              "    <tr>\n",
              "      <th>13</th>\n",
              "      <td>शिक्षक</td>\n",
              "      <td>Other</td>\n",
              "    </tr>\n",
              "    <tr>\n",
              "      <th>14</th>\n",
              "      <td>दिन</td>\n",
              "      <td>Other</td>\n",
              "    </tr>\n",
              "    <tr>\n",
              "      <th>15</th>\n",
              "      <td>म्हणून</td>\n",
              "      <td>Other</td>\n",
              "    </tr>\n",
              "    <tr>\n",
              "      <th>16</th>\n",
              "      <td>साजरा</td>\n",
              "      <td>Other</td>\n",
              "    </tr>\n",
              "    <tr>\n",
              "      <th>17</th>\n",
              "      <td>करण्यात</td>\n",
              "      <td>Other</td>\n",
              "    </tr>\n",
              "    <tr>\n",
              "      <th>18</th>\n",
              "      <td>येतो.</td>\n",
              "      <td>Other</td>\n",
              "    </tr>\n",
              "  </tbody>\n",
              "</table>\n",
              "</div>\n",
              "      <button class=\"colab-df-convert\" onclick=\"convertToInteractive('df-c620ad17-e517-48ff-8ed8-24feef5b8d21')\"\n",
              "              title=\"Convert this dataframe to an interactive table.\"\n",
              "              style=\"display:none;\">\n",
              "        \n",
              "  <svg xmlns=\"http://www.w3.org/2000/svg\" height=\"24px\"viewBox=\"0 0 24 24\"\n",
              "       width=\"24px\">\n",
              "    <path d=\"M0 0h24v24H0V0z\" fill=\"none\"/>\n",
              "    <path d=\"M18.56 5.44l.94 2.06.94-2.06 2.06-.94-2.06-.94-.94-2.06-.94 2.06-2.06.94zm-11 1L8.5 8.5l.94-2.06 2.06-.94-2.06-.94L8.5 2.5l-.94 2.06-2.06.94zm10 10l.94 2.06.94-2.06 2.06-.94-2.06-.94-.94-2.06-.94 2.06-2.06.94z\"/><path d=\"M17.41 7.96l-1.37-1.37c-.4-.4-.92-.59-1.43-.59-.52 0-1.04.2-1.43.59L10.3 9.45l-7.72 7.72c-.78.78-.78 2.05 0 2.83L4 21.41c.39.39.9.59 1.41.59.51 0 1.02-.2 1.41-.59l7.78-7.78 2.81-2.81c.8-.78.8-2.07 0-2.86zM5.41 20L4 18.59l7.72-7.72 1.47 1.35L5.41 20z\"/>\n",
              "  </svg>\n",
              "      </button>\n",
              "      \n",
              "  <style>\n",
              "    .colab-df-container {\n",
              "      display:flex;\n",
              "      flex-wrap:wrap;\n",
              "      gap: 12px;\n",
              "    }\n",
              "\n",
              "    .colab-df-convert {\n",
              "      background-color: #E8F0FE;\n",
              "      border: none;\n",
              "      border-radius: 50%;\n",
              "      cursor: pointer;\n",
              "      display: none;\n",
              "      fill: #1967D2;\n",
              "      height: 32px;\n",
              "      padding: 0 0 0 0;\n",
              "      width: 32px;\n",
              "    }\n",
              "\n",
              "    .colab-df-convert:hover {\n",
              "      background-color: #E2EBFA;\n",
              "      box-shadow: 0px 1px 2px rgba(60, 64, 67, 0.3), 0px 1px 3px 1px rgba(60, 64, 67, 0.15);\n",
              "      fill: #174EA6;\n",
              "    }\n",
              "\n",
              "    [theme=dark] .colab-df-convert {\n",
              "      background-color: #3B4455;\n",
              "      fill: #D2E3FC;\n",
              "    }\n",
              "\n",
              "    [theme=dark] .colab-df-convert:hover {\n",
              "      background-color: #434B5C;\n",
              "      box-shadow: 0px 1px 3px 1px rgba(0, 0, 0, 0.15);\n",
              "      filter: drop-shadow(0px 1px 2px rgba(0, 0, 0, 0.3));\n",
              "      fill: #FFFFFF;\n",
              "    }\n",
              "  </style>\n",
              "\n",
              "      <script>\n",
              "        const buttonEl =\n",
              "          document.querySelector('#df-c620ad17-e517-48ff-8ed8-24feef5b8d21 button.colab-df-convert');\n",
              "        buttonEl.style.display =\n",
              "          google.colab.kernel.accessAllowed ? 'block' : 'none';\n",
              "\n",
              "        async function convertToInteractive(key) {\n",
              "          const element = document.querySelector('#df-c620ad17-e517-48ff-8ed8-24feef5b8d21');\n",
              "          const dataTable =\n",
              "            await google.colab.kernel.invokeFunction('convertToInteractive',\n",
              "                                                     [key], {});\n",
              "          if (!dataTable) return;\n",
              "\n",
              "          const docLinkHtml = 'Like what you see? Visit the ' +\n",
              "            '<a target=\"_blank\" href=https://colab.research.google.com/notebooks/data_table.ipynb>data table notebook</a>'\n",
              "            + ' to learn more about interactive tables.';\n",
              "          element.innerHTML = '';\n",
              "          dataTable['output_type'] = 'display_data';\n",
              "          await google.colab.output.renderOutput(dataTable, element);\n",
              "          const docLink = document.createElement('div');\n",
              "          docLink.innerHTML = docLinkHtml;\n",
              "          element.appendChild(docLink);\n",
              "        }\n",
              "      </script>\n",
              "    </div>\n",
              "  </div>\n",
              "  "
            ]
          },
          "metadata": {},
          "execution_count": 26
        }
      ],
      "source": [
        "# Example:\n",
        "\n",
        "text8 = 'भारताचे दुसरे राष्ट्रपती डॉ. सर्वपल्ली राधाकृष्णन यांचा जन्मदिवस म्हणजेच, ५ सप्टेंबर हा दिवस शिक्षक दिन म्हणून साजरा करण्यात येतो.'\n",
        "# English Translation:\n",
        "# 'Second President of India Dr. Sarvapalli Radhakrishnan's birthday i.e. 5th September is celebrated as Teachers' Day.'\n",
        "model4.get_token_labels(text8)"
      ]
    },
    {
      "cell_type": "markdown",
      "metadata": {
        "id": "2GguTR0pz_PR"
      },
      "source": [
        "Optional Parameter(s):\n",
        "* **details** (minimum, medium, all) in string - Default: minimum\n",
        "  * Used to pass the detailedness to be considered like entity prediction score, start-end index of word, etc.\n",
        "* **as_dict** (True, False) in boolean - Default: False\n",
        "  * Used to define the print type"
      ]
    },
    {
      "cell_type": "code",
      "execution_count": null,
      "metadata": {
        "id": "2v5sD0X7z_PS",
        "outputId": "6e697e8d-11f6-4d8f-fa4d-fade9ca03d3c",
        "colab": {
          "base_uri": "https://localhost:8080/"
        }
      },
      "outputs": [
        {
          "output_type": "execute_result",
          "data": {
            "text/plain": [
              "          word entity_group     score\n",
              "0      भारताचे     Location  0.990536\n",
              "1        दुसरे      Measure  0.992870\n",
              "2   राष्ट्रपती  Designation  0.872445\n",
              "3          डॉ.  Designation  0.872445\n",
              "4    सर्वपल्ली       Person  0.926757\n",
              "5   राधाकृष्णन       Person  0.926757\n",
              "6        यांचा        Other  0.999950\n",
              "7     जन्मदिवस        Other  0.999950\n",
              "8     म्हणजेच,        Other  0.999950\n",
              "9            ५         Date  0.999657\n",
              "10    सप्टेंबर         Date  0.999657\n",
              "11          हा        Other  0.999919\n",
              "12        दिवस        Other  0.999919\n",
              "13      शिक्षक        Other  0.999919\n",
              "14         दिन        Other  0.999919\n",
              "15      म्हणून        Other  0.999919\n",
              "16       साजरा        Other  0.999919\n",
              "17     करण्यात        Other  0.999919\n",
              "18       येतो.        Other  0.999919"
            ],
            "text/html": [
              "\n",
              "  <div id=\"df-5cdb47f7-11a6-4b28-b87d-993a8e4c0be2\">\n",
              "    <div class=\"colab-df-container\">\n",
              "      <div>\n",
              "<style scoped>\n",
              "    .dataframe tbody tr th:only-of-type {\n",
              "        vertical-align: middle;\n",
              "    }\n",
              "\n",
              "    .dataframe tbody tr th {\n",
              "        vertical-align: top;\n",
              "    }\n",
              "\n",
              "    .dataframe thead th {\n",
              "        text-align: right;\n",
              "    }\n",
              "</style>\n",
              "<table border=\"1\" class=\"dataframe\">\n",
              "  <thead>\n",
              "    <tr style=\"text-align: right;\">\n",
              "      <th></th>\n",
              "      <th>word</th>\n",
              "      <th>entity_group</th>\n",
              "      <th>score</th>\n",
              "    </tr>\n",
              "  </thead>\n",
              "  <tbody>\n",
              "    <tr>\n",
              "      <th>0</th>\n",
              "      <td>भारताचे</td>\n",
              "      <td>Location</td>\n",
              "      <td>0.990536</td>\n",
              "    </tr>\n",
              "    <tr>\n",
              "      <th>1</th>\n",
              "      <td>दुसरे</td>\n",
              "      <td>Measure</td>\n",
              "      <td>0.992870</td>\n",
              "    </tr>\n",
              "    <tr>\n",
              "      <th>2</th>\n",
              "      <td>राष्ट्रपती</td>\n",
              "      <td>Designation</td>\n",
              "      <td>0.872445</td>\n",
              "    </tr>\n",
              "    <tr>\n",
              "      <th>3</th>\n",
              "      <td>डॉ.</td>\n",
              "      <td>Designation</td>\n",
              "      <td>0.872445</td>\n",
              "    </tr>\n",
              "    <tr>\n",
              "      <th>4</th>\n",
              "      <td>सर्वपल्ली</td>\n",
              "      <td>Person</td>\n",
              "      <td>0.926757</td>\n",
              "    </tr>\n",
              "    <tr>\n",
              "      <th>5</th>\n",
              "      <td>राधाकृष्णन</td>\n",
              "      <td>Person</td>\n",
              "      <td>0.926757</td>\n",
              "    </tr>\n",
              "    <tr>\n",
              "      <th>6</th>\n",
              "      <td>यांचा</td>\n",
              "      <td>Other</td>\n",
              "      <td>0.999950</td>\n",
              "    </tr>\n",
              "    <tr>\n",
              "      <th>7</th>\n",
              "      <td>जन्मदिवस</td>\n",
              "      <td>Other</td>\n",
              "      <td>0.999950</td>\n",
              "    </tr>\n",
              "    <tr>\n",
              "      <th>8</th>\n",
              "      <td>म्हणजेच,</td>\n",
              "      <td>Other</td>\n",
              "      <td>0.999950</td>\n",
              "    </tr>\n",
              "    <tr>\n",
              "      <th>9</th>\n",
              "      <td>५</td>\n",
              "      <td>Date</td>\n",
              "      <td>0.999657</td>\n",
              "    </tr>\n",
              "    <tr>\n",
              "      <th>10</th>\n",
              "      <td>सप्टेंबर</td>\n",
              "      <td>Date</td>\n",
              "      <td>0.999657</td>\n",
              "    </tr>\n",
              "    <tr>\n",
              "      <th>11</th>\n",
              "      <td>हा</td>\n",
              "      <td>Other</td>\n",
              "      <td>0.999919</td>\n",
              "    </tr>\n",
              "    <tr>\n",
              "      <th>12</th>\n",
              "      <td>दिवस</td>\n",
              "      <td>Other</td>\n",
              "      <td>0.999919</td>\n",
              "    </tr>\n",
              "    <tr>\n",
              "      <th>13</th>\n",
              "      <td>शिक्षक</td>\n",
              "      <td>Other</td>\n",
              "      <td>0.999919</td>\n",
              "    </tr>\n",
              "    <tr>\n",
              "      <th>14</th>\n",
              "      <td>दिन</td>\n",
              "      <td>Other</td>\n",
              "      <td>0.999919</td>\n",
              "    </tr>\n",
              "    <tr>\n",
              "      <th>15</th>\n",
              "      <td>म्हणून</td>\n",
              "      <td>Other</td>\n",
              "      <td>0.999919</td>\n",
              "    </tr>\n",
              "    <tr>\n",
              "      <th>16</th>\n",
              "      <td>साजरा</td>\n",
              "      <td>Other</td>\n",
              "      <td>0.999919</td>\n",
              "    </tr>\n",
              "    <tr>\n",
              "      <th>17</th>\n",
              "      <td>करण्यात</td>\n",
              "      <td>Other</td>\n",
              "      <td>0.999919</td>\n",
              "    </tr>\n",
              "    <tr>\n",
              "      <th>18</th>\n",
              "      <td>येतो.</td>\n",
              "      <td>Other</td>\n",
              "      <td>0.999919</td>\n",
              "    </tr>\n",
              "  </tbody>\n",
              "</table>\n",
              "</div>\n",
              "      <button class=\"colab-df-convert\" onclick=\"convertToInteractive('df-5cdb47f7-11a6-4b28-b87d-993a8e4c0be2')\"\n",
              "              title=\"Convert this dataframe to an interactive table.\"\n",
              "              style=\"display:none;\">\n",
              "        \n",
              "  <svg xmlns=\"http://www.w3.org/2000/svg\" height=\"24px\"viewBox=\"0 0 24 24\"\n",
              "       width=\"24px\">\n",
              "    <path d=\"M0 0h24v24H0V0z\" fill=\"none\"/>\n",
              "    <path d=\"M18.56 5.44l.94 2.06.94-2.06 2.06-.94-2.06-.94-.94-2.06-.94 2.06-2.06.94zm-11 1L8.5 8.5l.94-2.06 2.06-.94-2.06-.94L8.5 2.5l-.94 2.06-2.06.94zm10 10l.94 2.06.94-2.06 2.06-.94-2.06-.94-.94-2.06-.94 2.06-2.06.94z\"/><path d=\"M17.41 7.96l-1.37-1.37c-.4-.4-.92-.59-1.43-.59-.52 0-1.04.2-1.43.59L10.3 9.45l-7.72 7.72c-.78.78-.78 2.05 0 2.83L4 21.41c.39.39.9.59 1.41.59.51 0 1.02-.2 1.41-.59l7.78-7.78 2.81-2.81c.8-.78.8-2.07 0-2.86zM5.41 20L4 18.59l7.72-7.72 1.47 1.35L5.41 20z\"/>\n",
              "  </svg>\n",
              "      </button>\n",
              "      \n",
              "  <style>\n",
              "    .colab-df-container {\n",
              "      display:flex;\n",
              "      flex-wrap:wrap;\n",
              "      gap: 12px;\n",
              "    }\n",
              "\n",
              "    .colab-df-convert {\n",
              "      background-color: #E8F0FE;\n",
              "      border: none;\n",
              "      border-radius: 50%;\n",
              "      cursor: pointer;\n",
              "      display: none;\n",
              "      fill: #1967D2;\n",
              "      height: 32px;\n",
              "      padding: 0 0 0 0;\n",
              "      width: 32px;\n",
              "    }\n",
              "\n",
              "    .colab-df-convert:hover {\n",
              "      background-color: #E2EBFA;\n",
              "      box-shadow: 0px 1px 2px rgba(60, 64, 67, 0.3), 0px 1px 3px 1px rgba(60, 64, 67, 0.15);\n",
              "      fill: #174EA6;\n",
              "    }\n",
              "\n",
              "    [theme=dark] .colab-df-convert {\n",
              "      background-color: #3B4455;\n",
              "      fill: #D2E3FC;\n",
              "    }\n",
              "\n",
              "    [theme=dark] .colab-df-convert:hover {\n",
              "      background-color: #434B5C;\n",
              "      box-shadow: 0px 1px 3px 1px rgba(0, 0, 0, 0.15);\n",
              "      filter: drop-shadow(0px 1px 2px rgba(0, 0, 0, 0.3));\n",
              "      fill: #FFFFFF;\n",
              "    }\n",
              "  </style>\n",
              "\n",
              "      <script>\n",
              "        const buttonEl =\n",
              "          document.querySelector('#df-5cdb47f7-11a6-4b28-b87d-993a8e4c0be2 button.colab-df-convert');\n",
              "        buttonEl.style.display =\n",
              "          google.colab.kernel.accessAllowed ? 'block' : 'none';\n",
              "\n",
              "        async function convertToInteractive(key) {\n",
              "          const element = document.querySelector('#df-5cdb47f7-11a6-4b28-b87d-993a8e4c0be2');\n",
              "          const dataTable =\n",
              "            await google.colab.kernel.invokeFunction('convertToInteractive',\n",
              "                                                     [key], {});\n",
              "          if (!dataTable) return;\n",
              "\n",
              "          const docLinkHtml = 'Like what you see? Visit the ' +\n",
              "            '<a target=\"_blank\" href=https://colab.research.google.com/notebooks/data_table.ipynb>data table notebook</a>'\n",
              "            + ' to learn more about interactive tables.';\n",
              "          element.innerHTML = '';\n",
              "          dataTable['output_type'] = 'display_data';\n",
              "          await google.colab.output.renderOutput(dataTable, element);\n",
              "          const docLink = document.createElement('div');\n",
              "          docLink.innerHTML = docLinkHtml;\n",
              "          element.appendChild(docLink);\n",
              "        }\n",
              "      </script>\n",
              "    </div>\n",
              "  </div>\n",
              "  "
            ]
          },
          "metadata": {},
          "execution_count": 27
        }
      ],
      "source": [
        "model4.get_token_labels(text8, details = 'medium', as_dict = False)"
      ]
    },
    {
      "cell_type": "code",
      "execution_count": null,
      "metadata": {
        "id": "7nnu9tdnz_PS",
        "outputId": "0997601c-fa9b-4970-e5aa-5295a362a043",
        "colab": {
          "base_uri": "https://localhost:8080/"
        }
      },
      "outputs": [
        {
          "output_type": "execute_result",
          "data": {
            "text/plain": [
              "          word entity_group     score  start  end\n",
              "0      भारताचे     Location  0.990536      0    7\n",
              "1        दुसरे      Measure  0.992870      8   13\n",
              "2   राष्ट्रपती  Designation  0.872445     14   28\n",
              "3          डॉ.  Designation  0.872445     14   28\n",
              "4    सर्वपल्ली       Person  0.926757     29   49\n",
              "5   राधाकृष्णन       Person  0.926757     29   49\n",
              "6        यांचा        Other  0.999950     50   73\n",
              "7     जन्मदिवस        Other  0.999950     50   73\n",
              "8     म्हणजेच,        Other  0.999950     50   73\n",
              "9            ५         Date  0.999657     74   84\n",
              "10    सप्टेंबर         Date  0.999657     74   84\n",
              "11          हा        Other  0.999919     85  130\n",
              "12        दिवस        Other  0.999919     85  130\n",
              "13      शिक्षक        Other  0.999919     85  130\n",
              "14         दिन        Other  0.999919     85  130\n",
              "15      म्हणून        Other  0.999919     85  130\n",
              "16       साजरा        Other  0.999919     85  130\n",
              "17     करण्यात        Other  0.999919     85  130\n",
              "18       येतो.        Other  0.999919     85  130"
            ],
            "text/html": [
              "\n",
              "  <div id=\"df-330b9670-1217-47fd-a368-eaf1c95a045c\">\n",
              "    <div class=\"colab-df-container\">\n",
              "      <div>\n",
              "<style scoped>\n",
              "    .dataframe tbody tr th:only-of-type {\n",
              "        vertical-align: middle;\n",
              "    }\n",
              "\n",
              "    .dataframe tbody tr th {\n",
              "        vertical-align: top;\n",
              "    }\n",
              "\n",
              "    .dataframe thead th {\n",
              "        text-align: right;\n",
              "    }\n",
              "</style>\n",
              "<table border=\"1\" class=\"dataframe\">\n",
              "  <thead>\n",
              "    <tr style=\"text-align: right;\">\n",
              "      <th></th>\n",
              "      <th>word</th>\n",
              "      <th>entity_group</th>\n",
              "      <th>score</th>\n",
              "      <th>start</th>\n",
              "      <th>end</th>\n",
              "    </tr>\n",
              "  </thead>\n",
              "  <tbody>\n",
              "    <tr>\n",
              "      <th>0</th>\n",
              "      <td>भारताचे</td>\n",
              "      <td>Location</td>\n",
              "      <td>0.990536</td>\n",
              "      <td>0</td>\n",
              "      <td>7</td>\n",
              "    </tr>\n",
              "    <tr>\n",
              "      <th>1</th>\n",
              "      <td>दुसरे</td>\n",
              "      <td>Measure</td>\n",
              "      <td>0.992870</td>\n",
              "      <td>8</td>\n",
              "      <td>13</td>\n",
              "    </tr>\n",
              "    <tr>\n",
              "      <th>2</th>\n",
              "      <td>राष्ट्रपती</td>\n",
              "      <td>Designation</td>\n",
              "      <td>0.872445</td>\n",
              "      <td>14</td>\n",
              "      <td>28</td>\n",
              "    </tr>\n",
              "    <tr>\n",
              "      <th>3</th>\n",
              "      <td>डॉ.</td>\n",
              "      <td>Designation</td>\n",
              "      <td>0.872445</td>\n",
              "      <td>14</td>\n",
              "      <td>28</td>\n",
              "    </tr>\n",
              "    <tr>\n",
              "      <th>4</th>\n",
              "      <td>सर्वपल्ली</td>\n",
              "      <td>Person</td>\n",
              "      <td>0.926757</td>\n",
              "      <td>29</td>\n",
              "      <td>49</td>\n",
              "    </tr>\n",
              "    <tr>\n",
              "      <th>5</th>\n",
              "      <td>राधाकृष्णन</td>\n",
              "      <td>Person</td>\n",
              "      <td>0.926757</td>\n",
              "      <td>29</td>\n",
              "      <td>49</td>\n",
              "    </tr>\n",
              "    <tr>\n",
              "      <th>6</th>\n",
              "      <td>यांचा</td>\n",
              "      <td>Other</td>\n",
              "      <td>0.999950</td>\n",
              "      <td>50</td>\n",
              "      <td>73</td>\n",
              "    </tr>\n",
              "    <tr>\n",
              "      <th>7</th>\n",
              "      <td>जन्मदिवस</td>\n",
              "      <td>Other</td>\n",
              "      <td>0.999950</td>\n",
              "      <td>50</td>\n",
              "      <td>73</td>\n",
              "    </tr>\n",
              "    <tr>\n",
              "      <th>8</th>\n",
              "      <td>म्हणजेच,</td>\n",
              "      <td>Other</td>\n",
              "      <td>0.999950</td>\n",
              "      <td>50</td>\n",
              "      <td>73</td>\n",
              "    </tr>\n",
              "    <tr>\n",
              "      <th>9</th>\n",
              "      <td>५</td>\n",
              "      <td>Date</td>\n",
              "      <td>0.999657</td>\n",
              "      <td>74</td>\n",
              "      <td>84</td>\n",
              "    </tr>\n",
              "    <tr>\n",
              "      <th>10</th>\n",
              "      <td>सप्टेंबर</td>\n",
              "      <td>Date</td>\n",
              "      <td>0.999657</td>\n",
              "      <td>74</td>\n",
              "      <td>84</td>\n",
              "    </tr>\n",
              "    <tr>\n",
              "      <th>11</th>\n",
              "      <td>हा</td>\n",
              "      <td>Other</td>\n",
              "      <td>0.999919</td>\n",
              "      <td>85</td>\n",
              "      <td>130</td>\n",
              "    </tr>\n",
              "    <tr>\n",
              "      <th>12</th>\n",
              "      <td>दिवस</td>\n",
              "      <td>Other</td>\n",
              "      <td>0.999919</td>\n",
              "      <td>85</td>\n",
              "      <td>130</td>\n",
              "    </tr>\n",
              "    <tr>\n",
              "      <th>13</th>\n",
              "      <td>शिक्षक</td>\n",
              "      <td>Other</td>\n",
              "      <td>0.999919</td>\n",
              "      <td>85</td>\n",
              "      <td>130</td>\n",
              "    </tr>\n",
              "    <tr>\n",
              "      <th>14</th>\n",
              "      <td>दिन</td>\n",
              "      <td>Other</td>\n",
              "      <td>0.999919</td>\n",
              "      <td>85</td>\n",
              "      <td>130</td>\n",
              "    </tr>\n",
              "    <tr>\n",
              "      <th>15</th>\n",
              "      <td>म्हणून</td>\n",
              "      <td>Other</td>\n",
              "      <td>0.999919</td>\n",
              "      <td>85</td>\n",
              "      <td>130</td>\n",
              "    </tr>\n",
              "    <tr>\n",
              "      <th>16</th>\n",
              "      <td>साजरा</td>\n",
              "      <td>Other</td>\n",
              "      <td>0.999919</td>\n",
              "      <td>85</td>\n",
              "      <td>130</td>\n",
              "    </tr>\n",
              "    <tr>\n",
              "      <th>17</th>\n",
              "      <td>करण्यात</td>\n",
              "      <td>Other</td>\n",
              "      <td>0.999919</td>\n",
              "      <td>85</td>\n",
              "      <td>130</td>\n",
              "    </tr>\n",
              "    <tr>\n",
              "      <th>18</th>\n",
              "      <td>येतो.</td>\n",
              "      <td>Other</td>\n",
              "      <td>0.999919</td>\n",
              "      <td>85</td>\n",
              "      <td>130</td>\n",
              "    </tr>\n",
              "  </tbody>\n",
              "</table>\n",
              "</div>\n",
              "      <button class=\"colab-df-convert\" onclick=\"convertToInteractive('df-330b9670-1217-47fd-a368-eaf1c95a045c')\"\n",
              "              title=\"Convert this dataframe to an interactive table.\"\n",
              "              style=\"display:none;\">\n",
              "        \n",
              "  <svg xmlns=\"http://www.w3.org/2000/svg\" height=\"24px\"viewBox=\"0 0 24 24\"\n",
              "       width=\"24px\">\n",
              "    <path d=\"M0 0h24v24H0V0z\" fill=\"none\"/>\n",
              "    <path d=\"M18.56 5.44l.94 2.06.94-2.06 2.06-.94-2.06-.94-.94-2.06-.94 2.06-2.06.94zm-11 1L8.5 8.5l.94-2.06 2.06-.94-2.06-.94L8.5 2.5l-.94 2.06-2.06.94zm10 10l.94 2.06.94-2.06 2.06-.94-2.06-.94-.94-2.06-.94 2.06-2.06.94z\"/><path d=\"M17.41 7.96l-1.37-1.37c-.4-.4-.92-.59-1.43-.59-.52 0-1.04.2-1.43.59L10.3 9.45l-7.72 7.72c-.78.78-.78 2.05 0 2.83L4 21.41c.39.39.9.59 1.41.59.51 0 1.02-.2 1.41-.59l7.78-7.78 2.81-2.81c.8-.78.8-2.07 0-2.86zM5.41 20L4 18.59l7.72-7.72 1.47 1.35L5.41 20z\"/>\n",
              "  </svg>\n",
              "      </button>\n",
              "      \n",
              "  <style>\n",
              "    .colab-df-container {\n",
              "      display:flex;\n",
              "      flex-wrap:wrap;\n",
              "      gap: 12px;\n",
              "    }\n",
              "\n",
              "    .colab-df-convert {\n",
              "      background-color: #E8F0FE;\n",
              "      border: none;\n",
              "      border-radius: 50%;\n",
              "      cursor: pointer;\n",
              "      display: none;\n",
              "      fill: #1967D2;\n",
              "      height: 32px;\n",
              "      padding: 0 0 0 0;\n",
              "      width: 32px;\n",
              "    }\n",
              "\n",
              "    .colab-df-convert:hover {\n",
              "      background-color: #E2EBFA;\n",
              "      box-shadow: 0px 1px 2px rgba(60, 64, 67, 0.3), 0px 1px 3px 1px rgba(60, 64, 67, 0.15);\n",
              "      fill: #174EA6;\n",
              "    }\n",
              "\n",
              "    [theme=dark] .colab-df-convert {\n",
              "      background-color: #3B4455;\n",
              "      fill: #D2E3FC;\n",
              "    }\n",
              "\n",
              "    [theme=dark] .colab-df-convert:hover {\n",
              "      background-color: #434B5C;\n",
              "      box-shadow: 0px 1px 3px 1px rgba(0, 0, 0, 0.15);\n",
              "      filter: drop-shadow(0px 1px 2px rgba(0, 0, 0, 0.3));\n",
              "      fill: #FFFFFF;\n",
              "    }\n",
              "  </style>\n",
              "\n",
              "      <script>\n",
              "        const buttonEl =\n",
              "          document.querySelector('#df-330b9670-1217-47fd-a368-eaf1c95a045c button.colab-df-convert');\n",
              "        buttonEl.style.display =\n",
              "          google.colab.kernel.accessAllowed ? 'block' : 'none';\n",
              "\n",
              "        async function convertToInteractive(key) {\n",
              "          const element = document.querySelector('#df-330b9670-1217-47fd-a368-eaf1c95a045c');\n",
              "          const dataTable =\n",
              "            await google.colab.kernel.invokeFunction('convertToInteractive',\n",
              "                                                     [key], {});\n",
              "          if (!dataTable) return;\n",
              "\n",
              "          const docLinkHtml = 'Like what you see? Visit the ' +\n",
              "            '<a target=\"_blank\" href=https://colab.research.google.com/notebooks/data_table.ipynb>data table notebook</a>'\n",
              "            + ' to learn more about interactive tables.';\n",
              "          element.innerHTML = '';\n",
              "          dataTable['output_type'] = 'display_data';\n",
              "          await google.colab.output.renderOutput(dataTable, element);\n",
              "          const docLink = document.createElement('div');\n",
              "          docLink.innerHTML = docLinkHtml;\n",
              "          element.appendChild(docLink);\n",
              "        }\n",
              "      </script>\n",
              "    </div>\n",
              "  </div>\n",
              "  "
            ]
          },
          "metadata": {},
          "execution_count": 28
        }
      ],
      "source": [
        "model4.get_token_labels(text8, details = 'all', as_dict = False)"
      ]
    },
    {
      "cell_type": "code",
      "execution_count": null,
      "metadata": {
        "id": "f1ss1Jd1z_PS",
        "outputId": "3fe4acbe-cd56-4c22-f54b-684323535a7e",
        "colab": {
          "base_uri": "https://localhost:8080/"
        }
      },
      "outputs": [
        {
          "output_type": "execute_result",
          "data": {
            "text/plain": [
              "[{'word': 'भारताचे',\n",
              "  'entity_group': 'Location',\n",
              "  'score': 0.99053555727005,\n",
              "  'start': 0,\n",
              "  'end': 7},\n",
              " {'word': 'दुसरे',\n",
              "  'entity_group': 'Measure',\n",
              "  'score': 0.9928703904151917,\n",
              "  'start': 8,\n",
              "  'end': 13},\n",
              " {'word': 'राष्ट्रपती',\n",
              "  'entity_group': 'Designation',\n",
              "  'score': 0.8724448084831238,\n",
              "  'start': 14,\n",
              "  'end': 28},\n",
              " {'word': 'डॉ.',\n",
              "  'entity_group': 'Designation',\n",
              "  'score': 0.8724448084831238,\n",
              "  'start': 14,\n",
              "  'end': 28},\n",
              " {'word': 'सर्वपल्ली',\n",
              "  'entity_group': 'Person',\n",
              "  'score': 0.9267566204071045,\n",
              "  'start': 29,\n",
              "  'end': 49},\n",
              " {'word': 'राधाकृष्णन',\n",
              "  'entity_group': 'Person',\n",
              "  'score': 0.9267566204071045,\n",
              "  'start': 29,\n",
              "  'end': 49},\n",
              " {'word': 'यांचा',\n",
              "  'entity_group': 'Other',\n",
              "  'score': 0.9999501705169678,\n",
              "  'start': 50,\n",
              "  'end': 73},\n",
              " {'word': 'जन्मदिवस',\n",
              "  'entity_group': 'Other',\n",
              "  'score': 0.9999501705169678,\n",
              "  'start': 50,\n",
              "  'end': 73},\n",
              " {'word': 'म्हणजेच,',\n",
              "  'entity_group': 'Other',\n",
              "  'score': 0.9999501705169678,\n",
              "  'start': 50,\n",
              "  'end': 73},\n",
              " {'word': '५',\n",
              "  'entity_group': 'Date',\n",
              "  'score': 0.9996570944786072,\n",
              "  'start': 74,\n",
              "  'end': 84},\n",
              " {'word': 'सप्टेंबर',\n",
              "  'entity_group': 'Date',\n",
              "  'score': 0.9996570944786072,\n",
              "  'start': 74,\n",
              "  'end': 84},\n",
              " {'word': 'हा',\n",
              "  'entity_group': 'Other',\n",
              "  'score': 0.9999191761016846,\n",
              "  'start': 85,\n",
              "  'end': 130},\n",
              " {'word': 'दिवस',\n",
              "  'entity_group': 'Other',\n",
              "  'score': 0.9999191761016846,\n",
              "  'start': 85,\n",
              "  'end': 130},\n",
              " {'word': 'शिक्षक',\n",
              "  'entity_group': 'Other',\n",
              "  'score': 0.9999191761016846,\n",
              "  'start': 85,\n",
              "  'end': 130},\n",
              " {'word': 'दिन',\n",
              "  'entity_group': 'Other',\n",
              "  'score': 0.9999191761016846,\n",
              "  'start': 85,\n",
              "  'end': 130},\n",
              " {'word': 'म्हणून',\n",
              "  'entity_group': 'Other',\n",
              "  'score': 0.9999191761016846,\n",
              "  'start': 85,\n",
              "  'end': 130},\n",
              " {'word': 'साजरा',\n",
              "  'entity_group': 'Other',\n",
              "  'score': 0.9999191761016846,\n",
              "  'start': 85,\n",
              "  'end': 130},\n",
              " {'word': 'करण्यात',\n",
              "  'entity_group': 'Other',\n",
              "  'score': 0.9999191761016846,\n",
              "  'start': 85,\n",
              "  'end': 130},\n",
              " {'word': 'येतो.',\n",
              "  'entity_group': 'Other',\n",
              "  'score': 0.9999191761016846,\n",
              "  'start': 85,\n",
              "  'end': 130}]"
            ]
          },
          "metadata": {},
          "execution_count": 29
        }
      ],
      "source": [
        "model4.get_token_labels(text8, details = 'all', as_dict = 'True')\n",
        "# prints in dictionary form"
      ]
    },
    {
      "cell_type": "markdown",
      "metadata": {
        "id": "JXiRJnYJz_PT"
      },
      "source": [
        "#### **get_tokens:**"
      ]
    },
    {
      "cell_type": "code",
      "execution_count": null,
      "metadata": {
        "id": "Oh2dCEmiz_PT",
        "outputId": "afb75bb8-8b76-40a5-cb46-8b1a2617bf2a",
        "colab": {
          "base_uri": "https://localhost:8080/"
        }
      },
      "outputs": [
        {
          "output_type": "execute_result",
          "data": {
            "text/plain": [
              "'Location Measure Designation Designation Person Person Other Other Other Date Date Other Other Other Other Other Other Other Other'"
            ],
            "application/vnd.google.colaboratory.intrinsic+json": {
              "type": "string"
            }
          },
          "metadata": {},
          "execution_count": 30
        }
      ],
      "source": [
        "# Example:\n",
        "\n",
        "model4.get_tokens(text8)"
      ]
    },
    {
      "cell_type": "markdown",
      "metadata": {
        "id": "Hc_eLdnFz_PT"
      },
      "source": [
        "***"
      ]
    },
    {
      "cell_type": "markdown",
      "metadata": {
        "id": "RcMuGamKz_PU"
      },
      "source": [
        "### **f. MaskFill:**"
      ]
    },
    {
      "cell_type": "markdown",
      "metadata": {
        "id": "pE0XUoKlz_PU"
      },
      "source": [
        "#### import"
      ]
    },
    {
      "cell_type": "code",
      "execution_count": null,
      "metadata": {
        "id": "2h6TFkfpz_PU"
      },
      "outputs": [],
      "source": [
        "from mahaNLP.mask_fill import MaskPredictor"
      ]
    },
    {
      "cell_type": "markdown",
      "metadata": {
        "id": "t97QkDKTz_PV"
      },
      "source": [
        "#### create an object"
      ]
    },
    {
      "cell_type": "code",
      "execution_count": null,
      "metadata": {
        "id": "YhZpYxcAz_PV"
      },
      "outputs": [],
      "source": [
        "model5 = MaskPredictor()"
      ]
    },
    {
      "cell_type": "markdown",
      "metadata": {
        "id": "KACA6EKMpN-m"
      },
      "source": [
        "### **Usage of maskFill:**\n",
        "It provides one functionality\n",
        "* **predict_mask:** Predicts the masked token"
      ]
    },
    {
      "cell_type": "code",
      "execution_count": null,
      "metadata": {
        "colab": {
          "base_uri": "https://localhost:8080/"
        },
        "id": "4yRJFZHjsvzH",
        "outputId": "6756d64e-534e-4b32-d44a-599498321a68"
      },
      "outputs": [
        {
          "output_type": "execute_result",
          "data": {
            "text/plain": [
              "  token_str                 sequence\n",
              "0       आहे     मी महाराष्ट्रात आहे.\n",
              "1    राहणार  मी महाराष्ट्रात राहणार.\n",
              "2      नाही    मी महाराष्ट्रात नाही.\n",
              "3       ##च        मी महाराष्ट्रातच.\n",
              "4     राहतो   मी महाराष्ट्रात राहतो."
            ],
            "text/html": [
              "\n",
              "  <div id=\"df-cc205b10-abc3-43fb-a365-91a479257ce4\">\n",
              "    <div class=\"colab-df-container\">\n",
              "      <div>\n",
              "<style scoped>\n",
              "    .dataframe tbody tr th:only-of-type {\n",
              "        vertical-align: middle;\n",
              "    }\n",
              "\n",
              "    .dataframe tbody tr th {\n",
              "        vertical-align: top;\n",
              "    }\n",
              "\n",
              "    .dataframe thead th {\n",
              "        text-align: right;\n",
              "    }\n",
              "</style>\n",
              "<table border=\"1\" class=\"dataframe\">\n",
              "  <thead>\n",
              "    <tr style=\"text-align: right;\">\n",
              "      <th></th>\n",
              "      <th>token_str</th>\n",
              "      <th>sequence</th>\n",
              "    </tr>\n",
              "  </thead>\n",
              "  <tbody>\n",
              "    <tr>\n",
              "      <th>0</th>\n",
              "      <td>आहे</td>\n",
              "      <td>मी महाराष्ट्रात आहे.</td>\n",
              "    </tr>\n",
              "    <tr>\n",
              "      <th>1</th>\n",
              "      <td>राहणार</td>\n",
              "      <td>मी महाराष्ट्रात राहणार.</td>\n",
              "    </tr>\n",
              "    <tr>\n",
              "      <th>2</th>\n",
              "      <td>नाही</td>\n",
              "      <td>मी महाराष्ट्रात नाही.</td>\n",
              "    </tr>\n",
              "    <tr>\n",
              "      <th>3</th>\n",
              "      <td>##च</td>\n",
              "      <td>मी महाराष्ट्रातच.</td>\n",
              "    </tr>\n",
              "    <tr>\n",
              "      <th>4</th>\n",
              "      <td>राहतो</td>\n",
              "      <td>मी महाराष्ट्रात राहतो.</td>\n",
              "    </tr>\n",
              "  </tbody>\n",
              "</table>\n",
              "</div>\n",
              "      <button class=\"colab-df-convert\" onclick=\"convertToInteractive('df-cc205b10-abc3-43fb-a365-91a479257ce4')\"\n",
              "              title=\"Convert this dataframe to an interactive table.\"\n",
              "              style=\"display:none;\">\n",
              "        \n",
              "  <svg xmlns=\"http://www.w3.org/2000/svg\" height=\"24px\"viewBox=\"0 0 24 24\"\n",
              "       width=\"24px\">\n",
              "    <path d=\"M0 0h24v24H0V0z\" fill=\"none\"/>\n",
              "    <path d=\"M18.56 5.44l.94 2.06.94-2.06 2.06-.94-2.06-.94-.94-2.06-.94 2.06-2.06.94zm-11 1L8.5 8.5l.94-2.06 2.06-.94-2.06-.94L8.5 2.5l-.94 2.06-2.06.94zm10 10l.94 2.06.94-2.06 2.06-.94-2.06-.94-.94-2.06-.94 2.06-2.06.94z\"/><path d=\"M17.41 7.96l-1.37-1.37c-.4-.4-.92-.59-1.43-.59-.52 0-1.04.2-1.43.59L10.3 9.45l-7.72 7.72c-.78.78-.78 2.05 0 2.83L4 21.41c.39.39.9.59 1.41.59.51 0 1.02-.2 1.41-.59l7.78-7.78 2.81-2.81c.8-.78.8-2.07 0-2.86zM5.41 20L4 18.59l7.72-7.72 1.47 1.35L5.41 20z\"/>\n",
              "  </svg>\n",
              "      </button>\n",
              "      \n",
              "  <style>\n",
              "    .colab-df-container {\n",
              "      display:flex;\n",
              "      flex-wrap:wrap;\n",
              "      gap: 12px;\n",
              "    }\n",
              "\n",
              "    .colab-df-convert {\n",
              "      background-color: #E8F0FE;\n",
              "      border: none;\n",
              "      border-radius: 50%;\n",
              "      cursor: pointer;\n",
              "      display: none;\n",
              "      fill: #1967D2;\n",
              "      height: 32px;\n",
              "      padding: 0 0 0 0;\n",
              "      width: 32px;\n",
              "    }\n",
              "\n",
              "    .colab-df-convert:hover {\n",
              "      background-color: #E2EBFA;\n",
              "      box-shadow: 0px 1px 2px rgba(60, 64, 67, 0.3), 0px 1px 3px 1px rgba(60, 64, 67, 0.15);\n",
              "      fill: #174EA6;\n",
              "    }\n",
              "\n",
              "    [theme=dark] .colab-df-convert {\n",
              "      background-color: #3B4455;\n",
              "      fill: #D2E3FC;\n",
              "    }\n",
              "\n",
              "    [theme=dark] .colab-df-convert:hover {\n",
              "      background-color: #434B5C;\n",
              "      box-shadow: 0px 1px 3px 1px rgba(0, 0, 0, 0.15);\n",
              "      filter: drop-shadow(0px 1px 2px rgba(0, 0, 0, 0.3));\n",
              "      fill: #FFFFFF;\n",
              "    }\n",
              "  </style>\n",
              "\n",
              "      <script>\n",
              "        const buttonEl =\n",
              "          document.querySelector('#df-cc205b10-abc3-43fb-a365-91a479257ce4 button.colab-df-convert');\n",
              "        buttonEl.style.display =\n",
              "          google.colab.kernel.accessAllowed ? 'block' : 'none';\n",
              "\n",
              "        async function convertToInteractive(key) {\n",
              "          const element = document.querySelector('#df-cc205b10-abc3-43fb-a365-91a479257ce4');\n",
              "          const dataTable =\n",
              "            await google.colab.kernel.invokeFunction('convertToInteractive',\n",
              "                                                     [key], {});\n",
              "          if (!dataTable) return;\n",
              "\n",
              "          const docLinkHtml = 'Like what you see? Visit the ' +\n",
              "            '<a target=\"_blank\" href=https://colab.research.google.com/notebooks/data_table.ipynb>data table notebook</a>'\n",
              "            + ' to learn more about interactive tables.';\n",
              "          element.innerHTML = '';\n",
              "          dataTable['output_type'] = 'display_data';\n",
              "          await google.colab.output.renderOutput(dataTable, element);\n",
              "          const docLink = document.createElement('div');\n",
              "          docLink.innerHTML = docLinkHtml;\n",
              "          element.appendChild(docLink);\n",
              "        }\n",
              "      </script>\n",
              "    </div>\n",
              "  </div>\n",
              "  "
            ]
          },
          "metadata": {},
          "execution_count": 33
        }
      ],
      "source": [
        "# Example\n",
        "\n",
        "# pass the string with the word to be predicted replaced with '[MASK]'\n",
        "text9 = 'मी महाराष्ट्रात [MASK].'\n",
        "# English Translation:\n",
        "# 'I in Maharashtra [MASK]'\n",
        "\n",
        "model5.predict_mask(text9)"
      ]
    },
    {
      "cell_type": "markdown",
      "metadata": {
        "id": "aefqejbwq3qo"
      },
      "source": [
        "Optional Parameter(s):\n",
        "* **details** (minimum, medium, all) in string - Default: minimum\n",
        "  * Used to pass the detailedness to be considered\n",
        "* **as_dict** (True, False) in boolean - Default: False\n",
        "  * Used to define the print type"
      ]
    },
    {
      "cell_type": "code",
      "execution_count": null,
      "metadata": {
        "colab": {
          "base_uri": "https://localhost:8080/"
        },
        "id": "NkQkLnW1q0ro",
        "outputId": "6b00bf4b-0f54-4dd7-e314-063fd3c1b178",
        "scrolled": true
      },
      "outputs": [
        {
          "output_type": "execute_result",
          "data": {
            "text/plain": [
              "  token_str     score                 sequence\n",
              "0       आहे  0.465607     मी महाराष्ट्रात आहे.\n",
              "1    राहणार  0.079688  मी महाराष्ट्रात राहणार.\n",
              "2      नाही  0.074000    मी महाराष्ट्रात नाही.\n",
              "3       ##च  0.050423        मी महाराष्ट्रातच.\n",
              "4     राहतो  0.043737   मी महाराष्ट्रात राहतो."
            ],
            "text/html": [
              "\n",
              "  <div id=\"df-43b9101d-7c00-4ca0-b2d6-3e37f48ef9e6\">\n",
              "    <div class=\"colab-df-container\">\n",
              "      <div>\n",
              "<style scoped>\n",
              "    .dataframe tbody tr th:only-of-type {\n",
              "        vertical-align: middle;\n",
              "    }\n",
              "\n",
              "    .dataframe tbody tr th {\n",
              "        vertical-align: top;\n",
              "    }\n",
              "\n",
              "    .dataframe thead th {\n",
              "        text-align: right;\n",
              "    }\n",
              "</style>\n",
              "<table border=\"1\" class=\"dataframe\">\n",
              "  <thead>\n",
              "    <tr style=\"text-align: right;\">\n",
              "      <th></th>\n",
              "      <th>token_str</th>\n",
              "      <th>score</th>\n",
              "      <th>sequence</th>\n",
              "    </tr>\n",
              "  </thead>\n",
              "  <tbody>\n",
              "    <tr>\n",
              "      <th>0</th>\n",
              "      <td>आहे</td>\n",
              "      <td>0.465607</td>\n",
              "      <td>मी महाराष्ट्रात आहे.</td>\n",
              "    </tr>\n",
              "    <tr>\n",
              "      <th>1</th>\n",
              "      <td>राहणार</td>\n",
              "      <td>0.079688</td>\n",
              "      <td>मी महाराष्ट्रात राहणार.</td>\n",
              "    </tr>\n",
              "    <tr>\n",
              "      <th>2</th>\n",
              "      <td>नाही</td>\n",
              "      <td>0.074000</td>\n",
              "      <td>मी महाराष्ट्रात नाही.</td>\n",
              "    </tr>\n",
              "    <tr>\n",
              "      <th>3</th>\n",
              "      <td>##च</td>\n",
              "      <td>0.050423</td>\n",
              "      <td>मी महाराष्ट्रातच.</td>\n",
              "    </tr>\n",
              "    <tr>\n",
              "      <th>4</th>\n",
              "      <td>राहतो</td>\n",
              "      <td>0.043737</td>\n",
              "      <td>मी महाराष्ट्रात राहतो.</td>\n",
              "    </tr>\n",
              "  </tbody>\n",
              "</table>\n",
              "</div>\n",
              "      <button class=\"colab-df-convert\" onclick=\"convertToInteractive('df-43b9101d-7c00-4ca0-b2d6-3e37f48ef9e6')\"\n",
              "              title=\"Convert this dataframe to an interactive table.\"\n",
              "              style=\"display:none;\">\n",
              "        \n",
              "  <svg xmlns=\"http://www.w3.org/2000/svg\" height=\"24px\"viewBox=\"0 0 24 24\"\n",
              "       width=\"24px\">\n",
              "    <path d=\"M0 0h24v24H0V0z\" fill=\"none\"/>\n",
              "    <path d=\"M18.56 5.44l.94 2.06.94-2.06 2.06-.94-2.06-.94-.94-2.06-.94 2.06-2.06.94zm-11 1L8.5 8.5l.94-2.06 2.06-.94-2.06-.94L8.5 2.5l-.94 2.06-2.06.94zm10 10l.94 2.06.94-2.06 2.06-.94-2.06-.94-.94-2.06-.94 2.06-2.06.94z\"/><path d=\"M17.41 7.96l-1.37-1.37c-.4-.4-.92-.59-1.43-.59-.52 0-1.04.2-1.43.59L10.3 9.45l-7.72 7.72c-.78.78-.78 2.05 0 2.83L4 21.41c.39.39.9.59 1.41.59.51 0 1.02-.2 1.41-.59l7.78-7.78 2.81-2.81c.8-.78.8-2.07 0-2.86zM5.41 20L4 18.59l7.72-7.72 1.47 1.35L5.41 20z\"/>\n",
              "  </svg>\n",
              "      </button>\n",
              "      \n",
              "  <style>\n",
              "    .colab-df-container {\n",
              "      display:flex;\n",
              "      flex-wrap:wrap;\n",
              "      gap: 12px;\n",
              "    }\n",
              "\n",
              "    .colab-df-convert {\n",
              "      background-color: #E8F0FE;\n",
              "      border: none;\n",
              "      border-radius: 50%;\n",
              "      cursor: pointer;\n",
              "      display: none;\n",
              "      fill: #1967D2;\n",
              "      height: 32px;\n",
              "      padding: 0 0 0 0;\n",
              "      width: 32px;\n",
              "    }\n",
              "\n",
              "    .colab-df-convert:hover {\n",
              "      background-color: #E2EBFA;\n",
              "      box-shadow: 0px 1px 2px rgba(60, 64, 67, 0.3), 0px 1px 3px 1px rgba(60, 64, 67, 0.15);\n",
              "      fill: #174EA6;\n",
              "    }\n",
              "\n",
              "    [theme=dark] .colab-df-convert {\n",
              "      background-color: #3B4455;\n",
              "      fill: #D2E3FC;\n",
              "    }\n",
              "\n",
              "    [theme=dark] .colab-df-convert:hover {\n",
              "      background-color: #434B5C;\n",
              "      box-shadow: 0px 1px 3px 1px rgba(0, 0, 0, 0.15);\n",
              "      filter: drop-shadow(0px 1px 2px rgba(0, 0, 0, 0.3));\n",
              "      fill: #FFFFFF;\n",
              "    }\n",
              "  </style>\n",
              "\n",
              "      <script>\n",
              "        const buttonEl =\n",
              "          document.querySelector('#df-43b9101d-7c00-4ca0-b2d6-3e37f48ef9e6 button.colab-df-convert');\n",
              "        buttonEl.style.display =\n",
              "          google.colab.kernel.accessAllowed ? 'block' : 'none';\n",
              "\n",
              "        async function convertToInteractive(key) {\n",
              "          const element = document.querySelector('#df-43b9101d-7c00-4ca0-b2d6-3e37f48ef9e6');\n",
              "          const dataTable =\n",
              "            await google.colab.kernel.invokeFunction('convertToInteractive',\n",
              "                                                     [key], {});\n",
              "          if (!dataTable) return;\n",
              "\n",
              "          const docLinkHtml = 'Like what you see? Visit the ' +\n",
              "            '<a target=\"_blank\" href=https://colab.research.google.com/notebooks/data_table.ipynb>data table notebook</a>'\n",
              "            + ' to learn more about interactive tables.';\n",
              "          element.innerHTML = '';\n",
              "          dataTable['output_type'] = 'display_data';\n",
              "          await google.colab.output.renderOutput(dataTable, element);\n",
              "          const docLink = document.createElement('div');\n",
              "          docLink.innerHTML = docLinkHtml;\n",
              "          element.appendChild(docLink);\n",
              "        }\n",
              "      </script>\n",
              "    </div>\n",
              "  </div>\n",
              "  "
            ]
          },
          "metadata": {},
          "execution_count": 34
        }
      ],
      "source": [
        "model5.predict_mask(text9, details = 'medium', as_dict = False)"
      ]
    },
    {
      "cell_type": "code",
      "execution_count": null,
      "metadata": {
        "colab": {
          "base_uri": "https://localhost:8080/"
        },
        "id": "40zDLnoPsLzE",
        "outputId": "9119765f-8df2-43af-fbdc-9894a7ef471f"
      },
      "outputs": [
        {
          "output_type": "execute_result",
          "data": {
            "text/plain": [
              "      score  token token_str                 sequence\n",
              "0  0.465607   1155       आहे     मी महाराष्ट्रात आहे.\n",
              "1  0.079688  92222    राहणार  मी महाराष्ट्रात राहणार.\n",
              "2  0.074000   1826      नाही    मी महाराष्ट्रात नाही.\n",
              "3  0.050423   1617       ##च        मी महाराष्ट्रातच.\n",
              "4  0.043737  62560     राहतो   मी महाराष्ट्रात राहतो."
            ],
            "text/html": [
              "\n",
              "  <div id=\"df-21042198-b003-4c6c-923d-dee0e7e19023\">\n",
              "    <div class=\"colab-df-container\">\n",
              "      <div>\n",
              "<style scoped>\n",
              "    .dataframe tbody tr th:only-of-type {\n",
              "        vertical-align: middle;\n",
              "    }\n",
              "\n",
              "    .dataframe tbody tr th {\n",
              "        vertical-align: top;\n",
              "    }\n",
              "\n",
              "    .dataframe thead th {\n",
              "        text-align: right;\n",
              "    }\n",
              "</style>\n",
              "<table border=\"1\" class=\"dataframe\">\n",
              "  <thead>\n",
              "    <tr style=\"text-align: right;\">\n",
              "      <th></th>\n",
              "      <th>score</th>\n",
              "      <th>token</th>\n",
              "      <th>token_str</th>\n",
              "      <th>sequence</th>\n",
              "    </tr>\n",
              "  </thead>\n",
              "  <tbody>\n",
              "    <tr>\n",
              "      <th>0</th>\n",
              "      <td>0.465607</td>\n",
              "      <td>1155</td>\n",
              "      <td>आहे</td>\n",
              "      <td>मी महाराष्ट्रात आहे.</td>\n",
              "    </tr>\n",
              "    <tr>\n",
              "      <th>1</th>\n",
              "      <td>0.079688</td>\n",
              "      <td>92222</td>\n",
              "      <td>राहणार</td>\n",
              "      <td>मी महाराष्ट्रात राहणार.</td>\n",
              "    </tr>\n",
              "    <tr>\n",
              "      <th>2</th>\n",
              "      <td>0.074000</td>\n",
              "      <td>1826</td>\n",
              "      <td>नाही</td>\n",
              "      <td>मी महाराष्ट्रात नाही.</td>\n",
              "    </tr>\n",
              "    <tr>\n",
              "      <th>3</th>\n",
              "      <td>0.050423</td>\n",
              "      <td>1617</td>\n",
              "      <td>##च</td>\n",
              "      <td>मी महाराष्ट्रातच.</td>\n",
              "    </tr>\n",
              "    <tr>\n",
              "      <th>4</th>\n",
              "      <td>0.043737</td>\n",
              "      <td>62560</td>\n",
              "      <td>राहतो</td>\n",
              "      <td>मी महाराष्ट्रात राहतो.</td>\n",
              "    </tr>\n",
              "  </tbody>\n",
              "</table>\n",
              "</div>\n",
              "      <button class=\"colab-df-convert\" onclick=\"convertToInteractive('df-21042198-b003-4c6c-923d-dee0e7e19023')\"\n",
              "              title=\"Convert this dataframe to an interactive table.\"\n",
              "              style=\"display:none;\">\n",
              "        \n",
              "  <svg xmlns=\"http://www.w3.org/2000/svg\" height=\"24px\"viewBox=\"0 0 24 24\"\n",
              "       width=\"24px\">\n",
              "    <path d=\"M0 0h24v24H0V0z\" fill=\"none\"/>\n",
              "    <path d=\"M18.56 5.44l.94 2.06.94-2.06 2.06-.94-2.06-.94-.94-2.06-.94 2.06-2.06.94zm-11 1L8.5 8.5l.94-2.06 2.06-.94-2.06-.94L8.5 2.5l-.94 2.06-2.06.94zm10 10l.94 2.06.94-2.06 2.06-.94-2.06-.94-.94-2.06-.94 2.06-2.06.94z\"/><path d=\"M17.41 7.96l-1.37-1.37c-.4-.4-.92-.59-1.43-.59-.52 0-1.04.2-1.43.59L10.3 9.45l-7.72 7.72c-.78.78-.78 2.05 0 2.83L4 21.41c.39.39.9.59 1.41.59.51 0 1.02-.2 1.41-.59l7.78-7.78 2.81-2.81c.8-.78.8-2.07 0-2.86zM5.41 20L4 18.59l7.72-7.72 1.47 1.35L5.41 20z\"/>\n",
              "  </svg>\n",
              "      </button>\n",
              "      \n",
              "  <style>\n",
              "    .colab-df-container {\n",
              "      display:flex;\n",
              "      flex-wrap:wrap;\n",
              "      gap: 12px;\n",
              "    }\n",
              "\n",
              "    .colab-df-convert {\n",
              "      background-color: #E8F0FE;\n",
              "      border: none;\n",
              "      border-radius: 50%;\n",
              "      cursor: pointer;\n",
              "      display: none;\n",
              "      fill: #1967D2;\n",
              "      height: 32px;\n",
              "      padding: 0 0 0 0;\n",
              "      width: 32px;\n",
              "    }\n",
              "\n",
              "    .colab-df-convert:hover {\n",
              "      background-color: #E2EBFA;\n",
              "      box-shadow: 0px 1px 2px rgba(60, 64, 67, 0.3), 0px 1px 3px 1px rgba(60, 64, 67, 0.15);\n",
              "      fill: #174EA6;\n",
              "    }\n",
              "\n",
              "    [theme=dark] .colab-df-convert {\n",
              "      background-color: #3B4455;\n",
              "      fill: #D2E3FC;\n",
              "    }\n",
              "\n",
              "    [theme=dark] .colab-df-convert:hover {\n",
              "      background-color: #434B5C;\n",
              "      box-shadow: 0px 1px 3px 1px rgba(0, 0, 0, 0.15);\n",
              "      filter: drop-shadow(0px 1px 2px rgba(0, 0, 0, 0.3));\n",
              "      fill: #FFFFFF;\n",
              "    }\n",
              "  </style>\n",
              "\n",
              "      <script>\n",
              "        const buttonEl =\n",
              "          document.querySelector('#df-21042198-b003-4c6c-923d-dee0e7e19023 button.colab-df-convert');\n",
              "        buttonEl.style.display =\n",
              "          google.colab.kernel.accessAllowed ? 'block' : 'none';\n",
              "\n",
              "        async function convertToInteractive(key) {\n",
              "          const element = document.querySelector('#df-21042198-b003-4c6c-923d-dee0e7e19023');\n",
              "          const dataTable =\n",
              "            await google.colab.kernel.invokeFunction('convertToInteractive',\n",
              "                                                     [key], {});\n",
              "          if (!dataTable) return;\n",
              "\n",
              "          const docLinkHtml = 'Like what you see? Visit the ' +\n",
              "            '<a target=\"_blank\" href=https://colab.research.google.com/notebooks/data_table.ipynb>data table notebook</a>'\n",
              "            + ' to learn more about interactive tables.';\n",
              "          element.innerHTML = '';\n",
              "          dataTable['output_type'] = 'display_data';\n",
              "          await google.colab.output.renderOutput(dataTable, element);\n",
              "          const docLink = document.createElement('div');\n",
              "          docLink.innerHTML = docLinkHtml;\n",
              "          element.appendChild(docLink);\n",
              "        }\n",
              "      </script>\n",
              "    </div>\n",
              "  </div>\n",
              "  "
            ]
          },
          "metadata": {},
          "execution_count": 35
        }
      ],
      "source": [
        "model5.predict_mask(text9, 'all', False)"
      ]
    },
    {
      "cell_type": "code",
      "execution_count": null,
      "metadata": {
        "colab": {
          "base_uri": "https://localhost:8080/"
        },
        "id": "TDHKbNqXsPMt",
        "outputId": "4f80375c-94c1-4197-bd4c-421e09359a17"
      },
      "outputs": [
        {
          "output_type": "execute_result",
          "data": {
            "text/plain": [
              "[{'score': 0.4656066596508026,\n",
              "  'token': 1155,\n",
              "  'token_str': 'आहे',\n",
              "  'sequence': 'मी महाराष्ट्रात आहे.'},\n",
              " {'score': 0.07968812435865402,\n",
              "  'token': 92222,\n",
              "  'token_str': 'राहणार',\n",
              "  'sequence': 'मी महाराष्ट्रात राहणार.'},\n",
              " {'score': 0.07400033622980118,\n",
              "  'token': 1826,\n",
              "  'token_str': 'नाही',\n",
              "  'sequence': 'मी महाराष्ट्रात नाही.'},\n",
              " {'score': 0.05042285844683647,\n",
              "  'token': 1617,\n",
              "  'token_str': '##च',\n",
              "  'sequence': 'मी महाराष्ट्रातच.'},\n",
              " {'score': 0.043737005442380905,\n",
              "  'token': 62560,\n",
              "  'token_str': 'राहतो',\n",
              "  'sequence': 'मी महाराष्ट्रात राहतो.'}]"
            ]
          },
          "metadata": {},
          "execution_count": 36
        }
      ],
      "source": [
        "# Print as dictionary\n",
        "model5.predict_mask(text9, 'all', True)"
      ]
    },
    {
      "cell_type": "markdown",
      "metadata": {
        "id": "7mjdCPc_z_PX"
      },
      "source": [
        "***"
      ]
    },
    {
      "cell_type": "markdown",
      "metadata": {
        "id": "1092RW2xz_PY"
      },
      "source": [
        "### **g. Hate**"
      ]
    },
    {
      "cell_type": "markdown",
      "metadata": {
        "id": "hhLfSDZPz_PY"
      },
      "source": [
        "#### import"
      ]
    },
    {
      "cell_type": "code",
      "source": [
        "from mahaNLP.hate import HateAnalyzer"
      ],
      "metadata": {
        "id": "ImXv1iJeR1YK"
      },
      "execution_count": null,
      "outputs": []
    },
    {
      "cell_type": "markdown",
      "metadata": {
        "id": "atTB-EaUz_PY"
      },
      "source": [
        "#### create an object"
      ]
    },
    {
      "cell_type": "code",
      "execution_count": null,
      "metadata": {
        "id": "LAE1xs97z_PY"
      },
      "outputs": [],
      "source": [
        "model6 = HateAnalyzer()"
      ]
    },
    {
      "cell_type": "code",
      "execution_count": null,
      "metadata": {
        "id": "Ci2eGkKtz_PZ",
        "outputId": "d08856dd-c779-49aa-967e-33d06b3a681f",
        "colab": {
          "base_uri": "https://localhost:8080/"
        }
      },
      "outputs": [
        {
          "output_type": "stream",
          "name": "stdout",
          "text": [
            "Supported labels: \n",
            "\t hate -> 1\n",
            "\t non-hate -> 0\n",
            "\n"
          ]
        }
      ],
      "source": [
        "# list the labels supported\n",
        "model6.list_supported_labels()"
      ]
    },
    {
      "cell_type": "markdown",
      "metadata": {
        "id": "7Mv5FkjEz_PZ"
      },
      "source": [
        "### **Usage of hate:**\n",
        "It provides one functionality\n",
        "* **get_hate_score:** Gives the hate score of a sentence. It gives the scores as hate (1) and non-hate (0)"
      ]
    },
    {
      "cell_type": "code",
      "execution_count": null,
      "metadata": {
        "colab": {
          "base_uri": "https://localhost:8080/",
          "height": 81
        },
        "id": "9i6eVgjRZLtd",
        "outputId": "96804cf3-e238-48ad-860e-1c73610f29be"
      },
      "outputs": [
        {
          "output_type": "execute_result",
          "data": {
            "text/plain": [
              "  label     score\n",
              "0  hate  0.966924"
            ],
            "text/html": [
              "\n",
              "  <div id=\"df-c00aa490-9f2e-483e-b695-56d2de4e1929\">\n",
              "    <div class=\"colab-df-container\">\n",
              "      <div>\n",
              "<style scoped>\n",
              "    .dataframe tbody tr th:only-of-type {\n",
              "        vertical-align: middle;\n",
              "    }\n",
              "\n",
              "    .dataframe tbody tr th {\n",
              "        vertical-align: top;\n",
              "    }\n",
              "\n",
              "    .dataframe thead th {\n",
              "        text-align: right;\n",
              "    }\n",
              "</style>\n",
              "<table border=\"1\" class=\"dataframe\">\n",
              "  <thead>\n",
              "    <tr style=\"text-align: right;\">\n",
              "      <th></th>\n",
              "      <th>label</th>\n",
              "      <th>score</th>\n",
              "    </tr>\n",
              "  </thead>\n",
              "  <tbody>\n",
              "    <tr>\n",
              "      <th>0</th>\n",
              "      <td>hate</td>\n",
              "      <td>0.966924</td>\n",
              "    </tr>\n",
              "  </tbody>\n",
              "</table>\n",
              "</div>\n",
              "      <button class=\"colab-df-convert\" onclick=\"convertToInteractive('df-c00aa490-9f2e-483e-b695-56d2de4e1929')\"\n",
              "              title=\"Convert this dataframe to an interactive table.\"\n",
              "              style=\"display:none;\">\n",
              "        \n",
              "  <svg xmlns=\"http://www.w3.org/2000/svg\" height=\"24px\"viewBox=\"0 0 24 24\"\n",
              "       width=\"24px\">\n",
              "    <path d=\"M0 0h24v24H0V0z\" fill=\"none\"/>\n",
              "    <path d=\"M18.56 5.44l.94 2.06.94-2.06 2.06-.94-2.06-.94-.94-2.06-.94 2.06-2.06.94zm-11 1L8.5 8.5l.94-2.06 2.06-.94-2.06-.94L8.5 2.5l-.94 2.06-2.06.94zm10 10l.94 2.06.94-2.06 2.06-.94-2.06-.94-.94-2.06-.94 2.06-2.06.94z\"/><path d=\"M17.41 7.96l-1.37-1.37c-.4-.4-.92-.59-1.43-.59-.52 0-1.04.2-1.43.59L10.3 9.45l-7.72 7.72c-.78.78-.78 2.05 0 2.83L4 21.41c.39.39.9.59 1.41.59.51 0 1.02-.2 1.41-.59l7.78-7.78 2.81-2.81c.8-.78.8-2.07 0-2.86zM5.41 20L4 18.59l7.72-7.72 1.47 1.35L5.41 20z\"/>\n",
              "  </svg>\n",
              "      </button>\n",
              "      \n",
              "  <style>\n",
              "    .colab-df-container {\n",
              "      display:flex;\n",
              "      flex-wrap:wrap;\n",
              "      gap: 12px;\n",
              "    }\n",
              "\n",
              "    .colab-df-convert {\n",
              "      background-color: #E8F0FE;\n",
              "      border: none;\n",
              "      border-radius: 50%;\n",
              "      cursor: pointer;\n",
              "      display: none;\n",
              "      fill: #1967D2;\n",
              "      height: 32px;\n",
              "      padding: 0 0 0 0;\n",
              "      width: 32px;\n",
              "    }\n",
              "\n",
              "    .colab-df-convert:hover {\n",
              "      background-color: #E2EBFA;\n",
              "      box-shadow: 0px 1px 2px rgba(60, 64, 67, 0.3), 0px 1px 3px 1px rgba(60, 64, 67, 0.15);\n",
              "      fill: #174EA6;\n",
              "    }\n",
              "\n",
              "    [theme=dark] .colab-df-convert {\n",
              "      background-color: #3B4455;\n",
              "      fill: #D2E3FC;\n",
              "    }\n",
              "\n",
              "    [theme=dark] .colab-df-convert:hover {\n",
              "      background-color: #434B5C;\n",
              "      box-shadow: 0px 1px 3px 1px rgba(0, 0, 0, 0.15);\n",
              "      filter: drop-shadow(0px 1px 2px rgba(0, 0, 0, 0.3));\n",
              "      fill: #FFFFFF;\n",
              "    }\n",
              "  </style>\n",
              "\n",
              "      <script>\n",
              "        const buttonEl =\n",
              "          document.querySelector('#df-c00aa490-9f2e-483e-b695-56d2de4e1929 button.colab-df-convert');\n",
              "        buttonEl.style.display =\n",
              "          google.colab.kernel.accessAllowed ? 'block' : 'none';\n",
              "\n",
              "        async function convertToInteractive(key) {\n",
              "          const element = document.querySelector('#df-c00aa490-9f2e-483e-b695-56d2de4e1929');\n",
              "          const dataTable =\n",
              "            await google.colab.kernel.invokeFunction('convertToInteractive',\n",
              "                                                     [key], {});\n",
              "          if (!dataTable) return;\n",
              "\n",
              "          const docLinkHtml = 'Like what you see? Visit the ' +\n",
              "            '<a target=\"_blank\" href=https://colab.research.google.com/notebooks/data_table.ipynb>data table notebook</a>'\n",
              "            + ' to learn more about interactive tables.';\n",
              "          element.innerHTML = '';\n",
              "          dataTable['output_type'] = 'display_data';\n",
              "          await google.colab.output.renderOutput(dataTable, element);\n",
              "          const docLink = document.createElement('div');\n",
              "          docLink.innerHTML = docLinkHtml;\n",
              "          element.appendChild(docLink);\n",
              "        }\n",
              "      </script>\n",
              "    </div>\n",
              "  </div>\n",
              "  "
            ]
          },
          "metadata": {},
          "execution_count": 40
        }
      ],
      "source": [
        "# Example:\n",
        "\n",
        "text10 = 'ती मूर्ख आहे. मला ती आवडत नाही.'\n",
        "# English Translation:\n",
        "# 'She is stupid. I don't like her.'\n",
        "\n",
        "model6.get_hate_score(text10)"
      ]
    },
    {
      "cell_type": "code",
      "execution_count": null,
      "metadata": {
        "colab": {
          "base_uri": "https://localhost:8080/",
          "height": 81
        },
        "id": "IXByNO3aZwB7",
        "outputId": "2a409b2d-699c-44d6-887a-d4b899506681"
      },
      "outputs": [
        {
          "output_type": "execute_result",
          "data": {
            "text/plain": [
              "      label     score\n",
              "0  non-hate  0.999377"
            ],
            "text/html": [
              "\n",
              "  <div id=\"df-f96c633a-9dbf-46e1-a41e-86504982dfce\">\n",
              "    <div class=\"colab-df-container\">\n",
              "      <div>\n",
              "<style scoped>\n",
              "    .dataframe tbody tr th:only-of-type {\n",
              "        vertical-align: middle;\n",
              "    }\n",
              "\n",
              "    .dataframe tbody tr th {\n",
              "        vertical-align: top;\n",
              "    }\n",
              "\n",
              "    .dataframe thead th {\n",
              "        text-align: right;\n",
              "    }\n",
              "</style>\n",
              "<table border=\"1\" class=\"dataframe\">\n",
              "  <thead>\n",
              "    <tr style=\"text-align: right;\">\n",
              "      <th></th>\n",
              "      <th>label</th>\n",
              "      <th>score</th>\n",
              "    </tr>\n",
              "  </thead>\n",
              "  <tbody>\n",
              "    <tr>\n",
              "      <th>0</th>\n",
              "      <td>non-hate</td>\n",
              "      <td>0.999377</td>\n",
              "    </tr>\n",
              "  </tbody>\n",
              "</table>\n",
              "</div>\n",
              "      <button class=\"colab-df-convert\" onclick=\"convertToInteractive('df-f96c633a-9dbf-46e1-a41e-86504982dfce')\"\n",
              "              title=\"Convert this dataframe to an interactive table.\"\n",
              "              style=\"display:none;\">\n",
              "        \n",
              "  <svg xmlns=\"http://www.w3.org/2000/svg\" height=\"24px\"viewBox=\"0 0 24 24\"\n",
              "       width=\"24px\">\n",
              "    <path d=\"M0 0h24v24H0V0z\" fill=\"none\"/>\n",
              "    <path d=\"M18.56 5.44l.94 2.06.94-2.06 2.06-.94-2.06-.94-.94-2.06-.94 2.06-2.06.94zm-11 1L8.5 8.5l.94-2.06 2.06-.94-2.06-.94L8.5 2.5l-.94 2.06-2.06.94zm10 10l.94 2.06.94-2.06 2.06-.94-2.06-.94-.94-2.06-.94 2.06-2.06.94z\"/><path d=\"M17.41 7.96l-1.37-1.37c-.4-.4-.92-.59-1.43-.59-.52 0-1.04.2-1.43.59L10.3 9.45l-7.72 7.72c-.78.78-.78 2.05 0 2.83L4 21.41c.39.39.9.59 1.41.59.51 0 1.02-.2 1.41-.59l7.78-7.78 2.81-2.81c.8-.78.8-2.07 0-2.86zM5.41 20L4 18.59l7.72-7.72 1.47 1.35L5.41 20z\"/>\n",
              "  </svg>\n",
              "      </button>\n",
              "      \n",
              "  <style>\n",
              "    .colab-df-container {\n",
              "      display:flex;\n",
              "      flex-wrap:wrap;\n",
              "      gap: 12px;\n",
              "    }\n",
              "\n",
              "    .colab-df-convert {\n",
              "      background-color: #E8F0FE;\n",
              "      border: none;\n",
              "      border-radius: 50%;\n",
              "      cursor: pointer;\n",
              "      display: none;\n",
              "      fill: #1967D2;\n",
              "      height: 32px;\n",
              "      padding: 0 0 0 0;\n",
              "      width: 32px;\n",
              "    }\n",
              "\n",
              "    .colab-df-convert:hover {\n",
              "      background-color: #E2EBFA;\n",
              "      box-shadow: 0px 1px 2px rgba(60, 64, 67, 0.3), 0px 1px 3px 1px rgba(60, 64, 67, 0.15);\n",
              "      fill: #174EA6;\n",
              "    }\n",
              "\n",
              "    [theme=dark] .colab-df-convert {\n",
              "      background-color: #3B4455;\n",
              "      fill: #D2E3FC;\n",
              "    }\n",
              "\n",
              "    [theme=dark] .colab-df-convert:hover {\n",
              "      background-color: #434B5C;\n",
              "      box-shadow: 0px 1px 3px 1px rgba(0, 0, 0, 0.15);\n",
              "      filter: drop-shadow(0px 1px 2px rgba(0, 0, 0, 0.3));\n",
              "      fill: #FFFFFF;\n",
              "    }\n",
              "  </style>\n",
              "\n",
              "      <script>\n",
              "        const buttonEl =\n",
              "          document.querySelector('#df-f96c633a-9dbf-46e1-a41e-86504982dfce button.colab-df-convert');\n",
              "        buttonEl.style.display =\n",
              "          google.colab.kernel.accessAllowed ? 'block' : 'none';\n",
              "\n",
              "        async function convertToInteractive(key) {\n",
              "          const element = document.querySelector('#df-f96c633a-9dbf-46e1-a41e-86504982dfce');\n",
              "          const dataTable =\n",
              "            await google.colab.kernel.invokeFunction('convertToInteractive',\n",
              "                                                     [key], {});\n",
              "          if (!dataTable) return;\n",
              "\n",
              "          const docLinkHtml = 'Like what you see? Visit the ' +\n",
              "            '<a target=\"_blank\" href=https://colab.research.google.com/notebooks/data_table.ipynb>data table notebook</a>'\n",
              "            + ' to learn more about interactive tables.';\n",
              "          element.innerHTML = '';\n",
              "          dataTable['output_type'] = 'display_data';\n",
              "          await google.colab.output.renderOutput(dataTable, element);\n",
              "          const docLink = document.createElement('div');\n",
              "          docLink.innerHTML = docLinkHtml;\n",
              "          element.appendChild(docLink);\n",
              "        }\n",
              "      </script>\n",
              "    </div>\n",
              "  </div>\n",
              "  "
            ]
          },
          "metadata": {},
          "execution_count": 41
        }
      ],
      "source": [
        "# Example:\n",
        "\n",
        "text11 = 'मला तुझे खूप कौतुक वाटते.'\n",
        "# English Translation:\n",
        "# 'I appreciate you so much.'\n",
        "\n",
        "model6.get_hate_score(text11)"
      ]
    },
    {
      "cell_type": "markdown",
      "metadata": {
        "id": "j33AaOMzz_Pc"
      },
      "source": [
        "***"
      ]
    },
    {
      "cell_type": "markdown",
      "metadata": {
        "id": "SdjAS1zXz_Pd"
      },
      "source": [
        "### **h. Sentiment**"
      ]
    },
    {
      "cell_type": "markdown",
      "metadata": {
        "id": "3f_SN20_z_Pd"
      },
      "source": [
        "#### import"
      ]
    },
    {
      "cell_type": "code",
      "execution_count": null,
      "metadata": {
        "id": "gYPoSX9zz_Pd"
      },
      "outputs": [],
      "source": [
        "from mahaNLP.sentiment import SentimentAnalyzer"
      ]
    },
    {
      "cell_type": "markdown",
      "metadata": {
        "id": "diLkeHtJz_Pe"
      },
      "source": [
        "#### create an object"
      ]
    },
    {
      "cell_type": "code",
      "execution_count": null,
      "metadata": {
        "id": "om7upVW9z_Pe"
      },
      "outputs": [],
      "source": [
        "model7 = SentimentAnalyzer()"
      ]
    },
    {
      "cell_type": "code",
      "execution_count": null,
      "metadata": {
        "id": "VwGkCtn1z_Pe",
        "outputId": "0e8e25bf-4819-46c2-f8c0-c1004227ed55",
        "colab": {
          "base_uri": "https://localhost:8080/"
        }
      },
      "outputs": [
        {
          "output_type": "stream",
          "name": "stdout",
          "text": [
            "Supported labels: \n",
            " -Positive\n",
            " -Negative\n",
            " -Neutral\n",
            "\n"
          ]
        }
      ],
      "source": [
        "# list the lables supported\n",
        "model7.list_supported_labels()"
      ]
    },
    {
      "cell_type": "markdown",
      "metadata": {
        "id": "xebkrEo_99s9"
      },
      "source": [
        "### **Usage of sentiment:**\n",
        "It provides one functionality\n",
        "* **get_polarity_score:** Gives the polarity score of words in a sentence along with the tokens (Neutral, Positive, Negative)"
      ]
    },
    {
      "cell_type": "code",
      "execution_count": null,
      "metadata": {
        "colab": {
          "base_uri": "https://localhost:8080/",
          "height": 81
        },
        "id": "yTSsgjCqiIAa",
        "outputId": "8428d406-40f0-4a91-a69e-a353f39f59ec"
      },
      "outputs": [
        {
          "output_type": "execute_result",
          "data": {
            "text/plain": [
              "      label     score\n",
              "0  Positive  0.995338"
            ],
            "text/html": [
              "\n",
              "  <div id=\"df-5e50df42-99e5-4f56-949c-448a15ff338d\">\n",
              "    <div class=\"colab-df-container\">\n",
              "      <div>\n",
              "<style scoped>\n",
              "    .dataframe tbody tr th:only-of-type {\n",
              "        vertical-align: middle;\n",
              "    }\n",
              "\n",
              "    .dataframe tbody tr th {\n",
              "        vertical-align: top;\n",
              "    }\n",
              "\n",
              "    .dataframe thead th {\n",
              "        text-align: right;\n",
              "    }\n",
              "</style>\n",
              "<table border=\"1\" class=\"dataframe\">\n",
              "  <thead>\n",
              "    <tr style=\"text-align: right;\">\n",
              "      <th></th>\n",
              "      <th>label</th>\n",
              "      <th>score</th>\n",
              "    </tr>\n",
              "  </thead>\n",
              "  <tbody>\n",
              "    <tr>\n",
              "      <th>0</th>\n",
              "      <td>Positive</td>\n",
              "      <td>0.995338</td>\n",
              "    </tr>\n",
              "  </tbody>\n",
              "</table>\n",
              "</div>\n",
              "      <button class=\"colab-df-convert\" onclick=\"convertToInteractive('df-5e50df42-99e5-4f56-949c-448a15ff338d')\"\n",
              "              title=\"Convert this dataframe to an interactive table.\"\n",
              "              style=\"display:none;\">\n",
              "        \n",
              "  <svg xmlns=\"http://www.w3.org/2000/svg\" height=\"24px\"viewBox=\"0 0 24 24\"\n",
              "       width=\"24px\">\n",
              "    <path d=\"M0 0h24v24H0V0z\" fill=\"none\"/>\n",
              "    <path d=\"M18.56 5.44l.94 2.06.94-2.06 2.06-.94-2.06-.94-.94-2.06-.94 2.06-2.06.94zm-11 1L8.5 8.5l.94-2.06 2.06-.94-2.06-.94L8.5 2.5l-.94 2.06-2.06.94zm10 10l.94 2.06.94-2.06 2.06-.94-2.06-.94-.94-2.06-.94 2.06-2.06.94z\"/><path d=\"M17.41 7.96l-1.37-1.37c-.4-.4-.92-.59-1.43-.59-.52 0-1.04.2-1.43.59L10.3 9.45l-7.72 7.72c-.78.78-.78 2.05 0 2.83L4 21.41c.39.39.9.59 1.41.59.51 0 1.02-.2 1.41-.59l7.78-7.78 2.81-2.81c.8-.78.8-2.07 0-2.86zM5.41 20L4 18.59l7.72-7.72 1.47 1.35L5.41 20z\"/>\n",
              "  </svg>\n",
              "      </button>\n",
              "      \n",
              "  <style>\n",
              "    .colab-df-container {\n",
              "      display:flex;\n",
              "      flex-wrap:wrap;\n",
              "      gap: 12px;\n",
              "    }\n",
              "\n",
              "    .colab-df-convert {\n",
              "      background-color: #E8F0FE;\n",
              "      border: none;\n",
              "      border-radius: 50%;\n",
              "      cursor: pointer;\n",
              "      display: none;\n",
              "      fill: #1967D2;\n",
              "      height: 32px;\n",
              "      padding: 0 0 0 0;\n",
              "      width: 32px;\n",
              "    }\n",
              "\n",
              "    .colab-df-convert:hover {\n",
              "      background-color: #E2EBFA;\n",
              "      box-shadow: 0px 1px 2px rgba(60, 64, 67, 0.3), 0px 1px 3px 1px rgba(60, 64, 67, 0.15);\n",
              "      fill: #174EA6;\n",
              "    }\n",
              "\n",
              "    [theme=dark] .colab-df-convert {\n",
              "      background-color: #3B4455;\n",
              "      fill: #D2E3FC;\n",
              "    }\n",
              "\n",
              "    [theme=dark] .colab-df-convert:hover {\n",
              "      background-color: #434B5C;\n",
              "      box-shadow: 0px 1px 3px 1px rgba(0, 0, 0, 0.15);\n",
              "      filter: drop-shadow(0px 1px 2px rgba(0, 0, 0, 0.3));\n",
              "      fill: #FFFFFF;\n",
              "    }\n",
              "  </style>\n",
              "\n",
              "      <script>\n",
              "        const buttonEl =\n",
              "          document.querySelector('#df-5e50df42-99e5-4f56-949c-448a15ff338d button.colab-df-convert');\n",
              "        buttonEl.style.display =\n",
              "          google.colab.kernel.accessAllowed ? 'block' : 'none';\n",
              "\n",
              "        async function convertToInteractive(key) {\n",
              "          const element = document.querySelector('#df-5e50df42-99e5-4f56-949c-448a15ff338d');\n",
              "          const dataTable =\n",
              "            await google.colab.kernel.invokeFunction('convertToInteractive',\n",
              "                                                     [key], {});\n",
              "          if (!dataTable) return;\n",
              "\n",
              "          const docLinkHtml = 'Like what you see? Visit the ' +\n",
              "            '<a target=\"_blank\" href=https://colab.research.google.com/notebooks/data_table.ipynb>data table notebook</a>'\n",
              "            + ' to learn more about interactive tables.';\n",
              "          element.innerHTML = '';\n",
              "          dataTable['output_type'] = 'display_data';\n",
              "          await google.colab.output.renderOutput(dataTable, element);\n",
              "          const docLink = document.createElement('div');\n",
              "          docLink.innerHTML = docLinkHtml;\n",
              "          element.appendChild(docLink);\n",
              "        }\n",
              "      </script>\n",
              "    </div>\n",
              "  </div>\n",
              "  "
            ]
          },
          "metadata": {},
          "execution_count": 45
        }
      ],
      "source": [
        "# Example:\n",
        "\n",
        "text12 = 'दिवाळीच्या सणादरम्यान सगळे आनंदी असतात.'\n",
        "# English Translation:\n",
        "# 'Everyone is happy during Diwali festival.'\n",
        "\n",
        "model7.get_polarity_score(text12)"
      ]
    },
    {
      "cell_type": "code",
      "execution_count": null,
      "metadata": {
        "colab": {
          "base_uri": "https://localhost:8080/",
          "height": 81
        },
        "id": "Ex-fzzcM-4Ht",
        "outputId": "ce63fd12-17d3-4631-b72a-96a72040dce4"
      },
      "outputs": [
        {
          "output_type": "execute_result",
          "data": {
            "text/plain": [
              "     label     score\n",
              "0  Neutral  0.989352"
            ],
            "text/html": [
              "\n",
              "  <div id=\"df-8d2fc9b1-469d-4490-ac4a-1dbb2ca11121\">\n",
              "    <div class=\"colab-df-container\">\n",
              "      <div>\n",
              "<style scoped>\n",
              "    .dataframe tbody tr th:only-of-type {\n",
              "        vertical-align: middle;\n",
              "    }\n",
              "\n",
              "    .dataframe tbody tr th {\n",
              "        vertical-align: top;\n",
              "    }\n",
              "\n",
              "    .dataframe thead th {\n",
              "        text-align: right;\n",
              "    }\n",
              "</style>\n",
              "<table border=\"1\" class=\"dataframe\">\n",
              "  <thead>\n",
              "    <tr style=\"text-align: right;\">\n",
              "      <th></th>\n",
              "      <th>label</th>\n",
              "      <th>score</th>\n",
              "    </tr>\n",
              "  </thead>\n",
              "  <tbody>\n",
              "    <tr>\n",
              "      <th>0</th>\n",
              "      <td>Neutral</td>\n",
              "      <td>0.989352</td>\n",
              "    </tr>\n",
              "  </tbody>\n",
              "</table>\n",
              "</div>\n",
              "      <button class=\"colab-df-convert\" onclick=\"convertToInteractive('df-8d2fc9b1-469d-4490-ac4a-1dbb2ca11121')\"\n",
              "              title=\"Convert this dataframe to an interactive table.\"\n",
              "              style=\"display:none;\">\n",
              "        \n",
              "  <svg xmlns=\"http://www.w3.org/2000/svg\" height=\"24px\"viewBox=\"0 0 24 24\"\n",
              "       width=\"24px\">\n",
              "    <path d=\"M0 0h24v24H0V0z\" fill=\"none\"/>\n",
              "    <path d=\"M18.56 5.44l.94 2.06.94-2.06 2.06-.94-2.06-.94-.94-2.06-.94 2.06-2.06.94zm-11 1L8.5 8.5l.94-2.06 2.06-.94-2.06-.94L8.5 2.5l-.94 2.06-2.06.94zm10 10l.94 2.06.94-2.06 2.06-.94-2.06-.94-.94-2.06-.94 2.06-2.06.94z\"/><path d=\"M17.41 7.96l-1.37-1.37c-.4-.4-.92-.59-1.43-.59-.52 0-1.04.2-1.43.59L10.3 9.45l-7.72 7.72c-.78.78-.78 2.05 0 2.83L4 21.41c.39.39.9.59 1.41.59.51 0 1.02-.2 1.41-.59l7.78-7.78 2.81-2.81c.8-.78.8-2.07 0-2.86zM5.41 20L4 18.59l7.72-7.72 1.47 1.35L5.41 20z\"/>\n",
              "  </svg>\n",
              "      </button>\n",
              "      \n",
              "  <style>\n",
              "    .colab-df-container {\n",
              "      display:flex;\n",
              "      flex-wrap:wrap;\n",
              "      gap: 12px;\n",
              "    }\n",
              "\n",
              "    .colab-df-convert {\n",
              "      background-color: #E8F0FE;\n",
              "      border: none;\n",
              "      border-radius: 50%;\n",
              "      cursor: pointer;\n",
              "      display: none;\n",
              "      fill: #1967D2;\n",
              "      height: 32px;\n",
              "      padding: 0 0 0 0;\n",
              "      width: 32px;\n",
              "    }\n",
              "\n",
              "    .colab-df-convert:hover {\n",
              "      background-color: #E2EBFA;\n",
              "      box-shadow: 0px 1px 2px rgba(60, 64, 67, 0.3), 0px 1px 3px 1px rgba(60, 64, 67, 0.15);\n",
              "      fill: #174EA6;\n",
              "    }\n",
              "\n",
              "    [theme=dark] .colab-df-convert {\n",
              "      background-color: #3B4455;\n",
              "      fill: #D2E3FC;\n",
              "    }\n",
              "\n",
              "    [theme=dark] .colab-df-convert:hover {\n",
              "      background-color: #434B5C;\n",
              "      box-shadow: 0px 1px 3px 1px rgba(0, 0, 0, 0.15);\n",
              "      filter: drop-shadow(0px 1px 2px rgba(0, 0, 0, 0.3));\n",
              "      fill: #FFFFFF;\n",
              "    }\n",
              "  </style>\n",
              "\n",
              "      <script>\n",
              "        const buttonEl =\n",
              "          document.querySelector('#df-8d2fc9b1-469d-4490-ac4a-1dbb2ca11121 button.colab-df-convert');\n",
              "        buttonEl.style.display =\n",
              "          google.colab.kernel.accessAllowed ? 'block' : 'none';\n",
              "\n",
              "        async function convertToInteractive(key) {\n",
              "          const element = document.querySelector('#df-8d2fc9b1-469d-4490-ac4a-1dbb2ca11121');\n",
              "          const dataTable =\n",
              "            await google.colab.kernel.invokeFunction('convertToInteractive',\n",
              "                                                     [key], {});\n",
              "          if (!dataTable) return;\n",
              "\n",
              "          const docLinkHtml = 'Like what you see? Visit the ' +\n",
              "            '<a target=\"_blank\" href=https://colab.research.google.com/notebooks/data_table.ipynb>data table notebook</a>'\n",
              "            + ' to learn more about interactive tables.';\n",
              "          element.innerHTML = '';\n",
              "          dataTable['output_type'] = 'display_data';\n",
              "          await google.colab.output.renderOutput(dataTable, element);\n",
              "          const docLink = document.createElement('div');\n",
              "          docLink.innerHTML = docLinkHtml;\n",
              "          element.appendChild(docLink);\n",
              "        }\n",
              "      </script>\n",
              "    </div>\n",
              "  </div>\n",
              "  "
            ]
          },
          "metadata": {},
          "execution_count": 46
        }
      ],
      "source": [
        "# Example:\n",
        "\n",
        "text13 = 'मी तुझा तिरस्कार करते.'\n",
        "# English Translation:\n",
        "# 'I hate you.'\n",
        "\n",
        "model7.get_polarity_score(text13)"
      ]
    },
    {
      "cell_type": "code",
      "execution_count": null,
      "metadata": {
        "colab": {
          "base_uri": "https://localhost:8080/",
          "height": 81
        },
        "id": "5NKYQ91x_P8Z",
        "outputId": "7c61c4ce-8cab-4b7b-e07e-f4123d4d30d6"
      },
      "outputs": [
        {
          "output_type": "execute_result",
          "data": {
            "text/plain": [
              "     label     score\n",
              "0  Neutral  0.993329"
            ],
            "text/html": [
              "\n",
              "  <div id=\"df-02c0e18e-74a4-4270-a9f1-113ef3d9aa2f\">\n",
              "    <div class=\"colab-df-container\">\n",
              "      <div>\n",
              "<style scoped>\n",
              "    .dataframe tbody tr th:only-of-type {\n",
              "        vertical-align: middle;\n",
              "    }\n",
              "\n",
              "    .dataframe tbody tr th {\n",
              "        vertical-align: top;\n",
              "    }\n",
              "\n",
              "    .dataframe thead th {\n",
              "        text-align: right;\n",
              "    }\n",
              "</style>\n",
              "<table border=\"1\" class=\"dataframe\">\n",
              "  <thead>\n",
              "    <tr style=\"text-align: right;\">\n",
              "      <th></th>\n",
              "      <th>label</th>\n",
              "      <th>score</th>\n",
              "    </tr>\n",
              "  </thead>\n",
              "  <tbody>\n",
              "    <tr>\n",
              "      <th>0</th>\n",
              "      <td>Neutral</td>\n",
              "      <td>0.993329</td>\n",
              "    </tr>\n",
              "  </tbody>\n",
              "</table>\n",
              "</div>\n",
              "      <button class=\"colab-df-convert\" onclick=\"convertToInteractive('df-02c0e18e-74a4-4270-a9f1-113ef3d9aa2f')\"\n",
              "              title=\"Convert this dataframe to an interactive table.\"\n",
              "              style=\"display:none;\">\n",
              "        \n",
              "  <svg xmlns=\"http://www.w3.org/2000/svg\" height=\"24px\"viewBox=\"0 0 24 24\"\n",
              "       width=\"24px\">\n",
              "    <path d=\"M0 0h24v24H0V0z\" fill=\"none\"/>\n",
              "    <path d=\"M18.56 5.44l.94 2.06.94-2.06 2.06-.94-2.06-.94-.94-2.06-.94 2.06-2.06.94zm-11 1L8.5 8.5l.94-2.06 2.06-.94-2.06-.94L8.5 2.5l-.94 2.06-2.06.94zm10 10l.94 2.06.94-2.06 2.06-.94-2.06-.94-.94-2.06-.94 2.06-2.06.94z\"/><path d=\"M17.41 7.96l-1.37-1.37c-.4-.4-.92-.59-1.43-.59-.52 0-1.04.2-1.43.59L10.3 9.45l-7.72 7.72c-.78.78-.78 2.05 0 2.83L4 21.41c.39.39.9.59 1.41.59.51 0 1.02-.2 1.41-.59l7.78-7.78 2.81-2.81c.8-.78.8-2.07 0-2.86zM5.41 20L4 18.59l7.72-7.72 1.47 1.35L5.41 20z\"/>\n",
              "  </svg>\n",
              "      </button>\n",
              "      \n",
              "  <style>\n",
              "    .colab-df-container {\n",
              "      display:flex;\n",
              "      flex-wrap:wrap;\n",
              "      gap: 12px;\n",
              "    }\n",
              "\n",
              "    .colab-df-convert {\n",
              "      background-color: #E8F0FE;\n",
              "      border: none;\n",
              "      border-radius: 50%;\n",
              "      cursor: pointer;\n",
              "      display: none;\n",
              "      fill: #1967D2;\n",
              "      height: 32px;\n",
              "      padding: 0 0 0 0;\n",
              "      width: 32px;\n",
              "    }\n",
              "\n",
              "    .colab-df-convert:hover {\n",
              "      background-color: #E2EBFA;\n",
              "      box-shadow: 0px 1px 2px rgba(60, 64, 67, 0.3), 0px 1px 3px 1px rgba(60, 64, 67, 0.15);\n",
              "      fill: #174EA6;\n",
              "    }\n",
              "\n",
              "    [theme=dark] .colab-df-convert {\n",
              "      background-color: #3B4455;\n",
              "      fill: #D2E3FC;\n",
              "    }\n",
              "\n",
              "    [theme=dark] .colab-df-convert:hover {\n",
              "      background-color: #434B5C;\n",
              "      box-shadow: 0px 1px 3px 1px rgba(0, 0, 0, 0.15);\n",
              "      filter: drop-shadow(0px 1px 2px rgba(0, 0, 0, 0.3));\n",
              "      fill: #FFFFFF;\n",
              "    }\n",
              "  </style>\n",
              "\n",
              "      <script>\n",
              "        const buttonEl =\n",
              "          document.querySelector('#df-02c0e18e-74a4-4270-a9f1-113ef3d9aa2f button.colab-df-convert');\n",
              "        buttonEl.style.display =\n",
              "          google.colab.kernel.accessAllowed ? 'block' : 'none';\n",
              "\n",
              "        async function convertToInteractive(key) {\n",
              "          const element = document.querySelector('#df-02c0e18e-74a4-4270-a9f1-113ef3d9aa2f');\n",
              "          const dataTable =\n",
              "            await google.colab.kernel.invokeFunction('convertToInteractive',\n",
              "                                                     [key], {});\n",
              "          if (!dataTable) return;\n",
              "\n",
              "          const docLinkHtml = 'Like what you see? Visit the ' +\n",
              "            '<a target=\"_blank\" href=https://colab.research.google.com/notebooks/data_table.ipynb>data table notebook</a>'\n",
              "            + ' to learn more about interactive tables.';\n",
              "          element.innerHTML = '';\n",
              "          dataTable['output_type'] = 'display_data';\n",
              "          await google.colab.output.renderOutput(dataTable, element);\n",
              "          const docLink = document.createElement('div');\n",
              "          docLink.innerHTML = docLinkHtml;\n",
              "          element.appendChild(docLink);\n",
              "        }\n",
              "      </script>\n",
              "    </div>\n",
              "  </div>\n",
              "  "
            ]
          },
          "metadata": {},
          "execution_count": 47
        }
      ],
      "source": [
        "# Example:\n",
        "\n",
        "text14 = 'मी कॉलेजला जात आहे.'\n",
        "# English Translation:\n",
        "# 'I am going to college.'\n",
        "\n",
        "model7.get_polarity_score(text14)"
      ]
    },
    {
      "cell_type": "markdown",
      "metadata": {
        "id": "4AIhgXYGAl2O"
      },
      "source": [
        "***"
      ]
    },
    {
      "cell_type": "markdown",
      "metadata": {
        "id": "4rRkapn1z_Pg"
      },
      "source": [
        "### **i. Similarity**"
      ]
    },
    {
      "cell_type": "markdown",
      "metadata": {
        "id": "LeXsdkMQz_Pg"
      },
      "source": [
        "#### import"
      ]
    },
    {
      "cell_type": "code",
      "execution_count": null,
      "metadata": {
        "id": "9ojOkQsBz_Ph"
      },
      "outputs": [],
      "source": [
        "from mahaNLP.similarity import SimilarityAnalyzer"
      ]
    },
    {
      "cell_type": "markdown",
      "metadata": {
        "id": "s3wEAUbPz_Ph"
      },
      "source": [
        "#### create an object"
      ]
    },
    {
      "cell_type": "code",
      "execution_count": null,
      "metadata": {
        "id": "mlyp8xUsz_Ph"
      },
      "outputs": [],
      "source": [
        "model8 = SimilarityAnalyzer()"
      ]
    },
    {
      "cell_type": "markdown",
      "metadata": {
        "id": "ZCe5bkxCz_Pi"
      },
      "source": [
        "### **Usage of similarity:**\n",
        "It provides two functionalities\n",
        "* **embed_sentences:** Embeds the sentences and return the values in an array\n",
        "* **get_similarity_score:** Checks the similarity of a sentence with respect to array of sentences"
      ]
    },
    {
      "cell_type": "markdown",
      "metadata": {
        "id": "1taMIYA2CbTE"
      },
      "source": [
        "#### **embed_sentences:**"
      ]
    },
    {
      "cell_type": "code",
      "execution_count": null,
      "metadata": {
        "colab": {
          "base_uri": "https://localhost:8080/"
        },
        "id": "8KEbGOWhCl3f",
        "outputId": "9e09aee5-c0ab-43b7-b548-a3c3eb8fafd4"
      },
      "outputs": [
        {
          "output_type": "execute_result",
          "data": {
            "text/plain": [
              "array([-3.01300567e-02,  5.90831414e-03, -1.33653842e-02, -3.19638290e-02,\n",
              "        1.86218917e-02, -4.54362668e-02, -4.17430000e-03, -1.99699700e-02,\n",
              "        3.58055066e-03,  6.32557552e-03,  8.54484085e-03, -4.28140257e-03,\n",
              "       -2.65210052e-03, -2.75102090e-02, -4.76910640e-03, -1.02574527e-02,\n",
              "        1.45057738e-02, -2.26347074e-02,  1.03825964e-02,  1.66710522e-02,\n",
              "        1.12478454e-02, -1.54640013e-02,  1.83427520e-02, -7.28147337e-03,\n",
              "        3.23612755e-03, -7.66732628e-05, -2.73413304e-02, -7.00747129e-03,\n",
              "       -1.96131580e-02,  1.76331459e-03, -1.34859337e-02, -6.28395798e-03,\n",
              "        7.86420703e-03,  6.67924574e-03, -1.99246481e-02, -7.11166300e-03,\n",
              "        1.37242489e-02,  4.83197346e-03,  1.89735764e-03,  1.25255464e-02,\n",
              "       -2.43624533e-03, -3.05463821e-02, -5.00232819e-03,  1.55041367e-02,\n",
              "       -6.46519475e-03,  3.41299572e-04, -1.23329228e-03,  2.16220673e-02,\n",
              "        8.16373341e-03, -1.91043632e-03, -1.46023333e-02,  3.50541994e-03,\n",
              "        1.29642710e-02, -1.31144281e-02, -1.07188849e-02,  6.13190280e-03,\n",
              "        1.57648530e-02,  1.49627067e-02, -8.68066773e-03,  8.70533939e-03,\n",
              "        2.02721264e-03, -1.04711084e-02, -3.13782208e-02,  8.12012423e-03,\n",
              "        1.86757650e-02, -2.37665828e-02,  1.68768745e-02,  1.86287612e-02,\n",
              "        5.38041582e-03, -1.64038818e-02,  1.82129424e-02, -3.06159863e-03,\n",
              "       -1.36264302e-02, -1.37237029e-03, -2.08050385e-02, -2.17535887e-02,\n",
              "        4.09565959e-03, -2.18795333e-03,  2.38251667e-02, -7.78459886e-04,\n",
              "        8.39470048e-03,  6.64879475e-03, -4.71074920e-04, -1.31823670e-03,\n",
              "        4.67980169e-02,  1.38628250e-02, -1.40459388e-02, -7.31589366e-03,\n",
              "       -8.53210222e-03,  1.02604227e-02,  1.39796529e-02, -7.38808769e-04,\n",
              "        1.52945006e-02, -2.30120216e-02, -5.92223741e-03,  2.89008021e-02,\n",
              "       -1.05706165e-02, -5.85502125e-02,  8.75737797e-03,  2.83687450e-02,\n",
              "       -2.77393265e-03, -6.92070054e-04, -1.43744675e-02, -7.93470070e-03,\n",
              "        9.78245400e-03,  3.90987843e-03, -8.96375161e-03,  1.04735279e-03,\n",
              "       -1.68775562e-02, -1.14353199e-03, -2.11837459e-02,  1.41877392e-02,\n",
              "       -2.88327094e-02,  1.32410973e-02, -3.15350364e-03, -6.60709385e-03,\n",
              "       -1.81566016e-03,  3.65666370e-03, -7.90643599e-03, -2.48122844e-03,\n",
              "        3.74473408e-02, -7.60902371e-03, -1.64395161e-02, -7.73811946e-03,\n",
              "        5.42662013e-03, -6.12250157e-03,  5.78614371e-03,  3.22829857e-02,\n",
              "       -8.73410329e-03, -1.07156411e-02,  2.41189450e-02, -1.13051226e-02,\n",
              "        7.06660561e-03, -2.10517701e-02,  8.64951313e-03, -1.07456027e-02,\n",
              "       -5.31350728e-03, -1.93835516e-02, -3.23520810e-03,  1.87288336e-02,\n",
              "        6.24930859e-03, -2.20635068e-03,  2.40044412e-03, -3.70709924e-04,\n",
              "       -8.10144655e-03, -2.61169989e-02, -2.74008955e-03,  3.89310834e-03,\n",
              "       -1.62401106e-02,  7.72353262e-04, -7.89663102e-03,  1.69366915e-02,\n",
              "       -2.06134957e-03,  6.27972465e-03, -3.60580608e-02, -1.65324137e-02,\n",
              "        2.61243470e-02, -3.32334405e-03,  1.92946494e-02, -1.75731592e-02,\n",
              "       -5.80233196e-03,  3.87423113e-02, -1.57048198e-04,  1.81754678e-02,\n",
              "        7.39019969e-03,  4.74238815e-03,  7.72051839e-03, -9.33596864e-03,\n",
              "        3.10207810e-02,  1.66415367e-02,  3.07551622e-02,  5.44882193e-03,\n",
              "        1.91004965e-02,  1.01934858e-02, -1.34223057e-02,  1.39273740e-02,\n",
              "        3.23650357e-03, -4.07274859e-03, -8.36974359e-04, -2.70107221e-02,\n",
              "       -3.93888494e-03,  1.58594716e-02,  1.38497213e-02, -1.43317897e-02,\n",
              "        1.36467684e-02,  5.63269854e-03,  5.98637434e-03, -1.14387805e-02,\n",
              "        1.28081720e-02,  1.39406165e-02, -1.83685753e-03,  2.37052701e-02,\n",
              "        1.07621364e-02,  2.21172418e-03,  1.40940743e-02,  3.71910492e-03,\n",
              "       -3.26684862e-02, -1.04478411e-02,  1.56309716e-02,  5.50477114e-03,\n",
              "       -9.24829580e-03, -2.82028574e-03,  5.35641564e-04, -2.00675381e-03,\n",
              "        2.05834620e-02, -3.77388997e-03,  1.71750300e-02, -1.00417798e-02,\n",
              "       -1.05264066e-02, -6.66322326e-03, -5.86904399e-03, -4.71705757e-03,\n",
              "       -2.00132523e-02, -1.78187098e-02,  5.58415521e-03,  7.57336337e-03,\n",
              "       -1.67107582e-02, -1.30010757e-03, -1.49274189e-02,  3.50551819e-03,\n",
              "        2.17670351e-02, -1.67797953e-02,  3.83339380e-03, -1.05553754e-02,\n",
              "       -2.35121120e-02,  2.08909332e-04, -3.39195575e-03, -1.86632425e-02,\n",
              "        2.64606774e-02,  6.08105026e-03,  9.50834341e-03,  1.72959939e-02,\n",
              "       -1.90124735e-02,  1.02615152e-02,  3.19077447e-02,  1.16296867e-02,\n",
              "       -1.04003679e-02, -1.07591329e-02, -5.22280438e-03, -7.83951487e-03,\n",
              "       -2.10185517e-02,  3.65024284e-02, -2.43752170e-03, -7.85904378e-03,\n",
              "       -9.43526719e-03, -2.06877254e-02,  4.29566158e-03, -1.19257439e-02,\n",
              "        1.45899421e-02,  2.81834695e-03, -8.95560067e-03,  9.80569981e-03,\n",
              "        6.91806339e-03, -9.91333649e-03,  9.81487683e-05, -1.75190046e-02,\n",
              "       -1.44562277e-03,  9.32446122e-03,  1.28548862e-02, -5.05371392e-03,\n",
              "       -2.35051699e-02,  9.83045087e-04, -1.95382014e-02,  1.78223662e-02,\n",
              "       -9.21748951e-03,  1.47577683e-02, -6.65485580e-03, -3.82754463e-03,\n",
              "       -2.12943573e-02,  4.55991039e-03,  2.39620497e-03, -2.66811587e-02,\n",
              "        3.33867483e-02,  1.18107814e-03, -8.40934459e-03, -2.35186443e-02,\n",
              "        1.17391143e-02, -2.09729816e-03,  2.12101974e-02,  1.30233662e-02,\n",
              "        5.20479633e-03,  4.58413083e-03, -1.06222183e-02,  5.80319483e-03,\n",
              "        8.34929664e-03, -5.98841067e-03,  2.53006443e-02, -2.03151652e-03,\n",
              "       -5.21425810e-03, -1.70673858e-02,  1.18642217e-02, -8.61734618e-03,\n",
              "       -1.26698930e-02, -2.00788048e-03,  1.58148184e-02,  1.90217851e-03,\n",
              "        2.31811292e-02,  1.74661807e-03,  1.12167438e-02, -1.44134823e-03,\n",
              "       -9.30211972e-03, -1.46288686e-02, -5.37519902e-03, -1.51128722e-02,\n",
              "       -6.52607577e-03, -1.84238926e-02,  1.16902757e-02, -1.10544739e-02,\n",
              "        6.47493219e-03,  8.24404135e-03,  2.25995556e-02,  1.12281519e-03,\n",
              "        2.79650297e-02, -1.09998053e-02, -2.39875019e-02,  6.61455840e-03,\n",
              "       -2.13238411e-03, -1.07544120e-02, -1.44521073e-02,  8.23264383e-03,\n",
              "       -6.24397211e-03,  1.00773452e-02, -1.72209064e-03,  7.03164041e-02,\n",
              "        2.26020627e-02, -1.87014379e-02,  9.41382442e-03, -2.26891926e-03,\n",
              "       -8.50850530e-03,  2.18220335e-03, -5.21362294e-03, -2.49598920e-02,\n",
              "       -1.95235712e-03,  8.72646458e-03,  2.24973977e-04,  2.50084121e-02,\n",
              "        1.09973140e-02,  2.34574173e-02,  1.75530557e-03, -7.50083569e-03,\n",
              "       -1.20159052e-02, -2.25395244e-02,  3.14263906e-03,  8.86609592e-03,\n",
              "        1.39705110e-02, -5.49423881e-03,  1.06051681e-03, -7.56043708e-04,\n",
              "        6.75426843e-03,  3.88717372e-03, -4.17592004e-02, -1.21613974e-02,\n",
              "        1.72176231e-02, -2.00801026e-02,  1.64938439e-02,  3.24597210e-02,\n",
              "        1.27258059e-03,  2.64031510e-03,  1.64149683e-02, -1.65665913e-02,\n",
              "        1.38497306e-02, -1.34747904e-02, -1.70683097e-02, -7.75010500e-04,\n",
              "       -7.62506574e-03,  1.06168846e-02, -8.30881670e-03, -1.63614433e-02,\n",
              "       -8.31434038e-03, -5.89036802e-03, -4.56706807e-03,  4.10308316e-03,\n",
              "       -5.28457761e-03, -2.16052844e-03, -8.41693580e-03, -1.98922139e-02,\n",
              "       -5.73335215e-03, -2.97826412e-03, -1.58060119e-02,  6.83034724e-03,\n",
              "       -6.80320244e-03, -2.68580224e-02,  2.66475603e-04, -1.20156643e-03,\n",
              "       -4.36740275e-03,  2.58185286e-02,  1.46681378e-02, -1.91858131e-02,\n",
              "        5.36356634e-03, -3.59885441e-03, -8.10728502e-03, -2.03213170e-02,\n",
              "       -1.30788274e-02, -1.97040546e-03,  2.97905654e-02, -8.12922698e-03,\n",
              "        4.82294988e-03,  3.26284231e-03, -5.63285314e-03, -2.42652055e-02,\n",
              "       -2.56951433e-02, -1.05881244e-02,  1.37404930e-02, -3.08426050e-03,\n",
              "       -9.66538209e-03, -5.70280338e-03,  3.73372715e-03,  2.99664419e-02,\n",
              "        2.30270959e-02,  2.61647962e-02,  6.24329224e-03, -1.58823933e-02,\n",
              "       -7.67878164e-03, -2.34378837e-02,  1.97630213e-03,  3.83257167e-03,\n",
              "       -1.64743874e-03, -1.29566388e-02,  2.37314980e-02, -2.19344497e-02,\n",
              "        6.77843438e-03, -3.21579911e-03,  4.07669321e-03,  1.10282293e-02,\n",
              "       -2.01006196e-02, -1.91606558e-03,  2.48767231e-02,  1.03208981e-02,\n",
              "        9.56634246e-03,  1.29272393e-03,  1.51434797e-04,  2.52911486e-02,\n",
              "        1.55032901e-02, -1.83340926e-02, -2.37570982e-02, -2.01135837e-02,\n",
              "        3.22717405e-03,  1.25111891e-02, -3.53140570e-03,  1.99056547e-02,\n",
              "       -1.10834958e-02,  8.20708403e-04, -1.71925016e-02, -1.46573968e-03,\n",
              "        2.32204981e-02, -4.31600772e-03, -3.10518872e-02,  1.21611692e-02,\n",
              "        2.51019420e-03, -1.27003891e-02,  3.91936488e-03, -8.34067073e-03,\n",
              "       -4.12001163e-02,  2.64251307e-02, -2.23739818e-02,  1.53114125e-02,\n",
              "       -8.00363068e-03,  4.03148495e-03, -6.09059352e-04,  1.20638600e-02,\n",
              "       -8.32260214e-03,  3.14436443e-02,  5.42647438e-03,  3.54678323e-03,\n",
              "        6.54091965e-03, -4.42248397e-03, -1.59549937e-02,  8.70790053e-03,\n",
              "       -1.13972742e-02, -4.96648811e-03,  5.19420544e-04, -5.11824433e-03,\n",
              "        2.90488196e-03,  1.43197197e-02, -2.15492118e-03,  4.40999959e-03,\n",
              "       -7.72806909e-03,  1.00093763e-02,  1.39529640e-02,  1.97348539e-02,\n",
              "        2.92346557e-03,  2.31071073e-03,  2.28686687e-02, -1.32424217e-02,\n",
              "        4.46878234e-03, -2.24520732e-02,  1.26555851e-02,  1.26668802e-02,\n",
              "        2.51053218e-02,  1.66570093e-03,  1.62841100e-02,  4.91092168e-03,\n",
              "        1.18311001e-02,  3.06226313e-03, -4.41729762e-02,  6.44658273e-03,\n",
              "        3.77441710e-03, -4.45346115e-03,  2.51483754e-03, -9.54747107e-03,\n",
              "        5.07295644e-03,  9.58894845e-03, -9.64017212e-03, -1.29908137e-02,\n",
              "        1.25605324e-02, -6.00945577e-03, -4.05536741e-02, -8.90581775e-03,\n",
              "        4.75800969e-03, -1.29225040e-02, -1.31087331e-02, -2.99636764e-03,\n",
              "        2.67905910e-02, -8.39134678e-03, -1.71411857e-02,  1.17618619e-02,\n",
              "        3.46101169e-03, -1.04996590e-02,  1.91917680e-02,  1.60048436e-02,\n",
              "       -1.26531757e-02, -9.30885039e-03, -8.85535404e-03,  3.47554241e-03,\n",
              "       -8.06654338e-03, -7.09112128e-03, -1.45569956e-02, -8.53008684e-03,\n",
              "       -5.50549431e-03, -1.11811999e-02,  1.39078991e-02, -1.78972203e-02,\n",
              "       -5.37264068e-03, -7.95114972e-03,  1.66612130e-03,  1.49714928e-02,\n",
              "       -2.29896046e-03, -3.51317925e-03, -1.34335458e-02, -1.89827774e-02,\n",
              "        5.65612735e-03, -6.13900879e-03, -1.35030868e-02, -2.06421688e-02,\n",
              "       -3.99334989e-02, -7.07364921e-03,  1.32413581e-03,  3.05913240e-02,\n",
              "       -9.25755687e-03,  1.17319794e-02,  1.67940892e-02,  2.27046618e-03,\n",
              "        4.21515331e-02,  8.95134523e-04,  4.53621009e-03, -2.27014348e-02,\n",
              "       -1.70505699e-02, -6.69908768e-04, -2.95234565e-03, -1.20119983e-02,\n",
              "       -3.03255673e-03, -5.08836284e-03,  1.16614308e-02, -7.95295835e-03,\n",
              "       -6.87583862e-03, -8.76113307e-03,  1.59097724e-02, -4.99887904e-03,\n",
              "        7.86298607e-03, -1.07486523e-03, -2.52840705e-02,  1.73652954e-02,\n",
              "       -1.19469278e-02, -3.15723708e-03, -3.18114087e-02, -5.91686170e-04,\n",
              "       -1.77470334e-02, -6.21764511e-02,  2.17336435e-02,  2.50397865e-02,\n",
              "        1.11514870e-02, -3.27469297e-02,  3.57396454e-02, -9.02441330e-03,\n",
              "       -1.27898678e-02, -1.43719018e-02, -2.80508120e-03,  1.96212791e-02,\n",
              "       -1.33930845e-03, -5.71801793e-03,  4.31844592e-03,  4.44456702e-03,\n",
              "        1.84682310e-02,  9.90218855e-03, -1.22834202e-02,  2.90954928e-03,\n",
              "        1.11034410e-02,  1.16471425e-02, -6.29853643e-03, -7.61907594e-03,\n",
              "        1.22876773e-02,  1.49465376e-03,  2.51777247e-02, -6.27732463e-03,\n",
              "       -6.30162656e-04,  3.11643947e-02, -1.33118276e-02,  2.01808251e-02,\n",
              "        2.35714689e-02,  2.90486263e-03, -2.32108925e-02, -1.14355255e-02,\n",
              "        2.43298169e-02,  2.64594657e-03, -1.36404093e-02,  1.72139090e-02,\n",
              "        2.78569758e-03, -1.99184213e-02, -1.02488697e-02, -1.62941981e-02,\n",
              "        1.39606214e-04, -1.38764884e-02, -1.59546174e-02,  1.71408672e-02,\n",
              "       -4.28702775e-03,  3.97856394e-03, -2.13087369e-02, -4.46565187e-04,\n",
              "        9.97365732e-03, -5.33423969e-04, -7.81101780e-03, -1.03362948e-02,\n",
              "        2.32493076e-02,  2.53358949e-03,  1.06881596e-02, -2.75757611e-02,\n",
              "        3.05546052e-03,  1.20836301e-02,  2.55078729e-03, -2.64085666e-03,\n",
              "        1.18886549e-02,  1.65476985e-02, -1.50255878e-02, -1.35924844e-02,\n",
              "        6.30688807e-03,  2.13904008e-02,  1.28482061e-03,  2.58356091e-02,\n",
              "        1.88110434e-02, -9.25006717e-03,  4.92773950e-03,  1.25913462e-02,\n",
              "       -1.53622851e-02, -1.30425813e-02,  2.58008502e-02,  2.26189289e-02,\n",
              "        9.28014237e-03,  1.91216785e-02,  1.08732004e-02, -6.55537192e-03,\n",
              "        2.28530224e-02, -4.78427112e-03,  5.64280199e-03, -5.65334270e-03,\n",
              "       -4.90860664e-04, -3.22095230e-02,  2.43367394e-05,  1.82267372e-02,\n",
              "        6.36831298e-03,  2.40061134e-02,  1.80955902e-02,  1.81316794e-03,\n",
              "        2.65917219e-02, -1.02234036e-02, -2.56279651e-02, -5.13049029e-03,\n",
              "        1.09303920e-02, -1.27968295e-02,  9.69257485e-03,  1.76790189e-02,\n",
              "        1.44254672e-03, -6.05858117e-03, -2.89139058e-02, -1.32559566e-02,\n",
              "       -7.05092493e-03, -2.23880913e-03, -1.88185484e-03,  1.28575712e-02,\n",
              "       -5.90165332e-03, -1.04621686e-02, -1.81798637e-02,  8.95336177e-03,\n",
              "        8.05972796e-03, -1.66233480e-02,  2.88753752e-02,  2.69940961e-02,\n",
              "        1.93423722e-02, -4.08307975e-03,  4.58932435e-03, -1.18301436e-02,\n",
              "       -1.46909561e-02, -1.16073724e-03,  2.01492710e-03, -1.39601883e-02,\n",
              "        1.46909989e-02,  7.47408019e-03,  1.28439926e-02,  5.91197424e-03,\n",
              "        6.19409233e-03, -1.85675826e-02,  1.62065178e-02,  3.00651789e-02,\n",
              "        9.27971769e-03, -1.05103394e-02,  5.09447977e-03, -1.12338341e-04,\n",
              "        1.16246771e-02,  4.33592238e-02,  6.43806858e-03, -3.87382042e-03,\n",
              "       -2.10319571e-02, -3.44374441e-02,  1.10652894e-02, -6.04627375e-03,\n",
              "       -1.20555256e-02,  2.49228980e-02, -6.58341497e-03, -1.27568729e-02,\n",
              "        6.28885254e-03,  1.43585894e-02,  1.13199186e-02,  1.54524483e-02,\n",
              "       -1.88142527e-03,  1.09161260e-02,  2.53680337e-04,  5.61841205e-03,\n",
              "       -3.67084611e-03, -9.13179666e-03, -3.68264341e-03, -1.66544504e-03,\n",
              "        5.78228896e-03,  1.98325142e-06, -2.71640904e-02,  3.18495966e-02,\n",
              "        6.25977339e-03,  6.11360231e-03, -2.89459899e-02,  1.64688006e-02,\n",
              "        6.17533736e-03,  1.75410472e-02,  2.47646496e-02, -1.63277320e-03,\n",
              "       -1.83101837e-03,  1.62396356e-02, -1.26726767e-02, -1.03971874e-02,\n",
              "       -1.69838425e-02,  1.63755901e-02,  1.68589856e-02,  7.78541202e-03,\n",
              "       -5.80566237e-04,  4.29578824e-03, -1.49363782e-02, -1.92048121e-02,\n",
              "       -4.44946159e-03,  2.57898495e-02, -2.06551533e-02, -5.76212583e-03],\n",
              "      dtype=float32)"
            ]
          },
          "metadata": {},
          "execution_count": 50
        }
      ],
      "source": [
        "# Example\n",
        "\n",
        "text15 = 'भारतात एकूण २८ राज्ये आहेत.'\n",
        "# English Translation:\n",
        "# 'There are total 28 states in India.'\n",
        "\n",
        "model8.embed_sentences(text15)"
      ]
    },
    {
      "cell_type": "markdown",
      "metadata": {
        "id": "fGYqivgMDZCU"
      },
      "source": [
        "#### **get_similarity_score:**"
      ]
    },
    {
      "cell_type": "code",
      "execution_count": null,
      "metadata": {
        "colab": {
          "base_uri": "https://localhost:8080/"
        },
        "id": "zI8KCkb5DYr5",
        "outputId": "6caeb7e6-77c9-4fb1-ae22-3b2f358506e0"
      },
      "outputs": [
        {
          "output_type": "execute_result",
          "data": {
            "text/plain": [
              "array([0.99999994, 0.24566299, 0.30104446], dtype=float32)"
            ]
          },
          "metadata": {},
          "execution_count": 51
        }
      ],
      "source": [
        "# Example\n",
        "\n",
        "textsource = 'वसई तालुक्यातील 15 ग्रामपंचायतींसाठी निवडणूक होत आहे.'\n",
        "# English Translation:\n",
        "# 'Elections are being held for 15 gram panchayats in Vasai taluka.'\n",
        "textsentences = ['वसई तालुक्यातील 15 ग्रामपंचायतींसाठी निवडणूक होत आहे.', '28 ते 2 डिसेंबर पर्यंत उमेदवारी अर्ज भरण्याची वेळ असून आज आणि उध्या दोन दिवसात ऑफलाईन उमेदवारी अर्ज भरण्यासाठी 5 वाजेपर्यंत वेळ वाढवून दिला आहे.', 'त्यामुळे आज दिवसभरात उमेदवारांनी आपले उमेदवारी अर्ज भरण्यासाठी तहसील कार्यालयात गर्दी केली होती.']\n",
        "# English Translation:\n",
        "# [\n",
        "# 'Elections are being held for 15 gram panchayats in Vasai taluka.',\n",
        "# 'The time to fill candidature form is from 28th to 2nd December and the time for filling offline candidature form has been extended till 5 pm today and tomorrow.',\n",
        "# 'Therefore, candidates thronged the tehsil office to fill their nomination forms today.'\n",
        "# ]\n",
        "\n",
        "model8.get_similarity_score(textsource, textsentences)"
      ]
    },
    {
      "cell_type": "markdown",
      "metadata": {
        "id": "0ZEKKLm4EFkg"
      },
      "source": [
        "Optional Parameter(s):\n",
        "* **as_dict** (True, False) in boolean - Default: False\n",
        "  * Used to define the print type"
      ]
    },
    {
      "cell_type": "code",
      "execution_count": null,
      "metadata": {
        "colab": {
          "base_uri": "https://localhost:8080/"
        },
        "id": "CQWBAuv3ELiA",
        "outputId": "4a002565-4cf3-4336-f243-af9297d756b7"
      },
      "outputs": [
        {
          "output_type": "execute_result",
          "data": {
            "text/plain": [
              "{'वसई तालुक्यातील 15 ग्रामपंचायतींसाठी निवडणूक होत आहे.': 0.99999994,\n",
              " '28 ते 2 डिसेंबर पर्यंत उमेदवारी अर्ज भरण्याची वेळ असून आज आणि उध्या दोन दिवसात ऑफलाईन उमेदवारी अर्ज भरण्यासाठी 5 वाजेपर्यंत वेळ वाढवून दिला आहे.': 0.24566299,\n",
              " 'त्यामुळे आज दिवसभरात उमेदवारांनी आपले उमेदवारी अर्ज भरण्यासाठी तहसील कार्यालयात गर्दी केली होती.': 0.30104446}"
            ]
          },
          "metadata": {},
          "execution_count": 52
        }
      ],
      "source": [
        "model8.get_similarity_score(textsource, textsentences, as_dict = True)"
      ]
    },
    {
      "cell_type": "markdown",
      "metadata": {
        "id": "AcH_y27Qz_Pk"
      },
      "source": [
        "***\n",
        "***"
      ]
    },
    {
      "cell_type": "markdown",
      "metadata": {
        "id": "gwHCuBDqonky"
      },
      "source": [
        "## **2. Advanced Usage:**\n",
        "\n",
        "This way of accessing the library is designed from an ML Practitioners point of view and has more flexibility to choose a model for the desired task."
      ]
    },
    {
      "cell_type": "markdown",
      "metadata": {
        "id": "fIYh11lOz_Pl"
      },
      "source": [
        "## The below mentioned models are explained in the examples following:\n",
        "* **MaskFill Model:** Predicts the masked tokens\n",
        "* **GPT Model:** Text prediction\n",
        "* **Hate Model:** Detects hate speech\n",
        "* **NER Model:** Named entity recognision\n",
        "* **Sentiment Model:** Sentiment analysis\n",
        "* **Similarity Model:** Detects similarity\n",
        "\n",
        "Some of the mentioned models have sub models within them that can be seen using the **listModels()** function as described in the examples"
      ]
    },
    {
      "cell_type": "markdown",
      "metadata": {
        "id": "H9rvFtcaz_Pl"
      },
      "source": [
        "***"
      ]
    },
    {
      "cell_type": "markdown",
      "metadata": {
        "id": "HdHuP4cIS6Nw"
      },
      "source": [
        "#### import the models"
      ]
    },
    {
      "cell_type": "code",
      "execution_count": null,
      "metadata": {
        "id": "DSimhAYRSl5y"
      },
      "outputs": [],
      "source": [
        "from mahaNLP.model_repo import MaskFillModel, GPTModel, HateModel, NERModel, SentimentModel, SimilarityModel"
      ]
    },
    {
      "cell_type": "markdown",
      "metadata": {
        "id": "zaXCCzDQz_Pm"
      },
      "source": [
        "Here, we are accessing the functionalities via modelRepo"
      ]
    },
    {
      "cell_type": "markdown",
      "metadata": {
        "id": "N8inplsT7vO_"
      },
      "source": [
        "***"
      ]
    },
    {
      "cell_type": "markdown",
      "metadata": {
        "id": "fyArn1Z0Tdjf"
      },
      "source": [
        "## **MaskFill Model**:"
      ]
    },
    {
      "cell_type": "code",
      "execution_count": null,
      "metadata": {
        "id": "XMJhet6eTBqi"
      },
      "outputs": [],
      "source": [
        "# create an object\n",
        "modelMaskFill = MaskFillModel() # this loads with default model. Here, marathi-bert-v2"
      ]
    },
    {
      "cell_type": "code",
      "execution_count": null,
      "metadata": {
        "colab": {
          "base_uri": "https://localhost:8080/"
        },
        "id": "Xta4dP6PsY2l",
        "outputId": "14fdc393-c6f6-4527-8a10-dadd8b651d52"
      },
      "outputs": [
        {
          "output_type": "stream",
          "name": "stdout",
          "text": [
            " mask_fill models: \n",
            "\t marathi-bert-v2 :  l3cube-pune/marathi-bert-v2\n",
            "\t marathi-roberta :  l3cube-pune/marathi-roberta\n",
            "\t marathi-albert :  l3cube-pune/marathi-albert\n",
            "\n",
            " similarity models: \n",
            "\t marathi-sentence-similarity-sbert :  l3cube-pune/marathi-sentence-similarity-sbert\n",
            "\t marathi-sentence-bert-nli :  l3cube-pune/marathi-sentence-bert-nli\n",
            "\n",
            " tagger models: \n",
            "\t marathi-ner :  l3cube-pune/marathi-ner\n",
            "\n",
            " sentiment models: \n",
            "\t MarathiSentiment :  l3cube-pune/MarathiSentiment\n",
            "\n",
            " autocomplete models: \n",
            "\t marathi-gpt :  l3cube-pune/marathi-gpt\n",
            "\n",
            " hate models: \n",
            "\t mahahate-bert :  l3cube-pune/mahahate-bert\n",
            "\t mahahate-multi-roberta :  l3cube-pune/mahahate-multi-roberta\n"
          ]
        }
      ],
      "source": [
        "# list models present in it\n",
        "modelMaskFill.list_models()"
      ]
    },
    {
      "cell_type": "markdown",
      "metadata": {
        "id": "nUH1Oi4Oq1B-"
      },
      "source": [
        "#### **To change the default model:**\n",
        "Pass the name of the model as the argument:\n",
        "\n",
        "modelMaskFill = MaskFillModel('name of model')"
      ]
    },
    {
      "cell_type": "code",
      "execution_count": null,
      "metadata": {
        "id": "BSXh4lN2rq7I"
      },
      "outputs": [],
      "source": [
        "# Example:\n",
        "\n",
        "modelMaskFill2 = MaskFillModel('marathi-roberta')"
      ]
    },
    {
      "cell_type": "markdown",
      "metadata": {
        "id": "SfVSkGnpz_Po"
      },
      "source": [
        "### **Usage of MaskFillModel:**\n",
        "It provides one functionality\n",
        "* **predict_mask:** Predicts the masked token"
      ]
    },
    {
      "cell_type": "code",
      "execution_count": null,
      "metadata": {
        "colab": {
          "base_uri": "https://localhost:8080/",
          "height": 206
        },
        "outputId": "64fef929-371f-425d-88d6-c9d42744c05a",
        "id": "7qq2-ePAz_Po"
      },
      "outputs": [
        {
          "output_type": "execute_result",
          "data": {
            "text/plain": [
              "  token_str                 sequence\n",
              "0       आहे     मी महाराष्ट्रात आहे.\n",
              "1    राहणार  मी महाराष्ट्रात राहणार.\n",
              "2      नाही    मी महाराष्ट्रात नाही.\n",
              "3       ##च        मी महाराष्ट्रातच.\n",
              "4     राहतो   मी महाराष्ट्रात राहतो."
            ],
            "text/html": [
              "\n",
              "  <div id=\"df-5c3be976-0a81-4f48-9942-f408665e8a11\">\n",
              "    <div class=\"colab-df-container\">\n",
              "      <div>\n",
              "<style scoped>\n",
              "    .dataframe tbody tr th:only-of-type {\n",
              "        vertical-align: middle;\n",
              "    }\n",
              "\n",
              "    .dataframe tbody tr th {\n",
              "        vertical-align: top;\n",
              "    }\n",
              "\n",
              "    .dataframe thead th {\n",
              "        text-align: right;\n",
              "    }\n",
              "</style>\n",
              "<table border=\"1\" class=\"dataframe\">\n",
              "  <thead>\n",
              "    <tr style=\"text-align: right;\">\n",
              "      <th></th>\n",
              "      <th>token_str</th>\n",
              "      <th>sequence</th>\n",
              "    </tr>\n",
              "  </thead>\n",
              "  <tbody>\n",
              "    <tr>\n",
              "      <th>0</th>\n",
              "      <td>आहे</td>\n",
              "      <td>मी महाराष्ट्रात आहे.</td>\n",
              "    </tr>\n",
              "    <tr>\n",
              "      <th>1</th>\n",
              "      <td>राहणार</td>\n",
              "      <td>मी महाराष्ट्रात राहणार.</td>\n",
              "    </tr>\n",
              "    <tr>\n",
              "      <th>2</th>\n",
              "      <td>नाही</td>\n",
              "      <td>मी महाराष्ट्रात नाही.</td>\n",
              "    </tr>\n",
              "    <tr>\n",
              "      <th>3</th>\n",
              "      <td>##च</td>\n",
              "      <td>मी महाराष्ट्रातच.</td>\n",
              "    </tr>\n",
              "    <tr>\n",
              "      <th>4</th>\n",
              "      <td>राहतो</td>\n",
              "      <td>मी महाराष्ट्रात राहतो.</td>\n",
              "    </tr>\n",
              "  </tbody>\n",
              "</table>\n",
              "</div>\n",
              "      <button class=\"colab-df-convert\" onclick=\"convertToInteractive('df-5c3be976-0a81-4f48-9942-f408665e8a11')\"\n",
              "              title=\"Convert this dataframe to an interactive table.\"\n",
              "              style=\"display:none;\">\n",
              "        \n",
              "  <svg xmlns=\"http://www.w3.org/2000/svg\" height=\"24px\"viewBox=\"0 0 24 24\"\n",
              "       width=\"24px\">\n",
              "    <path d=\"M0 0h24v24H0V0z\" fill=\"none\"/>\n",
              "    <path d=\"M18.56 5.44l.94 2.06.94-2.06 2.06-.94-2.06-.94-.94-2.06-.94 2.06-2.06.94zm-11 1L8.5 8.5l.94-2.06 2.06-.94-2.06-.94L8.5 2.5l-.94 2.06-2.06.94zm10 10l.94 2.06.94-2.06 2.06-.94-2.06-.94-.94-2.06-.94 2.06-2.06.94z\"/><path d=\"M17.41 7.96l-1.37-1.37c-.4-.4-.92-.59-1.43-.59-.52 0-1.04.2-1.43.59L10.3 9.45l-7.72 7.72c-.78.78-.78 2.05 0 2.83L4 21.41c.39.39.9.59 1.41.59.51 0 1.02-.2 1.41-.59l7.78-7.78 2.81-2.81c.8-.78.8-2.07 0-2.86zM5.41 20L4 18.59l7.72-7.72 1.47 1.35L5.41 20z\"/>\n",
              "  </svg>\n",
              "      </button>\n",
              "      \n",
              "  <style>\n",
              "    .colab-df-container {\n",
              "      display:flex;\n",
              "      flex-wrap:wrap;\n",
              "      gap: 12px;\n",
              "    }\n",
              "\n",
              "    .colab-df-convert {\n",
              "      background-color: #E8F0FE;\n",
              "      border: none;\n",
              "      border-radius: 50%;\n",
              "      cursor: pointer;\n",
              "      display: none;\n",
              "      fill: #1967D2;\n",
              "      height: 32px;\n",
              "      padding: 0 0 0 0;\n",
              "      width: 32px;\n",
              "    }\n",
              "\n",
              "    .colab-df-convert:hover {\n",
              "      background-color: #E2EBFA;\n",
              "      box-shadow: 0px 1px 2px rgba(60, 64, 67, 0.3), 0px 1px 3px 1px rgba(60, 64, 67, 0.15);\n",
              "      fill: #174EA6;\n",
              "    }\n",
              "\n",
              "    [theme=dark] .colab-df-convert {\n",
              "      background-color: #3B4455;\n",
              "      fill: #D2E3FC;\n",
              "    }\n",
              "\n",
              "    [theme=dark] .colab-df-convert:hover {\n",
              "      background-color: #434B5C;\n",
              "      box-shadow: 0px 1px 3px 1px rgba(0, 0, 0, 0.15);\n",
              "      filter: drop-shadow(0px 1px 2px rgba(0, 0, 0, 0.3));\n",
              "      fill: #FFFFFF;\n",
              "    }\n",
              "  </style>\n",
              "\n",
              "      <script>\n",
              "        const buttonEl =\n",
              "          document.querySelector('#df-5c3be976-0a81-4f48-9942-f408665e8a11 button.colab-df-convert');\n",
              "        buttonEl.style.display =\n",
              "          google.colab.kernel.accessAllowed ? 'block' : 'none';\n",
              "\n",
              "        async function convertToInteractive(key) {\n",
              "          const element = document.querySelector('#df-5c3be976-0a81-4f48-9942-f408665e8a11');\n",
              "          const dataTable =\n",
              "            await google.colab.kernel.invokeFunction('convertToInteractive',\n",
              "                                                     [key], {});\n",
              "          if (!dataTable) return;\n",
              "\n",
              "          const docLinkHtml = 'Like what you see? Visit the ' +\n",
              "            '<a target=\"_blank\" href=https://colab.research.google.com/notebooks/data_table.ipynb>data table notebook</a>'\n",
              "            + ' to learn more about interactive tables.';\n",
              "          element.innerHTML = '';\n",
              "          dataTable['output_type'] = 'display_data';\n",
              "          await google.colab.output.renderOutput(dataTable, element);\n",
              "          const docLink = document.createElement('div');\n",
              "          docLink.innerHTML = docLinkHtml;\n",
              "          element.appendChild(docLink);\n",
              "        }\n",
              "      </script>\n",
              "    </div>\n",
              "  </div>\n",
              "  "
            ]
          },
          "metadata": {},
          "execution_count": 57
        }
      ],
      "source": [
        "# Example:\n",
        "\n",
        "# pass the string with the word to be predicted replaced with '[MASK]' for marathi-bert-v2, marathi-albert\n",
        "# and '<mask>' for marathi-roberta\n",
        "\n",
        "txt1 = 'मी महाराष्ट्रात [MASK].'\n",
        "# English Translation:\n",
        "# 'I in Maharashtra [MASK]'\n",
        "\n",
        "modelMaskFill.predict_mask(txt1)"
      ]
    },
    {
      "cell_type": "markdown",
      "metadata": {
        "id": "5WclXGP5z_Pp"
      },
      "source": [
        "Optional Parameter(s):\n",
        "* **details** (minimum, medium, all) in string - Default: minimum\n",
        "  * Used to pass the detailedness to be considered\n",
        "* **as_dict** (True, False) in boolean - Default: False\n",
        "  * Used to define the print type"
      ]
    },
    {
      "cell_type": "code",
      "execution_count": null,
      "metadata": {
        "colab": {
          "base_uri": "https://localhost:8080/",
          "height": 206
        },
        "outputId": "c81128bd-88df-4722-b68c-734c608df077",
        "scrolled": true,
        "id": "S8PJDNz6z_Pp"
      },
      "outputs": [
        {
          "output_type": "execute_result",
          "data": {
            "text/plain": [
              "  token_str     score                 sequence\n",
              "0       आहे  0.465607     मी महाराष्ट्रात आहे.\n",
              "1    राहणार  0.079688  मी महाराष्ट्रात राहणार.\n",
              "2      नाही  0.074000    मी महाराष्ट्रात नाही.\n",
              "3       ##च  0.050423        मी महाराष्ट्रातच.\n",
              "4     राहतो  0.043737   मी महाराष्ट्रात राहतो."
            ],
            "text/html": [
              "\n",
              "  <div id=\"df-66a82ac2-775d-4241-8cd1-f3951d4cfba6\">\n",
              "    <div class=\"colab-df-container\">\n",
              "      <div>\n",
              "<style scoped>\n",
              "    .dataframe tbody tr th:only-of-type {\n",
              "        vertical-align: middle;\n",
              "    }\n",
              "\n",
              "    .dataframe tbody tr th {\n",
              "        vertical-align: top;\n",
              "    }\n",
              "\n",
              "    .dataframe thead th {\n",
              "        text-align: right;\n",
              "    }\n",
              "</style>\n",
              "<table border=\"1\" class=\"dataframe\">\n",
              "  <thead>\n",
              "    <tr style=\"text-align: right;\">\n",
              "      <th></th>\n",
              "      <th>token_str</th>\n",
              "      <th>score</th>\n",
              "      <th>sequence</th>\n",
              "    </tr>\n",
              "  </thead>\n",
              "  <tbody>\n",
              "    <tr>\n",
              "      <th>0</th>\n",
              "      <td>आहे</td>\n",
              "      <td>0.465607</td>\n",
              "      <td>मी महाराष्ट्रात आहे.</td>\n",
              "    </tr>\n",
              "    <tr>\n",
              "      <th>1</th>\n",
              "      <td>राहणार</td>\n",
              "      <td>0.079688</td>\n",
              "      <td>मी महाराष्ट्रात राहणार.</td>\n",
              "    </tr>\n",
              "    <tr>\n",
              "      <th>2</th>\n",
              "      <td>नाही</td>\n",
              "      <td>0.074000</td>\n",
              "      <td>मी महाराष्ट्रात नाही.</td>\n",
              "    </tr>\n",
              "    <tr>\n",
              "      <th>3</th>\n",
              "      <td>##च</td>\n",
              "      <td>0.050423</td>\n",
              "      <td>मी महाराष्ट्रातच.</td>\n",
              "    </tr>\n",
              "    <tr>\n",
              "      <th>4</th>\n",
              "      <td>राहतो</td>\n",
              "      <td>0.043737</td>\n",
              "      <td>मी महाराष्ट्रात राहतो.</td>\n",
              "    </tr>\n",
              "  </tbody>\n",
              "</table>\n",
              "</div>\n",
              "      <button class=\"colab-df-convert\" onclick=\"convertToInteractive('df-66a82ac2-775d-4241-8cd1-f3951d4cfba6')\"\n",
              "              title=\"Convert this dataframe to an interactive table.\"\n",
              "              style=\"display:none;\">\n",
              "        \n",
              "  <svg xmlns=\"http://www.w3.org/2000/svg\" height=\"24px\"viewBox=\"0 0 24 24\"\n",
              "       width=\"24px\">\n",
              "    <path d=\"M0 0h24v24H0V0z\" fill=\"none\"/>\n",
              "    <path d=\"M18.56 5.44l.94 2.06.94-2.06 2.06-.94-2.06-.94-.94-2.06-.94 2.06-2.06.94zm-11 1L8.5 8.5l.94-2.06 2.06-.94-2.06-.94L8.5 2.5l-.94 2.06-2.06.94zm10 10l.94 2.06.94-2.06 2.06-.94-2.06-.94-.94-2.06-.94 2.06-2.06.94z\"/><path d=\"M17.41 7.96l-1.37-1.37c-.4-.4-.92-.59-1.43-.59-.52 0-1.04.2-1.43.59L10.3 9.45l-7.72 7.72c-.78.78-.78 2.05 0 2.83L4 21.41c.39.39.9.59 1.41.59.51 0 1.02-.2 1.41-.59l7.78-7.78 2.81-2.81c.8-.78.8-2.07 0-2.86zM5.41 20L4 18.59l7.72-7.72 1.47 1.35L5.41 20z\"/>\n",
              "  </svg>\n",
              "      </button>\n",
              "      \n",
              "  <style>\n",
              "    .colab-df-container {\n",
              "      display:flex;\n",
              "      flex-wrap:wrap;\n",
              "      gap: 12px;\n",
              "    }\n",
              "\n",
              "    .colab-df-convert {\n",
              "      background-color: #E8F0FE;\n",
              "      border: none;\n",
              "      border-radius: 50%;\n",
              "      cursor: pointer;\n",
              "      display: none;\n",
              "      fill: #1967D2;\n",
              "      height: 32px;\n",
              "      padding: 0 0 0 0;\n",
              "      width: 32px;\n",
              "    }\n",
              "\n",
              "    .colab-df-convert:hover {\n",
              "      background-color: #E2EBFA;\n",
              "      box-shadow: 0px 1px 2px rgba(60, 64, 67, 0.3), 0px 1px 3px 1px rgba(60, 64, 67, 0.15);\n",
              "      fill: #174EA6;\n",
              "    }\n",
              "\n",
              "    [theme=dark] .colab-df-convert {\n",
              "      background-color: #3B4455;\n",
              "      fill: #D2E3FC;\n",
              "    }\n",
              "\n",
              "    [theme=dark] .colab-df-convert:hover {\n",
              "      background-color: #434B5C;\n",
              "      box-shadow: 0px 1px 3px 1px rgba(0, 0, 0, 0.15);\n",
              "      filter: drop-shadow(0px 1px 2px rgba(0, 0, 0, 0.3));\n",
              "      fill: #FFFFFF;\n",
              "    }\n",
              "  </style>\n",
              "\n",
              "      <script>\n",
              "        const buttonEl =\n",
              "          document.querySelector('#df-66a82ac2-775d-4241-8cd1-f3951d4cfba6 button.colab-df-convert');\n",
              "        buttonEl.style.display =\n",
              "          google.colab.kernel.accessAllowed ? 'block' : 'none';\n",
              "\n",
              "        async function convertToInteractive(key) {\n",
              "          const element = document.querySelector('#df-66a82ac2-775d-4241-8cd1-f3951d4cfba6');\n",
              "          const dataTable =\n",
              "            await google.colab.kernel.invokeFunction('convertToInteractive',\n",
              "                                                     [key], {});\n",
              "          if (!dataTable) return;\n",
              "\n",
              "          const docLinkHtml = 'Like what you see? Visit the ' +\n",
              "            '<a target=\"_blank\" href=https://colab.research.google.com/notebooks/data_table.ipynb>data table notebook</a>'\n",
              "            + ' to learn more about interactive tables.';\n",
              "          element.innerHTML = '';\n",
              "          dataTable['output_type'] = 'display_data';\n",
              "          await google.colab.output.renderOutput(dataTable, element);\n",
              "          const docLink = document.createElement('div');\n",
              "          docLink.innerHTML = docLinkHtml;\n",
              "          element.appendChild(docLink);\n",
              "        }\n",
              "      </script>\n",
              "    </div>\n",
              "  </div>\n",
              "  "
            ]
          },
          "metadata": {},
          "execution_count": 58
        }
      ],
      "source": [
        "# Example:\n",
        "\n",
        "modelMaskFill.predict_mask(txt1, details = 'medium', as_dict = False)"
      ]
    },
    {
      "cell_type": "code",
      "execution_count": null,
      "metadata": {
        "colab": {
          "base_uri": "https://localhost:8080/",
          "height": 206
        },
        "outputId": "4910781d-ad33-41b8-ea06-6a9bd0726754",
        "id": "B5PCwY_mz_Pp"
      },
      "outputs": [
        {
          "output_type": "execute_result",
          "data": {
            "text/plain": [
              "      score  token token_str                 sequence\n",
              "0  0.465607   1155       आहे     मी महाराष्ट्रात आहे.\n",
              "1  0.079688  92222    राहणार  मी महाराष्ट्रात राहणार.\n",
              "2  0.074000   1826      नाही    मी महाराष्ट्रात नाही.\n",
              "3  0.050423   1617       ##च        मी महाराष्ट्रातच.\n",
              "4  0.043737  62560     राहतो   मी महाराष्ट्रात राहतो."
            ],
            "text/html": [
              "\n",
              "  <div id=\"df-adcd22d6-763e-47d5-a311-07b6025dc896\">\n",
              "    <div class=\"colab-df-container\">\n",
              "      <div>\n",
              "<style scoped>\n",
              "    .dataframe tbody tr th:only-of-type {\n",
              "        vertical-align: middle;\n",
              "    }\n",
              "\n",
              "    .dataframe tbody tr th {\n",
              "        vertical-align: top;\n",
              "    }\n",
              "\n",
              "    .dataframe thead th {\n",
              "        text-align: right;\n",
              "    }\n",
              "</style>\n",
              "<table border=\"1\" class=\"dataframe\">\n",
              "  <thead>\n",
              "    <tr style=\"text-align: right;\">\n",
              "      <th></th>\n",
              "      <th>score</th>\n",
              "      <th>token</th>\n",
              "      <th>token_str</th>\n",
              "      <th>sequence</th>\n",
              "    </tr>\n",
              "  </thead>\n",
              "  <tbody>\n",
              "    <tr>\n",
              "      <th>0</th>\n",
              "      <td>0.465607</td>\n",
              "      <td>1155</td>\n",
              "      <td>आहे</td>\n",
              "      <td>मी महाराष्ट्रात आहे.</td>\n",
              "    </tr>\n",
              "    <tr>\n",
              "      <th>1</th>\n",
              "      <td>0.079688</td>\n",
              "      <td>92222</td>\n",
              "      <td>राहणार</td>\n",
              "      <td>मी महाराष्ट्रात राहणार.</td>\n",
              "    </tr>\n",
              "    <tr>\n",
              "      <th>2</th>\n",
              "      <td>0.074000</td>\n",
              "      <td>1826</td>\n",
              "      <td>नाही</td>\n",
              "      <td>मी महाराष्ट्रात नाही.</td>\n",
              "    </tr>\n",
              "    <tr>\n",
              "      <th>3</th>\n",
              "      <td>0.050423</td>\n",
              "      <td>1617</td>\n",
              "      <td>##च</td>\n",
              "      <td>मी महाराष्ट्रातच.</td>\n",
              "    </tr>\n",
              "    <tr>\n",
              "      <th>4</th>\n",
              "      <td>0.043737</td>\n",
              "      <td>62560</td>\n",
              "      <td>राहतो</td>\n",
              "      <td>मी महाराष्ट्रात राहतो.</td>\n",
              "    </tr>\n",
              "  </tbody>\n",
              "</table>\n",
              "</div>\n",
              "      <button class=\"colab-df-convert\" onclick=\"convertToInteractive('df-adcd22d6-763e-47d5-a311-07b6025dc896')\"\n",
              "              title=\"Convert this dataframe to an interactive table.\"\n",
              "              style=\"display:none;\">\n",
              "        \n",
              "  <svg xmlns=\"http://www.w3.org/2000/svg\" height=\"24px\"viewBox=\"0 0 24 24\"\n",
              "       width=\"24px\">\n",
              "    <path d=\"M0 0h24v24H0V0z\" fill=\"none\"/>\n",
              "    <path d=\"M18.56 5.44l.94 2.06.94-2.06 2.06-.94-2.06-.94-.94-2.06-.94 2.06-2.06.94zm-11 1L8.5 8.5l.94-2.06 2.06-.94-2.06-.94L8.5 2.5l-.94 2.06-2.06.94zm10 10l.94 2.06.94-2.06 2.06-.94-2.06-.94-.94-2.06-.94 2.06-2.06.94z\"/><path d=\"M17.41 7.96l-1.37-1.37c-.4-.4-.92-.59-1.43-.59-.52 0-1.04.2-1.43.59L10.3 9.45l-7.72 7.72c-.78.78-.78 2.05 0 2.83L4 21.41c.39.39.9.59 1.41.59.51 0 1.02-.2 1.41-.59l7.78-7.78 2.81-2.81c.8-.78.8-2.07 0-2.86zM5.41 20L4 18.59l7.72-7.72 1.47 1.35L5.41 20z\"/>\n",
              "  </svg>\n",
              "      </button>\n",
              "      \n",
              "  <style>\n",
              "    .colab-df-container {\n",
              "      display:flex;\n",
              "      flex-wrap:wrap;\n",
              "      gap: 12px;\n",
              "    }\n",
              "\n",
              "    .colab-df-convert {\n",
              "      background-color: #E8F0FE;\n",
              "      border: none;\n",
              "      border-radius: 50%;\n",
              "      cursor: pointer;\n",
              "      display: none;\n",
              "      fill: #1967D2;\n",
              "      height: 32px;\n",
              "      padding: 0 0 0 0;\n",
              "      width: 32px;\n",
              "    }\n",
              "\n",
              "    .colab-df-convert:hover {\n",
              "      background-color: #E2EBFA;\n",
              "      box-shadow: 0px 1px 2px rgba(60, 64, 67, 0.3), 0px 1px 3px 1px rgba(60, 64, 67, 0.15);\n",
              "      fill: #174EA6;\n",
              "    }\n",
              "\n",
              "    [theme=dark] .colab-df-convert {\n",
              "      background-color: #3B4455;\n",
              "      fill: #D2E3FC;\n",
              "    }\n",
              "\n",
              "    [theme=dark] .colab-df-convert:hover {\n",
              "      background-color: #434B5C;\n",
              "      box-shadow: 0px 1px 3px 1px rgba(0, 0, 0, 0.15);\n",
              "      filter: drop-shadow(0px 1px 2px rgba(0, 0, 0, 0.3));\n",
              "      fill: #FFFFFF;\n",
              "    }\n",
              "  </style>\n",
              "\n",
              "      <script>\n",
              "        const buttonEl =\n",
              "          document.querySelector('#df-adcd22d6-763e-47d5-a311-07b6025dc896 button.colab-df-convert');\n",
              "        buttonEl.style.display =\n",
              "          google.colab.kernel.accessAllowed ? 'block' : 'none';\n",
              "\n",
              "        async function convertToInteractive(key) {\n",
              "          const element = document.querySelector('#df-adcd22d6-763e-47d5-a311-07b6025dc896');\n",
              "          const dataTable =\n",
              "            await google.colab.kernel.invokeFunction('convertToInteractive',\n",
              "                                                     [key], {});\n",
              "          if (!dataTable) return;\n",
              "\n",
              "          const docLinkHtml = 'Like what you see? Visit the ' +\n",
              "            '<a target=\"_blank\" href=https://colab.research.google.com/notebooks/data_table.ipynb>data table notebook</a>'\n",
              "            + ' to learn more about interactive tables.';\n",
              "          element.innerHTML = '';\n",
              "          dataTable['output_type'] = 'display_data';\n",
              "          await google.colab.output.renderOutput(dataTable, element);\n",
              "          const docLink = document.createElement('div');\n",
              "          docLink.innerHTML = docLinkHtml;\n",
              "          element.appendChild(docLink);\n",
              "        }\n",
              "      </script>\n",
              "    </div>\n",
              "  </div>\n",
              "  "
            ]
          },
          "metadata": {},
          "execution_count": 59
        }
      ],
      "source": [
        "modelMaskFill.predict_mask(txt1, 'all', False)"
      ]
    },
    {
      "cell_type": "code",
      "execution_count": null,
      "metadata": {
        "colab": {
          "base_uri": "https://localhost:8080/"
        },
        "outputId": "81aa23a9-6b4a-4592-f350-1ccdd0b8ab35",
        "id": "YxFvU0FBz_Pq"
      },
      "outputs": [
        {
          "output_type": "execute_result",
          "data": {
            "text/plain": [
              "[{'score': 0.4656066596508026,\n",
              "  'token': 1155,\n",
              "  'token_str': 'आहे',\n",
              "  'sequence': 'मी महाराष्ट्रात आहे.'},\n",
              " {'score': 0.07968812435865402,\n",
              "  'token': 92222,\n",
              "  'token_str': 'राहणार',\n",
              "  'sequence': 'मी महाराष्ट्रात राहणार.'},\n",
              " {'score': 0.07400033622980118,\n",
              "  'token': 1826,\n",
              "  'token_str': 'नाही',\n",
              "  'sequence': 'मी महाराष्ट्रात नाही.'},\n",
              " {'score': 0.05042285844683647,\n",
              "  'token': 1617,\n",
              "  'token_str': '##च',\n",
              "  'sequence': 'मी महाराष्ट्रातच.'},\n",
              " {'score': 0.043737005442380905,\n",
              "  'token': 62560,\n",
              "  'token_str': 'राहतो',\n",
              "  'sequence': 'मी महाराष्ट्रात राहतो.'}]"
            ]
          },
          "metadata": {},
          "execution_count": 60
        }
      ],
      "source": [
        "# Print as dictionary\n",
        "modelMaskFill.predict_mask(txt1, 'all', True)"
      ]
    },
    {
      "cell_type": "markdown",
      "metadata": {
        "id": "zvlL8c637oHz"
      },
      "source": [
        "***"
      ]
    },
    {
      "cell_type": "markdown",
      "metadata": {
        "id": "xOJigNfwUOEg"
      },
      "source": [
        "## **GPT Model**:"
      ]
    },
    {
      "cell_type": "code",
      "execution_count": null,
      "metadata": {
        "id": "dFSNIeq_Tn8G"
      },
      "outputs": [],
      "source": [
        "# create an object\n",
        "modelGPT = GPTModel()"
      ]
    },
    {
      "cell_type": "code",
      "execution_count": null,
      "metadata": {
        "id": "sQFxjCWfz_Pr",
        "outputId": "0ab0333e-6b38-420d-886f-5321fe65dbfc",
        "colab": {
          "base_uri": "https://localhost:8080/"
        }
      },
      "outputs": [
        {
          "output_type": "stream",
          "name": "stdout",
          "text": [
            " autocomplete models: \n",
            "\t marathi-gpt :  l3cube-pune/marathi-gpt\n",
            "\n",
            " similarity models: \n",
            "\t marathi-sentence-similarity-sbert :  l3cube-pune/marathi-sentence-similarity-sbert\n",
            "\t marathi-sentence-bert-nli :  l3cube-pune/marathi-sentence-bert-nli\n",
            "\n",
            " tagger models: \n",
            "\t marathi-ner :  l3cube-pune/marathi-ner\n",
            "\n",
            " sentiment models: \n",
            "\t MarathiSentiment :  l3cube-pune/MarathiSentiment\n",
            "\n",
            " mask_fill models: \n",
            "\t marathi-bert-v2 :  l3cube-pune/marathi-bert-v2\n",
            "\t marathi-roberta :  l3cube-pune/marathi-roberta\n",
            "\t marathi-albert :  l3cube-pune/marathi-albert\n",
            "\n",
            " hate models: \n",
            "\t mahahate-bert :  l3cube-pune/mahahate-bert\n",
            "\t mahahate-multi-roberta :  l3cube-pune/mahahate-multi-roberta\n"
          ]
        }
      ],
      "source": [
        "# list models present in it\n",
        "modelGPT.list_models()"
      ]
    },
    {
      "cell_type": "markdown",
      "metadata": {
        "id": "qjSrLM5BtG-w"
      },
      "source": [
        "### **Usage of GPT Model:**\n",
        "It provides two functionalities\n",
        "* **next_word:** Predicts the next word in the given sentence\n",
        "* **complete_sentence:** Predicts the remanining blank words in the given sentence and completes a sentence."
      ]
    },
    {
      "cell_type": "markdown",
      "metadata": {
        "id": "0FUfUT4tthSd"
      },
      "source": [
        "#### **next_word:**"
      ]
    },
    {
      "cell_type": "code",
      "execution_count": null,
      "metadata": {
        "colab": {
          "base_uri": "https://localhost:8080/"
        },
        "id": "9aV-ET36Uhm3",
        "outputId": "5b146172-4f8e-49c9-d34e-91a737155382"
      },
      "outputs": [
        {
          "output_type": "execute_result",
          "data": {
            "text/plain": [
              "          generated_text\n",
              "0  मला शाळेत जायला  उशीर"
            ],
            "text/html": [
              "\n",
              "  <div id=\"df-26c3aa67-c14e-4fa9-9e33-3ee2a6cb96ce\">\n",
              "    <div class=\"colab-df-container\">\n",
              "      <div>\n",
              "<style scoped>\n",
              "    .dataframe tbody tr th:only-of-type {\n",
              "        vertical-align: middle;\n",
              "    }\n",
              "\n",
              "    .dataframe tbody tr th {\n",
              "        vertical-align: top;\n",
              "    }\n",
              "\n",
              "    .dataframe thead th {\n",
              "        text-align: right;\n",
              "    }\n",
              "</style>\n",
              "<table border=\"1\" class=\"dataframe\">\n",
              "  <thead>\n",
              "    <tr style=\"text-align: right;\">\n",
              "      <th></th>\n",
              "      <th>generated_text</th>\n",
              "    </tr>\n",
              "  </thead>\n",
              "  <tbody>\n",
              "    <tr>\n",
              "      <th>0</th>\n",
              "      <td>मला शाळेत जायला  उशीर</td>\n",
              "    </tr>\n",
              "  </tbody>\n",
              "</table>\n",
              "</div>\n",
              "      <button class=\"colab-df-convert\" onclick=\"convertToInteractive('df-26c3aa67-c14e-4fa9-9e33-3ee2a6cb96ce')\"\n",
              "              title=\"Convert this dataframe to an interactive table.\"\n",
              "              style=\"display:none;\">\n",
              "        \n",
              "  <svg xmlns=\"http://www.w3.org/2000/svg\" height=\"24px\"viewBox=\"0 0 24 24\"\n",
              "       width=\"24px\">\n",
              "    <path d=\"M0 0h24v24H0V0z\" fill=\"none\"/>\n",
              "    <path d=\"M18.56 5.44l.94 2.06.94-2.06 2.06-.94-2.06-.94-.94-2.06-.94 2.06-2.06.94zm-11 1L8.5 8.5l.94-2.06 2.06-.94-2.06-.94L8.5 2.5l-.94 2.06-2.06.94zm10 10l.94 2.06.94-2.06 2.06-.94-2.06-.94-.94-2.06-.94 2.06-2.06.94z\"/><path d=\"M17.41 7.96l-1.37-1.37c-.4-.4-.92-.59-1.43-.59-.52 0-1.04.2-1.43.59L10.3 9.45l-7.72 7.72c-.78.78-.78 2.05 0 2.83L4 21.41c.39.39.9.59 1.41.59.51 0 1.02-.2 1.41-.59l7.78-7.78 2.81-2.81c.8-.78.8-2.07 0-2.86zM5.41 20L4 18.59l7.72-7.72 1.47 1.35L5.41 20z\"/>\n",
              "  </svg>\n",
              "      </button>\n",
              "      \n",
              "  <style>\n",
              "    .colab-df-container {\n",
              "      display:flex;\n",
              "      flex-wrap:wrap;\n",
              "      gap: 12px;\n",
              "    }\n",
              "\n",
              "    .colab-df-convert {\n",
              "      background-color: #E8F0FE;\n",
              "      border: none;\n",
              "      border-radius: 50%;\n",
              "      cursor: pointer;\n",
              "      display: none;\n",
              "      fill: #1967D2;\n",
              "      height: 32px;\n",
              "      padding: 0 0 0 0;\n",
              "      width: 32px;\n",
              "    }\n",
              "\n",
              "    .colab-df-convert:hover {\n",
              "      background-color: #E2EBFA;\n",
              "      box-shadow: 0px 1px 2px rgba(60, 64, 67, 0.3), 0px 1px 3px 1px rgba(60, 64, 67, 0.15);\n",
              "      fill: #174EA6;\n",
              "    }\n",
              "\n",
              "    [theme=dark] .colab-df-convert {\n",
              "      background-color: #3B4455;\n",
              "      fill: #D2E3FC;\n",
              "    }\n",
              "\n",
              "    [theme=dark] .colab-df-convert:hover {\n",
              "      background-color: #434B5C;\n",
              "      box-shadow: 0px 1px 3px 1px rgba(0, 0, 0, 0.15);\n",
              "      filter: drop-shadow(0px 1px 2px rgba(0, 0, 0, 0.3));\n",
              "      fill: #FFFFFF;\n",
              "    }\n",
              "  </style>\n",
              "\n",
              "      <script>\n",
              "        const buttonEl =\n",
              "          document.querySelector('#df-26c3aa67-c14e-4fa9-9e33-3ee2a6cb96ce button.colab-df-convert');\n",
              "        buttonEl.style.display =\n",
              "          google.colab.kernel.accessAllowed ? 'block' : 'none';\n",
              "\n",
              "        async function convertToInteractive(key) {\n",
              "          const element = document.querySelector('#df-26c3aa67-c14e-4fa9-9e33-3ee2a6cb96ce');\n",
              "          const dataTable =\n",
              "            await google.colab.kernel.invokeFunction('convertToInteractive',\n",
              "                                                     [key], {});\n",
              "          if (!dataTable) return;\n",
              "\n",
              "          const docLinkHtml = 'Like what you see? Visit the ' +\n",
              "            '<a target=\"_blank\" href=https://colab.research.google.com/notebooks/data_table.ipynb>data table notebook</a>'\n",
              "            + ' to learn more about interactive tables.';\n",
              "          element.innerHTML = '';\n",
              "          dataTable['output_type'] = 'display_data';\n",
              "          await google.colab.output.renderOutput(dataTable, element);\n",
              "          const docLink = document.createElement('div');\n",
              "          docLink.innerHTML = docLinkHtml;\n",
              "          element.appendChild(docLink);\n",
              "        }\n",
              "      </script>\n",
              "    </div>\n",
              "  </div>\n",
              "  "
            ]
          },
          "metadata": {},
          "execution_count": 63
        }
      ],
      "source": [
        "# Example:\n",
        "\n",
        "txt2 = 'मला शाळेत जायला '\n",
        "# English Translation:\n",
        "# 'I want to go to school '\n",
        "\n",
        "modelGPT.next_word(txt2)"
      ]
    },
    {
      "cell_type": "markdown",
      "metadata": {
        "id": "PyX4bexGt3TS"
      },
      "source": [
        "Optional Parameter(s):\n",
        "* **num_of_predictions** (any number) in int - Default: 1\n",
        "  * Used to pass the number of predictions to be made"
      ]
    },
    {
      "cell_type": "code",
      "execution_count": null,
      "metadata": {
        "colab": {
          "base_uri": "https://localhost:8080/"
        },
        "id": "8ocd4lwvU0sT",
        "outputId": "67255d88-404b-41fb-db6e-1ed7de1ce62f"
      },
      "outputs": [
        {
          "output_type": "execute_result",
          "data": {
            "text/plain": [
              "              generated_text\n",
              "0  मला शाळेत जायला  सांगितलं\n",
              "1  मला शाळेत जायला  सांगितलं\n",
              "2     मला शाळेत जायला  आवडेल\n",
              "3      मला शाळेत जायला  बंदी"
            ],
            "text/html": [
              "\n",
              "  <div id=\"df-07e38d43-47a3-4093-ab13-3476c74f7498\">\n",
              "    <div class=\"colab-df-container\">\n",
              "      <div>\n",
              "<style scoped>\n",
              "    .dataframe tbody tr th:only-of-type {\n",
              "        vertical-align: middle;\n",
              "    }\n",
              "\n",
              "    .dataframe tbody tr th {\n",
              "        vertical-align: top;\n",
              "    }\n",
              "\n",
              "    .dataframe thead th {\n",
              "        text-align: right;\n",
              "    }\n",
              "</style>\n",
              "<table border=\"1\" class=\"dataframe\">\n",
              "  <thead>\n",
              "    <tr style=\"text-align: right;\">\n",
              "      <th></th>\n",
              "      <th>generated_text</th>\n",
              "    </tr>\n",
              "  </thead>\n",
              "  <tbody>\n",
              "    <tr>\n",
              "      <th>0</th>\n",
              "      <td>मला शाळेत जायला  सांगितलं</td>\n",
              "    </tr>\n",
              "    <tr>\n",
              "      <th>1</th>\n",
              "      <td>मला शाळेत जायला  सांगितलं</td>\n",
              "    </tr>\n",
              "    <tr>\n",
              "      <th>2</th>\n",
              "      <td>मला शाळेत जायला  आवडेल</td>\n",
              "    </tr>\n",
              "    <tr>\n",
              "      <th>3</th>\n",
              "      <td>मला शाळेत जायला  बंदी</td>\n",
              "    </tr>\n",
              "  </tbody>\n",
              "</table>\n",
              "</div>\n",
              "      <button class=\"colab-df-convert\" onclick=\"convertToInteractive('df-07e38d43-47a3-4093-ab13-3476c74f7498')\"\n",
              "              title=\"Convert this dataframe to an interactive table.\"\n",
              "              style=\"display:none;\">\n",
              "        \n",
              "  <svg xmlns=\"http://www.w3.org/2000/svg\" height=\"24px\"viewBox=\"0 0 24 24\"\n",
              "       width=\"24px\">\n",
              "    <path d=\"M0 0h24v24H0V0z\" fill=\"none\"/>\n",
              "    <path d=\"M18.56 5.44l.94 2.06.94-2.06 2.06-.94-2.06-.94-.94-2.06-.94 2.06-2.06.94zm-11 1L8.5 8.5l.94-2.06 2.06-.94-2.06-.94L8.5 2.5l-.94 2.06-2.06.94zm10 10l.94 2.06.94-2.06 2.06-.94-2.06-.94-.94-2.06-.94 2.06-2.06.94z\"/><path d=\"M17.41 7.96l-1.37-1.37c-.4-.4-.92-.59-1.43-.59-.52 0-1.04.2-1.43.59L10.3 9.45l-7.72 7.72c-.78.78-.78 2.05 0 2.83L4 21.41c.39.39.9.59 1.41.59.51 0 1.02-.2 1.41-.59l7.78-7.78 2.81-2.81c.8-.78.8-2.07 0-2.86zM5.41 20L4 18.59l7.72-7.72 1.47 1.35L5.41 20z\"/>\n",
              "  </svg>\n",
              "      </button>\n",
              "      \n",
              "  <style>\n",
              "    .colab-df-container {\n",
              "      display:flex;\n",
              "      flex-wrap:wrap;\n",
              "      gap: 12px;\n",
              "    }\n",
              "\n",
              "    .colab-df-convert {\n",
              "      background-color: #E8F0FE;\n",
              "      border: none;\n",
              "      border-radius: 50%;\n",
              "      cursor: pointer;\n",
              "      display: none;\n",
              "      fill: #1967D2;\n",
              "      height: 32px;\n",
              "      padding: 0 0 0 0;\n",
              "      width: 32px;\n",
              "    }\n",
              "\n",
              "    .colab-df-convert:hover {\n",
              "      background-color: #E2EBFA;\n",
              "      box-shadow: 0px 1px 2px rgba(60, 64, 67, 0.3), 0px 1px 3px 1px rgba(60, 64, 67, 0.15);\n",
              "      fill: #174EA6;\n",
              "    }\n",
              "\n",
              "    [theme=dark] .colab-df-convert {\n",
              "      background-color: #3B4455;\n",
              "      fill: #D2E3FC;\n",
              "    }\n",
              "\n",
              "    [theme=dark] .colab-df-convert:hover {\n",
              "      background-color: #434B5C;\n",
              "      box-shadow: 0px 1px 3px 1px rgba(0, 0, 0, 0.15);\n",
              "      filter: drop-shadow(0px 1px 2px rgba(0, 0, 0, 0.3));\n",
              "      fill: #FFFFFF;\n",
              "    }\n",
              "  </style>\n",
              "\n",
              "      <script>\n",
              "        const buttonEl =\n",
              "          document.querySelector('#df-07e38d43-47a3-4093-ab13-3476c74f7498 button.colab-df-convert');\n",
              "        buttonEl.style.display =\n",
              "          google.colab.kernel.accessAllowed ? 'block' : 'none';\n",
              "\n",
              "        async function convertToInteractive(key) {\n",
              "          const element = document.querySelector('#df-07e38d43-47a3-4093-ab13-3476c74f7498');\n",
              "          const dataTable =\n",
              "            await google.colab.kernel.invokeFunction('convertToInteractive',\n",
              "                                                     [key], {});\n",
              "          if (!dataTable) return;\n",
              "\n",
              "          const docLinkHtml = 'Like what you see? Visit the ' +\n",
              "            '<a target=\"_blank\" href=https://colab.research.google.com/notebooks/data_table.ipynb>data table notebook</a>'\n",
              "            + ' to learn more about interactive tables.';\n",
              "          element.innerHTML = '';\n",
              "          dataTable['output_type'] = 'display_data';\n",
              "          await google.colab.output.renderOutput(dataTable, element);\n",
              "          const docLink = document.createElement('div');\n",
              "          docLink.innerHTML = docLinkHtml;\n",
              "          element.appendChild(docLink);\n",
              "        }\n",
              "      </script>\n",
              "    </div>\n",
              "  </div>\n",
              "  "
            ]
          },
          "metadata": {},
          "execution_count": 64
        }
      ],
      "source": [
        "# Example:\n",
        "\n",
        "modelGPT.next_word(txt2, num_of_predictions = 4)"
      ]
    },
    {
      "cell_type": "markdown",
      "metadata": {
        "id": "arsgKoYJufKB"
      },
      "source": [
        "#### **complete_sentence:**"
      ]
    },
    {
      "cell_type": "code",
      "execution_count": null,
      "metadata": {
        "colab": {
          "base_uri": "https://localhost:8080/"
        },
        "id": "qY_rrG3VVL1u",
        "outputId": "11893eb3-fcb0-4eca-8eba-0f34fca5972a"
      },
      "outputs": [
        {
          "output_type": "execute_result",
          "data": {
            "text/plain": [
              "                                                                                                                                generated_text\n",
              "0  आज खूप पाऊस पडला आणि आता पाऊस पडला नाही तर शेतकरी जग णार नाही त्यामुळे शेतकरी पुन्हा संकटात सापडला आहे. त्यामुळे शेतकरी हतबल झाले आहेत. आता"
            ],
            "text/html": [
              "\n",
              "  <div id=\"df-29ad4e59-2136-4eb1-847a-5b964f9a8d49\">\n",
              "    <div class=\"colab-df-container\">\n",
              "      <div>\n",
              "<style scoped>\n",
              "    .dataframe tbody tr th:only-of-type {\n",
              "        vertical-align: middle;\n",
              "    }\n",
              "\n",
              "    .dataframe tbody tr th {\n",
              "        vertical-align: top;\n",
              "    }\n",
              "\n",
              "    .dataframe thead th {\n",
              "        text-align: right;\n",
              "    }\n",
              "</style>\n",
              "<table border=\"1\" class=\"dataframe\">\n",
              "  <thead>\n",
              "    <tr style=\"text-align: right;\">\n",
              "      <th></th>\n",
              "      <th>generated_text</th>\n",
              "    </tr>\n",
              "  </thead>\n",
              "  <tbody>\n",
              "    <tr>\n",
              "      <th>0</th>\n",
              "      <td>आज खूप पाऊस पडला आणि आता पाऊस पडला नाही तर शेतकरी जग णार नाही त्यामुळे शेतकरी पुन्हा संकटात सापडला आहे. त्यामुळे शेतकरी हतबल झाले आहेत. आता</td>\n",
              "    </tr>\n",
              "  </tbody>\n",
              "</table>\n",
              "</div>\n",
              "      <button class=\"colab-df-convert\" onclick=\"convertToInteractive('df-29ad4e59-2136-4eb1-847a-5b964f9a8d49')\"\n",
              "              title=\"Convert this dataframe to an interactive table.\"\n",
              "              style=\"display:none;\">\n",
              "        \n",
              "  <svg xmlns=\"http://www.w3.org/2000/svg\" height=\"24px\"viewBox=\"0 0 24 24\"\n",
              "       width=\"24px\">\n",
              "    <path d=\"M0 0h24v24H0V0z\" fill=\"none\"/>\n",
              "    <path d=\"M18.56 5.44l.94 2.06.94-2.06 2.06-.94-2.06-.94-.94-2.06-.94 2.06-2.06.94zm-11 1L8.5 8.5l.94-2.06 2.06-.94-2.06-.94L8.5 2.5l-.94 2.06-2.06.94zm10 10l.94 2.06.94-2.06 2.06-.94-2.06-.94-.94-2.06-.94 2.06-2.06.94z\"/><path d=\"M17.41 7.96l-1.37-1.37c-.4-.4-.92-.59-1.43-.59-.52 0-1.04.2-1.43.59L10.3 9.45l-7.72 7.72c-.78.78-.78 2.05 0 2.83L4 21.41c.39.39.9.59 1.41.59.51 0 1.02-.2 1.41-.59l7.78-7.78 2.81-2.81c.8-.78.8-2.07 0-2.86zM5.41 20L4 18.59l7.72-7.72 1.47 1.35L5.41 20z\"/>\n",
              "  </svg>\n",
              "      </button>\n",
              "      \n",
              "  <style>\n",
              "    .colab-df-container {\n",
              "      display:flex;\n",
              "      flex-wrap:wrap;\n",
              "      gap: 12px;\n",
              "    }\n",
              "\n",
              "    .colab-df-convert {\n",
              "      background-color: #E8F0FE;\n",
              "      border: none;\n",
              "      border-radius: 50%;\n",
              "      cursor: pointer;\n",
              "      display: none;\n",
              "      fill: #1967D2;\n",
              "      height: 32px;\n",
              "      padding: 0 0 0 0;\n",
              "      width: 32px;\n",
              "    }\n",
              "\n",
              "    .colab-df-convert:hover {\n",
              "      background-color: #E2EBFA;\n",
              "      box-shadow: 0px 1px 2px rgba(60, 64, 67, 0.3), 0px 1px 3px 1px rgba(60, 64, 67, 0.15);\n",
              "      fill: #174EA6;\n",
              "    }\n",
              "\n",
              "    [theme=dark] .colab-df-convert {\n",
              "      background-color: #3B4455;\n",
              "      fill: #D2E3FC;\n",
              "    }\n",
              "\n",
              "    [theme=dark] .colab-df-convert:hover {\n",
              "      background-color: #434B5C;\n",
              "      box-shadow: 0px 1px 3px 1px rgba(0, 0, 0, 0.15);\n",
              "      filter: drop-shadow(0px 1px 2px rgba(0, 0, 0, 0.3));\n",
              "      fill: #FFFFFF;\n",
              "    }\n",
              "  </style>\n",
              "\n",
              "      <script>\n",
              "        const buttonEl =\n",
              "          document.querySelector('#df-29ad4e59-2136-4eb1-847a-5b964f9a8d49 button.colab-df-convert');\n",
              "        buttonEl.style.display =\n",
              "          google.colab.kernel.accessAllowed ? 'block' : 'none';\n",
              "\n",
              "        async function convertToInteractive(key) {\n",
              "          const element = document.querySelector('#df-29ad4e59-2136-4eb1-847a-5b964f9a8d49');\n",
              "          const dataTable =\n",
              "            await google.colab.kernel.invokeFunction('convertToInteractive',\n",
              "                                                     [key], {});\n",
              "          if (!dataTable) return;\n",
              "\n",
              "          const docLinkHtml = 'Like what you see? Visit the ' +\n",
              "            '<a target=\"_blank\" href=https://colab.research.google.com/notebooks/data_table.ipynb>data table notebook</a>'\n",
              "            + ' to learn more about interactive tables.';\n",
              "          element.innerHTML = '';\n",
              "          dataTable['output_type'] = 'display_data';\n",
              "          await google.colab.output.renderOutput(dataTable, element);\n",
              "          const docLink = document.createElement('div');\n",
              "          docLink.innerHTML = docLinkHtml;\n",
              "          element.appendChild(docLink);\n",
              "        }\n",
              "      </script>\n",
              "    </div>\n",
              "  </div>\n",
              "  "
            ]
          },
          "metadata": {},
          "execution_count": 65
        }
      ],
      "source": [
        "# Example:\n",
        "\n",
        "txt3 = 'आज खूप पाऊस'\n",
        "# English Translation:\n",
        "# 'A lot of rain today'\n",
        "\n",
        "modelGPT.complete_sentence(txt3)"
      ]
    },
    {
      "cell_type": "markdown",
      "metadata": {
        "id": "WOimo_54vRvs"
      },
      "source": [
        "Optional Parameter(s):\n",
        "* **num_of_words** (any number) in int - Default: 25\n",
        "  * Used to pass the number of words to be filled\n",
        "* **num_of_predictions** (any number) in int - Default: 1\n",
        "  * Used to pass the number of predictions to be made"
      ]
    },
    {
      "cell_type": "code",
      "execution_count": null,
      "metadata": {
        "colab": {
          "base_uri": "https://localhost:8080/"
        },
        "id": "L3Xb-IsXWuub",
        "outputId": "76b2abb2-d2e7-491c-935a-97c84054d784"
      },
      "outputs": [
        {
          "output_type": "execute_result",
          "data": {
            "text/plain": [
              "                                               generated_text\n",
              "0        आज खूप पाऊस झाला. पण एक दिवस त्याने तो फोटो पाहून तर\n",
              "1   आज खूप पाऊस झाला, आज पुन्हा पावसाची शक्यता आहे. आता मात्र\n",
              "2  आज खूप पाऊस पडणार आहे. या दोन्ही जिल्ह्यात मिळून एकूण 2 13\n",
              "3            आज खूप पाऊस पडेल, असं मला वाटून गेलं. पण हे सगळे"
            ],
            "text/html": [
              "\n",
              "  <div id=\"df-65c3ccf8-3c31-41ea-bcdf-372a88839204\">\n",
              "    <div class=\"colab-df-container\">\n",
              "      <div>\n",
              "<style scoped>\n",
              "    .dataframe tbody tr th:only-of-type {\n",
              "        vertical-align: middle;\n",
              "    }\n",
              "\n",
              "    .dataframe tbody tr th {\n",
              "        vertical-align: top;\n",
              "    }\n",
              "\n",
              "    .dataframe thead th {\n",
              "        text-align: right;\n",
              "    }\n",
              "</style>\n",
              "<table border=\"1\" class=\"dataframe\">\n",
              "  <thead>\n",
              "    <tr style=\"text-align: right;\">\n",
              "      <th></th>\n",
              "      <th>generated_text</th>\n",
              "    </tr>\n",
              "  </thead>\n",
              "  <tbody>\n",
              "    <tr>\n",
              "      <th>0</th>\n",
              "      <td>आज खूप पाऊस झाला. पण एक दिवस त्याने तो फोटो पाहून तर</td>\n",
              "    </tr>\n",
              "    <tr>\n",
              "      <th>1</th>\n",
              "      <td>आज खूप पाऊस झाला, आज पुन्हा पावसाची शक्यता आहे. आता मात्र</td>\n",
              "    </tr>\n",
              "    <tr>\n",
              "      <th>2</th>\n",
              "      <td>आज खूप पाऊस पडणार आहे. या दोन्ही जिल्ह्यात मिळून एकूण 2 13</td>\n",
              "    </tr>\n",
              "    <tr>\n",
              "      <th>3</th>\n",
              "      <td>आज खूप पाऊस पडेल, असं मला वाटून गेलं. पण हे सगळे</td>\n",
              "    </tr>\n",
              "  </tbody>\n",
              "</table>\n",
              "</div>\n",
              "      <button class=\"colab-df-convert\" onclick=\"convertToInteractive('df-65c3ccf8-3c31-41ea-bcdf-372a88839204')\"\n",
              "              title=\"Convert this dataframe to an interactive table.\"\n",
              "              style=\"display:none;\">\n",
              "        \n",
              "  <svg xmlns=\"http://www.w3.org/2000/svg\" height=\"24px\"viewBox=\"0 0 24 24\"\n",
              "       width=\"24px\">\n",
              "    <path d=\"M0 0h24v24H0V0z\" fill=\"none\"/>\n",
              "    <path d=\"M18.56 5.44l.94 2.06.94-2.06 2.06-.94-2.06-.94-.94-2.06-.94 2.06-2.06.94zm-11 1L8.5 8.5l.94-2.06 2.06-.94-2.06-.94L8.5 2.5l-.94 2.06-2.06.94zm10 10l.94 2.06.94-2.06 2.06-.94-2.06-.94-.94-2.06-.94 2.06-2.06.94z\"/><path d=\"M17.41 7.96l-1.37-1.37c-.4-.4-.92-.59-1.43-.59-.52 0-1.04.2-1.43.59L10.3 9.45l-7.72 7.72c-.78.78-.78 2.05 0 2.83L4 21.41c.39.39.9.59 1.41.59.51 0 1.02-.2 1.41-.59l7.78-7.78 2.81-2.81c.8-.78.8-2.07 0-2.86zM5.41 20L4 18.59l7.72-7.72 1.47 1.35L5.41 20z\"/>\n",
              "  </svg>\n",
              "      </button>\n",
              "      \n",
              "  <style>\n",
              "    .colab-df-container {\n",
              "      display:flex;\n",
              "      flex-wrap:wrap;\n",
              "      gap: 12px;\n",
              "    }\n",
              "\n",
              "    .colab-df-convert {\n",
              "      background-color: #E8F0FE;\n",
              "      border: none;\n",
              "      border-radius: 50%;\n",
              "      cursor: pointer;\n",
              "      display: none;\n",
              "      fill: #1967D2;\n",
              "      height: 32px;\n",
              "      padding: 0 0 0 0;\n",
              "      width: 32px;\n",
              "    }\n",
              "\n",
              "    .colab-df-convert:hover {\n",
              "      background-color: #E2EBFA;\n",
              "      box-shadow: 0px 1px 2px rgba(60, 64, 67, 0.3), 0px 1px 3px 1px rgba(60, 64, 67, 0.15);\n",
              "      fill: #174EA6;\n",
              "    }\n",
              "\n",
              "    [theme=dark] .colab-df-convert {\n",
              "      background-color: #3B4455;\n",
              "      fill: #D2E3FC;\n",
              "    }\n",
              "\n",
              "    [theme=dark] .colab-df-convert:hover {\n",
              "      background-color: #434B5C;\n",
              "      box-shadow: 0px 1px 3px 1px rgba(0, 0, 0, 0.15);\n",
              "      filter: drop-shadow(0px 1px 2px rgba(0, 0, 0, 0.3));\n",
              "      fill: #FFFFFF;\n",
              "    }\n",
              "  </style>\n",
              "\n",
              "      <script>\n",
              "        const buttonEl =\n",
              "          document.querySelector('#df-65c3ccf8-3c31-41ea-bcdf-372a88839204 button.colab-df-convert');\n",
              "        buttonEl.style.display =\n",
              "          google.colab.kernel.accessAllowed ? 'block' : 'none';\n",
              "\n",
              "        async function convertToInteractive(key) {\n",
              "          const element = document.querySelector('#df-65c3ccf8-3c31-41ea-bcdf-372a88839204');\n",
              "          const dataTable =\n",
              "            await google.colab.kernel.invokeFunction('convertToInteractive',\n",
              "                                                     [key], {});\n",
              "          if (!dataTable) return;\n",
              "\n",
              "          const docLinkHtml = 'Like what you see? Visit the ' +\n",
              "            '<a target=\"_blank\" href=https://colab.research.google.com/notebooks/data_table.ipynb>data table notebook</a>'\n",
              "            + ' to learn more about interactive tables.';\n",
              "          element.innerHTML = '';\n",
              "          dataTable['output_type'] = 'display_data';\n",
              "          await google.colab.output.renderOutput(dataTable, element);\n",
              "          const docLink = document.createElement('div');\n",
              "          docLink.innerHTML = docLinkHtml;\n",
              "          element.appendChild(docLink);\n",
              "        }\n",
              "      </script>\n",
              "    </div>\n",
              "  </div>\n",
              "  "
            ]
          },
          "metadata": {},
          "execution_count": 66
        }
      ],
      "source": [
        "# Example:\n",
        "\n",
        "modelGPT.complete_sentence(txt3, num_of_words = 10, num_of_predictions = 4)"
      ]
    },
    {
      "cell_type": "markdown",
      "metadata": {
        "id": "js2Tflqm7ibK"
      },
      "source": [
        "***"
      ]
    },
    {
      "cell_type": "markdown",
      "metadata": {
        "id": "xHZDkZPVY1Cq"
      },
      "source": [
        "## **Hate Model:**"
      ]
    },
    {
      "cell_type": "code",
      "execution_count": null,
      "metadata": {
        "id": "wdRmlgU2XTEm"
      },
      "outputs": [],
      "source": [
        "# create an object\n",
        "modelHate = HateModel()"
      ]
    },
    {
      "cell_type": "code",
      "execution_count": null,
      "metadata": {
        "colab": {
          "base_uri": "https://localhost:8080/"
        },
        "id": "r91eZM0px_H6",
        "outputId": "33b6786f-6fbb-468e-ef88-4888d9b4b903"
      },
      "outputs": [
        {
          "output_type": "stream",
          "name": "stdout",
          "text": [
            " hate models: \n",
            "\t mahahate-bert :  l3cube-pune/mahahate-bert\n",
            "\t mahahate-multi-roberta :  l3cube-pune/mahahate-multi-roberta\n",
            "\n",
            " similarity models: \n",
            "\t marathi-sentence-similarity-sbert :  l3cube-pune/marathi-sentence-similarity-sbert\n",
            "\t marathi-sentence-bert-nli :  l3cube-pune/marathi-sentence-bert-nli\n",
            "\n",
            " sentiment models: \n",
            "\t MarathiSentiment :  l3cube-pune/MarathiSentiment\n",
            "\n",
            " mask_fill models: \n",
            "\t marathi-bert-v2 :  l3cube-pune/marathi-bert-v2\n",
            "\t marathi-roberta :  l3cube-pune/marathi-roberta\n",
            "\t marathi-albert :  l3cube-pune/marathi-albert\n",
            "\n",
            " autocomplete models: \n",
            "\t marathi-gpt :  l3cube-pune/marathi-gpt\n",
            "\n",
            " tagger models: \n",
            "\t marathi-ner :  l3cube-pune/marathi-ner\n"
          ]
        }
      ],
      "source": [
        "# list models present in it\n",
        "modelHate.list_models() # this loads with default model. Here, mahahate-bert"
      ]
    },
    {
      "cell_type": "markdown",
      "metadata": {
        "id": "9zLRb69ByKRe"
      },
      "source": [
        "#### **To change the default model:**\n",
        "Pass the name of the model as the argument:\n",
        "\n",
        "modelHate = HateModel('name of model')"
      ]
    },
    {
      "cell_type": "code",
      "execution_count": null,
      "metadata": {
        "id": "n3Ki_cnjyJrD"
      },
      "outputs": [],
      "source": [
        "# Example:\n",
        "\n",
        "modelHate2 = HateModel('mahahate-multi-roberta')"
      ]
    },
    {
      "cell_type": "markdown",
      "metadata": {
        "id": "kdGFjfNVyxh5"
      },
      "source": [
        "### **Usage of HateModel:**\n",
        "It provides one functionality\n",
        "* **get_hate_score:** Gives the hate score of a sentence. It gives the scores as hate (1) and non-hate (0)"
      ]
    },
    {
      "cell_type": "code",
      "execution_count": null,
      "metadata": {
        "colab": {
          "base_uri": "https://localhost:8080/"
        },
        "outputId": "82efe546-f9a8-4cdb-ffc0-1d50a4895b65",
        "id": "N1exSzWBz_Pw"
      },
      "outputs": [
        {
          "output_type": "execute_result",
          "data": {
            "text/plain": [
              "  label     score\n",
              "0  hate  0.966924"
            ],
            "text/html": [
              "\n",
              "  <div id=\"df-255578b6-4579-41d0-a553-65f9afcf27dc\">\n",
              "    <div class=\"colab-df-container\">\n",
              "      <div>\n",
              "<style scoped>\n",
              "    .dataframe tbody tr th:only-of-type {\n",
              "        vertical-align: middle;\n",
              "    }\n",
              "\n",
              "    .dataframe tbody tr th {\n",
              "        vertical-align: top;\n",
              "    }\n",
              "\n",
              "    .dataframe thead th {\n",
              "        text-align: right;\n",
              "    }\n",
              "</style>\n",
              "<table border=\"1\" class=\"dataframe\">\n",
              "  <thead>\n",
              "    <tr style=\"text-align: right;\">\n",
              "      <th></th>\n",
              "      <th>label</th>\n",
              "      <th>score</th>\n",
              "    </tr>\n",
              "  </thead>\n",
              "  <tbody>\n",
              "    <tr>\n",
              "      <th>0</th>\n",
              "      <td>hate</td>\n",
              "      <td>0.966924</td>\n",
              "    </tr>\n",
              "  </tbody>\n",
              "</table>\n",
              "</div>\n",
              "      <button class=\"colab-df-convert\" onclick=\"convertToInteractive('df-255578b6-4579-41d0-a553-65f9afcf27dc')\"\n",
              "              title=\"Convert this dataframe to an interactive table.\"\n",
              "              style=\"display:none;\">\n",
              "        \n",
              "  <svg xmlns=\"http://www.w3.org/2000/svg\" height=\"24px\"viewBox=\"0 0 24 24\"\n",
              "       width=\"24px\">\n",
              "    <path d=\"M0 0h24v24H0V0z\" fill=\"none\"/>\n",
              "    <path d=\"M18.56 5.44l.94 2.06.94-2.06 2.06-.94-2.06-.94-.94-2.06-.94 2.06-2.06.94zm-11 1L8.5 8.5l.94-2.06 2.06-.94-2.06-.94L8.5 2.5l-.94 2.06-2.06.94zm10 10l.94 2.06.94-2.06 2.06-.94-2.06-.94-.94-2.06-.94 2.06-2.06.94z\"/><path d=\"M17.41 7.96l-1.37-1.37c-.4-.4-.92-.59-1.43-.59-.52 0-1.04.2-1.43.59L10.3 9.45l-7.72 7.72c-.78.78-.78 2.05 0 2.83L4 21.41c.39.39.9.59 1.41.59.51 0 1.02-.2 1.41-.59l7.78-7.78 2.81-2.81c.8-.78.8-2.07 0-2.86zM5.41 20L4 18.59l7.72-7.72 1.47 1.35L5.41 20z\"/>\n",
              "  </svg>\n",
              "      </button>\n",
              "      \n",
              "  <style>\n",
              "    .colab-df-container {\n",
              "      display:flex;\n",
              "      flex-wrap:wrap;\n",
              "      gap: 12px;\n",
              "    }\n",
              "\n",
              "    .colab-df-convert {\n",
              "      background-color: #E8F0FE;\n",
              "      border: none;\n",
              "      border-radius: 50%;\n",
              "      cursor: pointer;\n",
              "      display: none;\n",
              "      fill: #1967D2;\n",
              "      height: 32px;\n",
              "      padding: 0 0 0 0;\n",
              "      width: 32px;\n",
              "    }\n",
              "\n",
              "    .colab-df-convert:hover {\n",
              "      background-color: #E2EBFA;\n",
              "      box-shadow: 0px 1px 2px rgba(60, 64, 67, 0.3), 0px 1px 3px 1px rgba(60, 64, 67, 0.15);\n",
              "      fill: #174EA6;\n",
              "    }\n",
              "\n",
              "    [theme=dark] .colab-df-convert {\n",
              "      background-color: #3B4455;\n",
              "      fill: #D2E3FC;\n",
              "    }\n",
              "\n",
              "    [theme=dark] .colab-df-convert:hover {\n",
              "      background-color: #434B5C;\n",
              "      box-shadow: 0px 1px 3px 1px rgba(0, 0, 0, 0.15);\n",
              "      filter: drop-shadow(0px 1px 2px rgba(0, 0, 0, 0.3));\n",
              "      fill: #FFFFFF;\n",
              "    }\n",
              "  </style>\n",
              "\n",
              "      <script>\n",
              "        const buttonEl =\n",
              "          document.querySelector('#df-255578b6-4579-41d0-a553-65f9afcf27dc button.colab-df-convert');\n",
              "        buttonEl.style.display =\n",
              "          google.colab.kernel.accessAllowed ? 'block' : 'none';\n",
              "\n",
              "        async function convertToInteractive(key) {\n",
              "          const element = document.querySelector('#df-255578b6-4579-41d0-a553-65f9afcf27dc');\n",
              "          const dataTable =\n",
              "            await google.colab.kernel.invokeFunction('convertToInteractive',\n",
              "                                                     [key], {});\n",
              "          if (!dataTable) return;\n",
              "\n",
              "          const docLinkHtml = 'Like what you see? Visit the ' +\n",
              "            '<a target=\"_blank\" href=https://colab.research.google.com/notebooks/data_table.ipynb>data table notebook</a>'\n",
              "            + ' to learn more about interactive tables.';\n",
              "          element.innerHTML = '';\n",
              "          dataTable['output_type'] = 'display_data';\n",
              "          await google.colab.output.renderOutput(dataTable, element);\n",
              "          const docLink = document.createElement('div');\n",
              "          docLink.innerHTML = docLinkHtml;\n",
              "          element.appendChild(docLink);\n",
              "        }\n",
              "      </script>\n",
              "    </div>\n",
              "  </div>\n",
              "  "
            ]
          },
          "metadata": {},
          "execution_count": 70
        }
      ],
      "source": [
        "# Example:\n",
        "\n",
        "txt4 = 'ती मूर्ख आहे. मला ती आवडत नाही.'\n",
        "# English Translation:\n",
        "# 'She is stupid. I don't like her.'\n",
        "\n",
        "modelHate.get_hate_score(txt4)"
      ]
    },
    {
      "cell_type": "code",
      "execution_count": null,
      "metadata": {
        "colab": {
          "base_uri": "https://localhost:8080/"
        },
        "outputId": "6a47a961-ec73-4d33-8144-e9c114af8207",
        "id": "F0kd0528z_Pw"
      },
      "outputs": [
        {
          "output_type": "execute_result",
          "data": {
            "text/plain": [
              "      label     score\n",
              "0  non-hate  0.999377"
            ],
            "text/html": [
              "\n",
              "  <div id=\"df-ce0d417a-491f-4b49-b446-b40d95951831\">\n",
              "    <div class=\"colab-df-container\">\n",
              "      <div>\n",
              "<style scoped>\n",
              "    .dataframe tbody tr th:only-of-type {\n",
              "        vertical-align: middle;\n",
              "    }\n",
              "\n",
              "    .dataframe tbody tr th {\n",
              "        vertical-align: top;\n",
              "    }\n",
              "\n",
              "    .dataframe thead th {\n",
              "        text-align: right;\n",
              "    }\n",
              "</style>\n",
              "<table border=\"1\" class=\"dataframe\">\n",
              "  <thead>\n",
              "    <tr style=\"text-align: right;\">\n",
              "      <th></th>\n",
              "      <th>label</th>\n",
              "      <th>score</th>\n",
              "    </tr>\n",
              "  </thead>\n",
              "  <tbody>\n",
              "    <tr>\n",
              "      <th>0</th>\n",
              "      <td>non-hate</td>\n",
              "      <td>0.999377</td>\n",
              "    </tr>\n",
              "  </tbody>\n",
              "</table>\n",
              "</div>\n",
              "      <button class=\"colab-df-convert\" onclick=\"convertToInteractive('df-ce0d417a-491f-4b49-b446-b40d95951831')\"\n",
              "              title=\"Convert this dataframe to an interactive table.\"\n",
              "              style=\"display:none;\">\n",
              "        \n",
              "  <svg xmlns=\"http://www.w3.org/2000/svg\" height=\"24px\"viewBox=\"0 0 24 24\"\n",
              "       width=\"24px\">\n",
              "    <path d=\"M0 0h24v24H0V0z\" fill=\"none\"/>\n",
              "    <path d=\"M18.56 5.44l.94 2.06.94-2.06 2.06-.94-2.06-.94-.94-2.06-.94 2.06-2.06.94zm-11 1L8.5 8.5l.94-2.06 2.06-.94-2.06-.94L8.5 2.5l-.94 2.06-2.06.94zm10 10l.94 2.06.94-2.06 2.06-.94-2.06-.94-.94-2.06-.94 2.06-2.06.94z\"/><path d=\"M17.41 7.96l-1.37-1.37c-.4-.4-.92-.59-1.43-.59-.52 0-1.04.2-1.43.59L10.3 9.45l-7.72 7.72c-.78.78-.78 2.05 0 2.83L4 21.41c.39.39.9.59 1.41.59.51 0 1.02-.2 1.41-.59l7.78-7.78 2.81-2.81c.8-.78.8-2.07 0-2.86zM5.41 20L4 18.59l7.72-7.72 1.47 1.35L5.41 20z\"/>\n",
              "  </svg>\n",
              "      </button>\n",
              "      \n",
              "  <style>\n",
              "    .colab-df-container {\n",
              "      display:flex;\n",
              "      flex-wrap:wrap;\n",
              "      gap: 12px;\n",
              "    }\n",
              "\n",
              "    .colab-df-convert {\n",
              "      background-color: #E8F0FE;\n",
              "      border: none;\n",
              "      border-radius: 50%;\n",
              "      cursor: pointer;\n",
              "      display: none;\n",
              "      fill: #1967D2;\n",
              "      height: 32px;\n",
              "      padding: 0 0 0 0;\n",
              "      width: 32px;\n",
              "    }\n",
              "\n",
              "    .colab-df-convert:hover {\n",
              "      background-color: #E2EBFA;\n",
              "      box-shadow: 0px 1px 2px rgba(60, 64, 67, 0.3), 0px 1px 3px 1px rgba(60, 64, 67, 0.15);\n",
              "      fill: #174EA6;\n",
              "    }\n",
              "\n",
              "    [theme=dark] .colab-df-convert {\n",
              "      background-color: #3B4455;\n",
              "      fill: #D2E3FC;\n",
              "    }\n",
              "\n",
              "    [theme=dark] .colab-df-convert:hover {\n",
              "      background-color: #434B5C;\n",
              "      box-shadow: 0px 1px 3px 1px rgba(0, 0, 0, 0.15);\n",
              "      filter: drop-shadow(0px 1px 2px rgba(0, 0, 0, 0.3));\n",
              "      fill: #FFFFFF;\n",
              "    }\n",
              "  </style>\n",
              "\n",
              "      <script>\n",
              "        const buttonEl =\n",
              "          document.querySelector('#df-ce0d417a-491f-4b49-b446-b40d95951831 button.colab-df-convert');\n",
              "        buttonEl.style.display =\n",
              "          google.colab.kernel.accessAllowed ? 'block' : 'none';\n",
              "\n",
              "        async function convertToInteractive(key) {\n",
              "          const element = document.querySelector('#df-ce0d417a-491f-4b49-b446-b40d95951831');\n",
              "          const dataTable =\n",
              "            await google.colab.kernel.invokeFunction('convertToInteractive',\n",
              "                                                     [key], {});\n",
              "          if (!dataTable) return;\n",
              "\n",
              "          const docLinkHtml = 'Like what you see? Visit the ' +\n",
              "            '<a target=\"_blank\" href=https://colab.research.google.com/notebooks/data_table.ipynb>data table notebook</a>'\n",
              "            + ' to learn more about interactive tables.';\n",
              "          element.innerHTML = '';\n",
              "          dataTable['output_type'] = 'display_data';\n",
              "          await google.colab.output.renderOutput(dataTable, element);\n",
              "          const docLink = document.createElement('div');\n",
              "          docLink.innerHTML = docLinkHtml;\n",
              "          element.appendChild(docLink);\n",
              "        }\n",
              "      </script>\n",
              "    </div>\n",
              "  </div>\n",
              "  "
            ]
          },
          "metadata": {},
          "execution_count": 71
        }
      ],
      "source": [
        "# Example\n",
        "txt5 = 'मला तुझे खूप कौतुक वाटते.'\n",
        "# English Translation:\n",
        "# 'I appreciate you so much.'\n",
        "\n",
        "modelHate.get_hate_score(txt5)"
      ]
    },
    {
      "cell_type": "markdown",
      "metadata": {
        "id": "uq1qUT-S7gg9"
      },
      "source": [
        "***"
      ]
    },
    {
      "cell_type": "markdown",
      "metadata": {
        "id": "b-Mfe4Wabixu"
      },
      "source": [
        "## **NER Model:**"
      ]
    },
    {
      "cell_type": "code",
      "execution_count": null,
      "metadata": {
        "id": "5DQE184_aJfT"
      },
      "outputs": [],
      "source": [
        "# create an object:\n",
        "modelNER = NERModel()"
      ]
    },
    {
      "cell_type": "code",
      "execution_count": null,
      "metadata": {
        "colab": {
          "base_uri": "https://localhost:8080/"
        },
        "id": "geC1zT8m3RoS",
        "outputId": "89f94fff-a026-4d97-964b-3cc08027a9b3"
      },
      "outputs": [
        {
          "output_type": "stream",
          "name": "stdout",
          "text": [
            " tagger models: \n",
            "\t marathi-ner :  l3cube-pune/marathi-ner\n",
            "\n",
            " similarity models: \n",
            "\t marathi-sentence-similarity-sbert :  l3cube-pune/marathi-sentence-similarity-sbert\n",
            "\t marathi-sentence-bert-nli :  l3cube-pune/marathi-sentence-bert-nli\n",
            "\n",
            " sentiment models: \n",
            "\t MarathiSentiment :  l3cube-pune/MarathiSentiment\n",
            "\n",
            " mask_fill models: \n",
            "\t marathi-bert-v2 :  l3cube-pune/marathi-bert-v2\n",
            "\t marathi-roberta :  l3cube-pune/marathi-roberta\n",
            "\t marathi-albert :  l3cube-pune/marathi-albert\n",
            "\n",
            " autocomplete models: \n",
            "\t marathi-gpt :  l3cube-pune/marathi-gpt\n",
            "\n",
            " hate models: \n",
            "\t mahahate-bert :  l3cube-pune/mahahate-bert\n",
            "\t mahahate-multi-roberta :  l3cube-pune/mahahate-multi-roberta\n"
          ]
        }
      ],
      "source": [
        "# list models present in it\n",
        "modelNER.list_models()"
      ]
    },
    {
      "cell_type": "markdown",
      "metadata": {
        "id": "5fwsnseG3Wc6"
      },
      "source": [
        "### **Usage of NER Model:**\n",
        "It provides two functionalities\n",
        "* **get_token_labels:** Gives the polarity score of words in a sentence along with the tokens\n",
        "* **get_tokens:** Gives tokens for each word"
      ]
    },
    {
      "cell_type": "markdown",
      "metadata": {
        "id": "OlaggFX-4AZd"
      },
      "source": [
        "#### **get_token_labels:**"
      ]
    },
    {
      "cell_type": "code",
      "execution_count": null,
      "metadata": {
        "colab": {
          "base_uri": "https://localhost:8080/"
        },
        "id": "PvW2qIKQgP5F",
        "outputId": "04a61d22-1548-4ca2-ac15-eac2cd8c3e5e"
      },
      "outputs": [
        {
          "output_type": "execute_result",
          "data": {
            "text/plain": [
              "      word entity_group\n",
              "0       १७         Date\n",
              "1  तारखेला        Other\n",
              "2   आदित्य       Person\n",
              "3  पुण्यात     Location\n",
              "4     आला.        Other"
            ],
            "text/html": [
              "\n",
              "  <div id=\"df-2288169f-24b6-4658-ac31-99c0dd0f17d3\">\n",
              "    <div class=\"colab-df-container\">\n",
              "      <div>\n",
              "<style scoped>\n",
              "    .dataframe tbody tr th:only-of-type {\n",
              "        vertical-align: middle;\n",
              "    }\n",
              "\n",
              "    .dataframe tbody tr th {\n",
              "        vertical-align: top;\n",
              "    }\n",
              "\n",
              "    .dataframe thead th {\n",
              "        text-align: right;\n",
              "    }\n",
              "</style>\n",
              "<table border=\"1\" class=\"dataframe\">\n",
              "  <thead>\n",
              "    <tr style=\"text-align: right;\">\n",
              "      <th></th>\n",
              "      <th>word</th>\n",
              "      <th>entity_group</th>\n",
              "    </tr>\n",
              "  </thead>\n",
              "  <tbody>\n",
              "    <tr>\n",
              "      <th>0</th>\n",
              "      <td>१७</td>\n",
              "      <td>Date</td>\n",
              "    </tr>\n",
              "    <tr>\n",
              "      <th>1</th>\n",
              "      <td>तारखेला</td>\n",
              "      <td>Other</td>\n",
              "    </tr>\n",
              "    <tr>\n",
              "      <th>2</th>\n",
              "      <td>आदित्य</td>\n",
              "      <td>Person</td>\n",
              "    </tr>\n",
              "    <tr>\n",
              "      <th>3</th>\n",
              "      <td>पुण्यात</td>\n",
              "      <td>Location</td>\n",
              "    </tr>\n",
              "    <tr>\n",
              "      <th>4</th>\n",
              "      <td>आला.</td>\n",
              "      <td>Other</td>\n",
              "    </tr>\n",
              "  </tbody>\n",
              "</table>\n",
              "</div>\n",
              "      <button class=\"colab-df-convert\" onclick=\"convertToInteractive('df-2288169f-24b6-4658-ac31-99c0dd0f17d3')\"\n",
              "              title=\"Convert this dataframe to an interactive table.\"\n",
              "              style=\"display:none;\">\n",
              "        \n",
              "  <svg xmlns=\"http://www.w3.org/2000/svg\" height=\"24px\"viewBox=\"0 0 24 24\"\n",
              "       width=\"24px\">\n",
              "    <path d=\"M0 0h24v24H0V0z\" fill=\"none\"/>\n",
              "    <path d=\"M18.56 5.44l.94 2.06.94-2.06 2.06-.94-2.06-.94-.94-2.06-.94 2.06-2.06.94zm-11 1L8.5 8.5l.94-2.06 2.06-.94-2.06-.94L8.5 2.5l-.94 2.06-2.06.94zm10 10l.94 2.06.94-2.06 2.06-.94-2.06-.94-.94-2.06-.94 2.06-2.06.94z\"/><path d=\"M17.41 7.96l-1.37-1.37c-.4-.4-.92-.59-1.43-.59-.52 0-1.04.2-1.43.59L10.3 9.45l-7.72 7.72c-.78.78-.78 2.05 0 2.83L4 21.41c.39.39.9.59 1.41.59.51 0 1.02-.2 1.41-.59l7.78-7.78 2.81-2.81c.8-.78.8-2.07 0-2.86zM5.41 20L4 18.59l7.72-7.72 1.47 1.35L5.41 20z\"/>\n",
              "  </svg>\n",
              "      </button>\n",
              "      \n",
              "  <style>\n",
              "    .colab-df-container {\n",
              "      display:flex;\n",
              "      flex-wrap:wrap;\n",
              "      gap: 12px;\n",
              "    }\n",
              "\n",
              "    .colab-df-convert {\n",
              "      background-color: #E8F0FE;\n",
              "      border: none;\n",
              "      border-radius: 50%;\n",
              "      cursor: pointer;\n",
              "      display: none;\n",
              "      fill: #1967D2;\n",
              "      height: 32px;\n",
              "      padding: 0 0 0 0;\n",
              "      width: 32px;\n",
              "    }\n",
              "\n",
              "    .colab-df-convert:hover {\n",
              "      background-color: #E2EBFA;\n",
              "      box-shadow: 0px 1px 2px rgba(60, 64, 67, 0.3), 0px 1px 3px 1px rgba(60, 64, 67, 0.15);\n",
              "      fill: #174EA6;\n",
              "    }\n",
              "\n",
              "    [theme=dark] .colab-df-convert {\n",
              "      background-color: #3B4455;\n",
              "      fill: #D2E3FC;\n",
              "    }\n",
              "\n",
              "    [theme=dark] .colab-df-convert:hover {\n",
              "      background-color: #434B5C;\n",
              "      box-shadow: 0px 1px 3px 1px rgba(0, 0, 0, 0.15);\n",
              "      filter: drop-shadow(0px 1px 2px rgba(0, 0, 0, 0.3));\n",
              "      fill: #FFFFFF;\n",
              "    }\n",
              "  </style>\n",
              "\n",
              "      <script>\n",
              "        const buttonEl =\n",
              "          document.querySelector('#df-2288169f-24b6-4658-ac31-99c0dd0f17d3 button.colab-df-convert');\n",
              "        buttonEl.style.display =\n",
              "          google.colab.kernel.accessAllowed ? 'block' : 'none';\n",
              "\n",
              "        async function convertToInteractive(key) {\n",
              "          const element = document.querySelector('#df-2288169f-24b6-4658-ac31-99c0dd0f17d3');\n",
              "          const dataTable =\n",
              "            await google.colab.kernel.invokeFunction('convertToInteractive',\n",
              "                                                     [key], {});\n",
              "          if (!dataTable) return;\n",
              "\n",
              "          const docLinkHtml = 'Like what you see? Visit the ' +\n",
              "            '<a target=\"_blank\" href=https://colab.research.google.com/notebooks/data_table.ipynb>data table notebook</a>'\n",
              "            + ' to learn more about interactive tables.';\n",
              "          element.innerHTML = '';\n",
              "          dataTable['output_type'] = 'display_data';\n",
              "          await google.colab.output.renderOutput(dataTable, element);\n",
              "          const docLink = document.createElement('div');\n",
              "          docLink.innerHTML = docLinkHtml;\n",
              "          element.appendChild(docLink);\n",
              "        }\n",
              "      </script>\n",
              "    </div>\n",
              "  </div>\n",
              "  "
            ]
          },
          "metadata": {},
          "execution_count": 74
        }
      ],
      "source": [
        "# Example\n",
        "\n",
        "txt6 = '१७ तारखेला आदित्य पुण्यात आला.'\n",
        "# English Translation:\n",
        "# 'Aditya came to Pune on 17th.'\n",
        "\n",
        "modelNER.get_token_labels(txt6)"
      ]
    },
    {
      "cell_type": "markdown",
      "metadata": {
        "id": "34Z2XUII5E_O"
      },
      "source": [
        "Optional Parameter(s):\n",
        "* **details** (minimum, medium, all) in string - Default: minimum\n",
        "  * Used to pass the detailedness to be considered\n",
        "* **as_dict** (True, False) in boolean - Default: False\n",
        "  * Used to define the print type"
      ]
    },
    {
      "cell_type": "code",
      "execution_count": null,
      "metadata": {
        "colab": {
          "base_uri": "https://localhost:8080/"
        },
        "id": "jMJj3o_l5RYD",
        "outputId": "88b9db6f-1136-44a7-b1b5-5e26c9cec817"
      },
      "outputs": [
        {
          "output_type": "execute_result",
          "data": {
            "text/plain": [
              "      word entity_group     score\n",
              "0       १७         Date  0.997312\n",
              "1  तारखेला        Other  0.999764\n",
              "2   आदित्य       Person  0.999070\n",
              "3  पुण्यात     Location  0.997783\n",
              "4     आला.        Other  0.999862"
            ],
            "text/html": [
              "\n",
              "  <div id=\"df-4444970b-e241-4a91-bb8e-8daff8576c53\">\n",
              "    <div class=\"colab-df-container\">\n",
              "      <div>\n",
              "<style scoped>\n",
              "    .dataframe tbody tr th:only-of-type {\n",
              "        vertical-align: middle;\n",
              "    }\n",
              "\n",
              "    .dataframe tbody tr th {\n",
              "        vertical-align: top;\n",
              "    }\n",
              "\n",
              "    .dataframe thead th {\n",
              "        text-align: right;\n",
              "    }\n",
              "</style>\n",
              "<table border=\"1\" class=\"dataframe\">\n",
              "  <thead>\n",
              "    <tr style=\"text-align: right;\">\n",
              "      <th></th>\n",
              "      <th>word</th>\n",
              "      <th>entity_group</th>\n",
              "      <th>score</th>\n",
              "    </tr>\n",
              "  </thead>\n",
              "  <tbody>\n",
              "    <tr>\n",
              "      <th>0</th>\n",
              "      <td>१७</td>\n",
              "      <td>Date</td>\n",
              "      <td>0.997312</td>\n",
              "    </tr>\n",
              "    <tr>\n",
              "      <th>1</th>\n",
              "      <td>तारखेला</td>\n",
              "      <td>Other</td>\n",
              "      <td>0.999764</td>\n",
              "    </tr>\n",
              "    <tr>\n",
              "      <th>2</th>\n",
              "      <td>आदित्य</td>\n",
              "      <td>Person</td>\n",
              "      <td>0.999070</td>\n",
              "    </tr>\n",
              "    <tr>\n",
              "      <th>3</th>\n",
              "      <td>पुण्यात</td>\n",
              "      <td>Location</td>\n",
              "      <td>0.997783</td>\n",
              "    </tr>\n",
              "    <tr>\n",
              "      <th>4</th>\n",
              "      <td>आला.</td>\n",
              "      <td>Other</td>\n",
              "      <td>0.999862</td>\n",
              "    </tr>\n",
              "  </tbody>\n",
              "</table>\n",
              "</div>\n",
              "      <button class=\"colab-df-convert\" onclick=\"convertToInteractive('df-4444970b-e241-4a91-bb8e-8daff8576c53')\"\n",
              "              title=\"Convert this dataframe to an interactive table.\"\n",
              "              style=\"display:none;\">\n",
              "        \n",
              "  <svg xmlns=\"http://www.w3.org/2000/svg\" height=\"24px\"viewBox=\"0 0 24 24\"\n",
              "       width=\"24px\">\n",
              "    <path d=\"M0 0h24v24H0V0z\" fill=\"none\"/>\n",
              "    <path d=\"M18.56 5.44l.94 2.06.94-2.06 2.06-.94-2.06-.94-.94-2.06-.94 2.06-2.06.94zm-11 1L8.5 8.5l.94-2.06 2.06-.94-2.06-.94L8.5 2.5l-.94 2.06-2.06.94zm10 10l.94 2.06.94-2.06 2.06-.94-2.06-.94-.94-2.06-.94 2.06-2.06.94z\"/><path d=\"M17.41 7.96l-1.37-1.37c-.4-.4-.92-.59-1.43-.59-.52 0-1.04.2-1.43.59L10.3 9.45l-7.72 7.72c-.78.78-.78 2.05 0 2.83L4 21.41c.39.39.9.59 1.41.59.51 0 1.02-.2 1.41-.59l7.78-7.78 2.81-2.81c.8-.78.8-2.07 0-2.86zM5.41 20L4 18.59l7.72-7.72 1.47 1.35L5.41 20z\"/>\n",
              "  </svg>\n",
              "      </button>\n",
              "      \n",
              "  <style>\n",
              "    .colab-df-container {\n",
              "      display:flex;\n",
              "      flex-wrap:wrap;\n",
              "      gap: 12px;\n",
              "    }\n",
              "\n",
              "    .colab-df-convert {\n",
              "      background-color: #E8F0FE;\n",
              "      border: none;\n",
              "      border-radius: 50%;\n",
              "      cursor: pointer;\n",
              "      display: none;\n",
              "      fill: #1967D2;\n",
              "      height: 32px;\n",
              "      padding: 0 0 0 0;\n",
              "      width: 32px;\n",
              "    }\n",
              "\n",
              "    .colab-df-convert:hover {\n",
              "      background-color: #E2EBFA;\n",
              "      box-shadow: 0px 1px 2px rgba(60, 64, 67, 0.3), 0px 1px 3px 1px rgba(60, 64, 67, 0.15);\n",
              "      fill: #174EA6;\n",
              "    }\n",
              "\n",
              "    [theme=dark] .colab-df-convert {\n",
              "      background-color: #3B4455;\n",
              "      fill: #D2E3FC;\n",
              "    }\n",
              "\n",
              "    [theme=dark] .colab-df-convert:hover {\n",
              "      background-color: #434B5C;\n",
              "      box-shadow: 0px 1px 3px 1px rgba(0, 0, 0, 0.15);\n",
              "      filter: drop-shadow(0px 1px 2px rgba(0, 0, 0, 0.3));\n",
              "      fill: #FFFFFF;\n",
              "    }\n",
              "  </style>\n",
              "\n",
              "      <script>\n",
              "        const buttonEl =\n",
              "          document.querySelector('#df-4444970b-e241-4a91-bb8e-8daff8576c53 button.colab-df-convert');\n",
              "        buttonEl.style.display =\n",
              "          google.colab.kernel.accessAllowed ? 'block' : 'none';\n",
              "\n",
              "        async function convertToInteractive(key) {\n",
              "          const element = document.querySelector('#df-4444970b-e241-4a91-bb8e-8daff8576c53');\n",
              "          const dataTable =\n",
              "            await google.colab.kernel.invokeFunction('convertToInteractive',\n",
              "                                                     [key], {});\n",
              "          if (!dataTable) return;\n",
              "\n",
              "          const docLinkHtml = 'Like what you see? Visit the ' +\n",
              "            '<a target=\"_blank\" href=https://colab.research.google.com/notebooks/data_table.ipynb>data table notebook</a>'\n",
              "            + ' to learn more about interactive tables.';\n",
              "          element.innerHTML = '';\n",
              "          dataTable['output_type'] = 'display_data';\n",
              "          await google.colab.output.renderOutput(dataTable, element);\n",
              "          const docLink = document.createElement('div');\n",
              "          docLink.innerHTML = docLinkHtml;\n",
              "          element.appendChild(docLink);\n",
              "        }\n",
              "      </script>\n",
              "    </div>\n",
              "  </div>\n",
              "  "
            ]
          },
          "metadata": {},
          "execution_count": 75
        }
      ],
      "source": [
        "# Example:\n",
        "\n",
        "modelNER.get_token_labels(txt6, details = 'medium', as_dict = False)\n",
        "# prints the polarity score of the individual words as well"
      ]
    },
    {
      "cell_type": "code",
      "execution_count": null,
      "metadata": {
        "colab": {
          "base_uri": "https://localhost:8080/"
        },
        "id": "3s6FoEEi5d6X",
        "outputId": "d36faa6f-235b-439c-c3f7-ffcb32dd5fac"
      },
      "outputs": [
        {
          "output_type": "execute_result",
          "data": {
            "text/plain": [
              "      word entity_group     score  start  end\n",
              "0       १७         Date  0.997312      0    2\n",
              "1  तारखेला        Other  0.999764      3   10\n",
              "2   आदित्य       Person  0.999070     11   17\n",
              "3  पुण्यात     Location  0.997783     18   25\n",
              "4     आला.        Other  0.999862     26   30"
            ],
            "text/html": [
              "\n",
              "  <div id=\"df-e0c9a320-8a74-4f1a-b939-bc0547edc9e3\">\n",
              "    <div class=\"colab-df-container\">\n",
              "      <div>\n",
              "<style scoped>\n",
              "    .dataframe tbody tr th:only-of-type {\n",
              "        vertical-align: middle;\n",
              "    }\n",
              "\n",
              "    .dataframe tbody tr th {\n",
              "        vertical-align: top;\n",
              "    }\n",
              "\n",
              "    .dataframe thead th {\n",
              "        text-align: right;\n",
              "    }\n",
              "</style>\n",
              "<table border=\"1\" class=\"dataframe\">\n",
              "  <thead>\n",
              "    <tr style=\"text-align: right;\">\n",
              "      <th></th>\n",
              "      <th>word</th>\n",
              "      <th>entity_group</th>\n",
              "      <th>score</th>\n",
              "      <th>start</th>\n",
              "      <th>end</th>\n",
              "    </tr>\n",
              "  </thead>\n",
              "  <tbody>\n",
              "    <tr>\n",
              "      <th>0</th>\n",
              "      <td>१७</td>\n",
              "      <td>Date</td>\n",
              "      <td>0.997312</td>\n",
              "      <td>0</td>\n",
              "      <td>2</td>\n",
              "    </tr>\n",
              "    <tr>\n",
              "      <th>1</th>\n",
              "      <td>तारखेला</td>\n",
              "      <td>Other</td>\n",
              "      <td>0.999764</td>\n",
              "      <td>3</td>\n",
              "      <td>10</td>\n",
              "    </tr>\n",
              "    <tr>\n",
              "      <th>2</th>\n",
              "      <td>आदित्य</td>\n",
              "      <td>Person</td>\n",
              "      <td>0.999070</td>\n",
              "      <td>11</td>\n",
              "      <td>17</td>\n",
              "    </tr>\n",
              "    <tr>\n",
              "      <th>3</th>\n",
              "      <td>पुण्यात</td>\n",
              "      <td>Location</td>\n",
              "      <td>0.997783</td>\n",
              "      <td>18</td>\n",
              "      <td>25</td>\n",
              "    </tr>\n",
              "    <tr>\n",
              "      <th>4</th>\n",
              "      <td>आला.</td>\n",
              "      <td>Other</td>\n",
              "      <td>0.999862</td>\n",
              "      <td>26</td>\n",
              "      <td>30</td>\n",
              "    </tr>\n",
              "  </tbody>\n",
              "</table>\n",
              "</div>\n",
              "      <button class=\"colab-df-convert\" onclick=\"convertToInteractive('df-e0c9a320-8a74-4f1a-b939-bc0547edc9e3')\"\n",
              "              title=\"Convert this dataframe to an interactive table.\"\n",
              "              style=\"display:none;\">\n",
              "        \n",
              "  <svg xmlns=\"http://www.w3.org/2000/svg\" height=\"24px\"viewBox=\"0 0 24 24\"\n",
              "       width=\"24px\">\n",
              "    <path d=\"M0 0h24v24H0V0z\" fill=\"none\"/>\n",
              "    <path d=\"M18.56 5.44l.94 2.06.94-2.06 2.06-.94-2.06-.94-.94-2.06-.94 2.06-2.06.94zm-11 1L8.5 8.5l.94-2.06 2.06-.94-2.06-.94L8.5 2.5l-.94 2.06-2.06.94zm10 10l.94 2.06.94-2.06 2.06-.94-2.06-.94-.94-2.06-.94 2.06-2.06.94z\"/><path d=\"M17.41 7.96l-1.37-1.37c-.4-.4-.92-.59-1.43-.59-.52 0-1.04.2-1.43.59L10.3 9.45l-7.72 7.72c-.78.78-.78 2.05 0 2.83L4 21.41c.39.39.9.59 1.41.59.51 0 1.02-.2 1.41-.59l7.78-7.78 2.81-2.81c.8-.78.8-2.07 0-2.86zM5.41 20L4 18.59l7.72-7.72 1.47 1.35L5.41 20z\"/>\n",
              "  </svg>\n",
              "      </button>\n",
              "      \n",
              "  <style>\n",
              "    .colab-df-container {\n",
              "      display:flex;\n",
              "      flex-wrap:wrap;\n",
              "      gap: 12px;\n",
              "    }\n",
              "\n",
              "    .colab-df-convert {\n",
              "      background-color: #E8F0FE;\n",
              "      border: none;\n",
              "      border-radius: 50%;\n",
              "      cursor: pointer;\n",
              "      display: none;\n",
              "      fill: #1967D2;\n",
              "      height: 32px;\n",
              "      padding: 0 0 0 0;\n",
              "      width: 32px;\n",
              "    }\n",
              "\n",
              "    .colab-df-convert:hover {\n",
              "      background-color: #E2EBFA;\n",
              "      box-shadow: 0px 1px 2px rgba(60, 64, 67, 0.3), 0px 1px 3px 1px rgba(60, 64, 67, 0.15);\n",
              "      fill: #174EA6;\n",
              "    }\n",
              "\n",
              "    [theme=dark] .colab-df-convert {\n",
              "      background-color: #3B4455;\n",
              "      fill: #D2E3FC;\n",
              "    }\n",
              "\n",
              "    [theme=dark] .colab-df-convert:hover {\n",
              "      background-color: #434B5C;\n",
              "      box-shadow: 0px 1px 3px 1px rgba(0, 0, 0, 0.15);\n",
              "      filter: drop-shadow(0px 1px 2px rgba(0, 0, 0, 0.3));\n",
              "      fill: #FFFFFF;\n",
              "    }\n",
              "  </style>\n",
              "\n",
              "      <script>\n",
              "        const buttonEl =\n",
              "          document.querySelector('#df-e0c9a320-8a74-4f1a-b939-bc0547edc9e3 button.colab-df-convert');\n",
              "        buttonEl.style.display =\n",
              "          google.colab.kernel.accessAllowed ? 'block' : 'none';\n",
              "\n",
              "        async function convertToInteractive(key) {\n",
              "          const element = document.querySelector('#df-e0c9a320-8a74-4f1a-b939-bc0547edc9e3');\n",
              "          const dataTable =\n",
              "            await google.colab.kernel.invokeFunction('convertToInteractive',\n",
              "                                                     [key], {});\n",
              "          if (!dataTable) return;\n",
              "\n",
              "          const docLinkHtml = 'Like what you see? Visit the ' +\n",
              "            '<a target=\"_blank\" href=https://colab.research.google.com/notebooks/data_table.ipynb>data table notebook</a>'\n",
              "            + ' to learn more about interactive tables.';\n",
              "          element.innerHTML = '';\n",
              "          dataTable['output_type'] = 'display_data';\n",
              "          await google.colab.output.renderOutput(dataTable, element);\n",
              "          const docLink = document.createElement('div');\n",
              "          docLink.innerHTML = docLinkHtml;\n",
              "          element.appendChild(docLink);\n",
              "        }\n",
              "      </script>\n",
              "    </div>\n",
              "  </div>\n",
              "  "
            ]
          },
          "metadata": {},
          "execution_count": 76
        }
      ],
      "source": [
        "modelNER.get_token_labels(txt6, details = 'all', as_dict = False)\n",
        "# prints the start as well as the end index for the individual word"
      ]
    },
    {
      "cell_type": "code",
      "execution_count": null,
      "metadata": {
        "colab": {
          "base_uri": "https://localhost:8080/"
        },
        "id": "wJO8rh9r5hd5",
        "outputId": "0c6535fc-e636-43e2-9fc5-b7f518eadc05"
      },
      "outputs": [
        {
          "output_type": "execute_result",
          "data": {
            "text/plain": [
              "[{'word': '१७',\n",
              "  'entity_group': 'Date',\n",
              "  'score': 0.9973124265670776,\n",
              "  'start': 0,\n",
              "  'end': 2},\n",
              " {'word': 'तारखेला',\n",
              "  'entity_group': 'Other',\n",
              "  'score': 0.9997643828392029,\n",
              "  'start': 3,\n",
              "  'end': 10},\n",
              " {'word': 'आदित्य',\n",
              "  'entity_group': 'Person',\n",
              "  'score': 0.9990702271461487,\n",
              "  'start': 11,\n",
              "  'end': 17},\n",
              " {'word': 'पुण्यात',\n",
              "  'entity_group': 'Location',\n",
              "  'score': 0.997783362865448,\n",
              "  'start': 18,\n",
              "  'end': 25},\n",
              " {'word': 'आला.',\n",
              "  'entity_group': 'Other',\n",
              "  'score': 0.9998623132705688,\n",
              "  'start': 26,\n",
              "  'end': 30}]"
            ]
          },
          "metadata": {},
          "execution_count": 77
        }
      ],
      "source": [
        "modelNER.get_token_labels(txt6, details = 'all', as_dict = True)\n",
        "# prints in dictionary form"
      ]
    },
    {
      "cell_type": "markdown",
      "metadata": {
        "id": "1CKHfwIv4QnU"
      },
      "source": [
        "#### **get_tokens:**"
      ]
    },
    {
      "cell_type": "code",
      "execution_count": null,
      "metadata": {
        "colab": {
          "base_uri": "https://localhost:8080/"
        },
        "id": "wAwrLX6FbppL",
        "outputId": "0a59c1d6-018a-4723-9b2f-eb06096b8d66"
      },
      "outputs": [
        {
          "output_type": "execute_result",
          "data": {
            "text/plain": [
              "'Person Other Person Date Other Location Other Other'"
            ],
            "application/vnd.google.colaboratory.intrinsic+json": {
              "type": "string"
            }
          },
          "metadata": {},
          "execution_count": 78
        }
      ],
      "source": [
        "# Example:\n",
        "\n",
        "txt7 = 'मेघा आणि लता ४ तारखेला महाबळेश्वरला जाणार आहे.'\n",
        "# English Translation:\n",
        "# 'Megha and Lata will go to Mahabaleshwar on 4th.'\n",
        "\n",
        "modelNER.get_tokens(txt7)"
      ]
    },
    {
      "cell_type": "markdown",
      "metadata": {
        "id": "6aFkmbMY7a0o"
      },
      "source": [
        "***"
      ]
    },
    {
      "cell_type": "markdown",
      "metadata": {
        "id": "DJ0ZcucFbeIh"
      },
      "source": [
        "## **Sentiment:**"
      ]
    },
    {
      "cell_type": "code",
      "execution_count": null,
      "metadata": {
        "id": "mcQxs6qCiBh2"
      },
      "outputs": [],
      "source": [
        "# create an object\n",
        "modelSentiment = SentimentModel()"
      ]
    },
    {
      "cell_type": "code",
      "execution_count": null,
      "metadata": {
        "colab": {
          "base_uri": "https://localhost:8080/"
        },
        "id": "kLVm_u6n9ye7",
        "outputId": "d0607d1d-71fc-4df1-f880-3452ae3919fd"
      },
      "outputs": [
        {
          "output_type": "stream",
          "name": "stdout",
          "text": [
            " sentiment models: \n",
            "\t MarathiSentiment :  l3cube-pune/MarathiSentiment\n",
            "\n",
            " similarity models: \n",
            "\t marathi-sentence-similarity-sbert :  l3cube-pune/marathi-sentence-similarity-sbert\n",
            "\t marathi-sentence-bert-nli :  l3cube-pune/marathi-sentence-bert-nli\n",
            "\n",
            " tagger models: \n",
            "\t marathi-ner :  l3cube-pune/marathi-ner\n",
            "\n",
            " mask_fill models: \n",
            "\t marathi-bert-v2 :  l3cube-pune/marathi-bert-v2\n",
            "\t marathi-roberta :  l3cube-pune/marathi-roberta\n",
            "\t marathi-albert :  l3cube-pune/marathi-albert\n",
            "\n",
            " autocomplete models: \n",
            "\t marathi-gpt :  l3cube-pune/marathi-gpt\n",
            "\n",
            " hate models: \n",
            "\t mahahate-bert :  l3cube-pune/mahahate-bert\n",
            "\t mahahate-multi-roberta :  l3cube-pune/mahahate-multi-roberta\n"
          ]
        }
      ],
      "source": [
        "# list models present in it\n",
        "modelSentiment.list_models()"
      ]
    },
    {
      "cell_type": "markdown",
      "metadata": {
        "id": "p48pFy7rz_P2"
      },
      "source": [
        "### **Usage of Sentiment Model:**\n",
        "It provides one functionality\n",
        "* **get_polarity_score:** Gives the polarity score of words in a sentence along with the tokens (Neutral, Positive, Negative)"
      ]
    },
    {
      "cell_type": "code",
      "execution_count": null,
      "metadata": {
        "colab": {
          "base_uri": "https://localhost:8080/"
        },
        "outputId": "a5f6add2-2843-49da-b36f-68a43131e2c8",
        "id": "G3h83ukUz_P2"
      },
      "outputs": [
        {
          "output_type": "execute_result",
          "data": {
            "text/plain": [
              "      label     score\n",
              "0  Positive  0.995338"
            ],
            "text/html": [
              "\n",
              "  <div id=\"df-bc376347-d419-4e34-8d83-44272255fc58\">\n",
              "    <div class=\"colab-df-container\">\n",
              "      <div>\n",
              "<style scoped>\n",
              "    .dataframe tbody tr th:only-of-type {\n",
              "        vertical-align: middle;\n",
              "    }\n",
              "\n",
              "    .dataframe tbody tr th {\n",
              "        vertical-align: top;\n",
              "    }\n",
              "\n",
              "    .dataframe thead th {\n",
              "        text-align: right;\n",
              "    }\n",
              "</style>\n",
              "<table border=\"1\" class=\"dataframe\">\n",
              "  <thead>\n",
              "    <tr style=\"text-align: right;\">\n",
              "      <th></th>\n",
              "      <th>label</th>\n",
              "      <th>score</th>\n",
              "    </tr>\n",
              "  </thead>\n",
              "  <tbody>\n",
              "    <tr>\n",
              "      <th>0</th>\n",
              "      <td>Positive</td>\n",
              "      <td>0.995338</td>\n",
              "    </tr>\n",
              "  </tbody>\n",
              "</table>\n",
              "</div>\n",
              "      <button class=\"colab-df-convert\" onclick=\"convertToInteractive('df-bc376347-d419-4e34-8d83-44272255fc58')\"\n",
              "              title=\"Convert this dataframe to an interactive table.\"\n",
              "              style=\"display:none;\">\n",
              "        \n",
              "  <svg xmlns=\"http://www.w3.org/2000/svg\" height=\"24px\"viewBox=\"0 0 24 24\"\n",
              "       width=\"24px\">\n",
              "    <path d=\"M0 0h24v24H0V0z\" fill=\"none\"/>\n",
              "    <path d=\"M18.56 5.44l.94 2.06.94-2.06 2.06-.94-2.06-.94-.94-2.06-.94 2.06-2.06.94zm-11 1L8.5 8.5l.94-2.06 2.06-.94-2.06-.94L8.5 2.5l-.94 2.06-2.06.94zm10 10l.94 2.06.94-2.06 2.06-.94-2.06-.94-.94-2.06-.94 2.06-2.06.94z\"/><path d=\"M17.41 7.96l-1.37-1.37c-.4-.4-.92-.59-1.43-.59-.52 0-1.04.2-1.43.59L10.3 9.45l-7.72 7.72c-.78.78-.78 2.05 0 2.83L4 21.41c.39.39.9.59 1.41.59.51 0 1.02-.2 1.41-.59l7.78-7.78 2.81-2.81c.8-.78.8-2.07 0-2.86zM5.41 20L4 18.59l7.72-7.72 1.47 1.35L5.41 20z\"/>\n",
              "  </svg>\n",
              "      </button>\n",
              "      \n",
              "  <style>\n",
              "    .colab-df-container {\n",
              "      display:flex;\n",
              "      flex-wrap:wrap;\n",
              "      gap: 12px;\n",
              "    }\n",
              "\n",
              "    .colab-df-convert {\n",
              "      background-color: #E8F0FE;\n",
              "      border: none;\n",
              "      border-radius: 50%;\n",
              "      cursor: pointer;\n",
              "      display: none;\n",
              "      fill: #1967D2;\n",
              "      height: 32px;\n",
              "      padding: 0 0 0 0;\n",
              "      width: 32px;\n",
              "    }\n",
              "\n",
              "    .colab-df-convert:hover {\n",
              "      background-color: #E2EBFA;\n",
              "      box-shadow: 0px 1px 2px rgba(60, 64, 67, 0.3), 0px 1px 3px 1px rgba(60, 64, 67, 0.15);\n",
              "      fill: #174EA6;\n",
              "    }\n",
              "\n",
              "    [theme=dark] .colab-df-convert {\n",
              "      background-color: #3B4455;\n",
              "      fill: #D2E3FC;\n",
              "    }\n",
              "\n",
              "    [theme=dark] .colab-df-convert:hover {\n",
              "      background-color: #434B5C;\n",
              "      box-shadow: 0px 1px 3px 1px rgba(0, 0, 0, 0.15);\n",
              "      filter: drop-shadow(0px 1px 2px rgba(0, 0, 0, 0.3));\n",
              "      fill: #FFFFFF;\n",
              "    }\n",
              "  </style>\n",
              "\n",
              "      <script>\n",
              "        const buttonEl =\n",
              "          document.querySelector('#df-bc376347-d419-4e34-8d83-44272255fc58 button.colab-df-convert');\n",
              "        buttonEl.style.display =\n",
              "          google.colab.kernel.accessAllowed ? 'block' : 'none';\n",
              "\n",
              "        async function convertToInteractive(key) {\n",
              "          const element = document.querySelector('#df-bc376347-d419-4e34-8d83-44272255fc58');\n",
              "          const dataTable =\n",
              "            await google.colab.kernel.invokeFunction('convertToInteractive',\n",
              "                                                     [key], {});\n",
              "          if (!dataTable) return;\n",
              "\n",
              "          const docLinkHtml = 'Like what you see? Visit the ' +\n",
              "            '<a target=\"_blank\" href=https://colab.research.google.com/notebooks/data_table.ipynb>data table notebook</a>'\n",
              "            + ' to learn more about interactive tables.';\n",
              "          element.innerHTML = '';\n",
              "          dataTable['output_type'] = 'display_data';\n",
              "          await google.colab.output.renderOutput(dataTable, element);\n",
              "          const docLink = document.createElement('div');\n",
              "          docLink.innerHTML = docLinkHtml;\n",
              "          element.appendChild(docLink);\n",
              "        }\n",
              "      </script>\n",
              "    </div>\n",
              "  </div>\n",
              "  "
            ]
          },
          "metadata": {},
          "execution_count": 81
        }
      ],
      "source": [
        "# Example:\n",
        "\n",
        "txt8 = 'दिवाळीच्या सणादरम्यान सगळे आनंदी असतात.'\n",
        "# English Translation:\n",
        "# 'Everyone is happy during Diwali festival.'\n",
        "\n",
        "modelSentiment.get_polarity_score(txt8)"
      ]
    },
    {
      "cell_type": "code",
      "execution_count": null,
      "metadata": {
        "colab": {
          "base_uri": "https://localhost:8080/"
        },
        "outputId": "f242da02-0a3d-4005-c073-f85aea184d96",
        "id": "uEM1EdYvz_P2"
      },
      "outputs": [
        {
          "output_type": "execute_result",
          "data": {
            "text/plain": [
              "     label     score\n",
              "0  Neutral  0.989352"
            ],
            "text/html": [
              "\n",
              "  <div id=\"df-53f83860-f58d-44b7-ba74-31bea8eaa224\">\n",
              "    <div class=\"colab-df-container\">\n",
              "      <div>\n",
              "<style scoped>\n",
              "    .dataframe tbody tr th:only-of-type {\n",
              "        vertical-align: middle;\n",
              "    }\n",
              "\n",
              "    .dataframe tbody tr th {\n",
              "        vertical-align: top;\n",
              "    }\n",
              "\n",
              "    .dataframe thead th {\n",
              "        text-align: right;\n",
              "    }\n",
              "</style>\n",
              "<table border=\"1\" class=\"dataframe\">\n",
              "  <thead>\n",
              "    <tr style=\"text-align: right;\">\n",
              "      <th></th>\n",
              "      <th>label</th>\n",
              "      <th>score</th>\n",
              "    </tr>\n",
              "  </thead>\n",
              "  <tbody>\n",
              "    <tr>\n",
              "      <th>0</th>\n",
              "      <td>Neutral</td>\n",
              "      <td>0.989352</td>\n",
              "    </tr>\n",
              "  </tbody>\n",
              "</table>\n",
              "</div>\n",
              "      <button class=\"colab-df-convert\" onclick=\"convertToInteractive('df-53f83860-f58d-44b7-ba74-31bea8eaa224')\"\n",
              "              title=\"Convert this dataframe to an interactive table.\"\n",
              "              style=\"display:none;\">\n",
              "        \n",
              "  <svg xmlns=\"http://www.w3.org/2000/svg\" height=\"24px\"viewBox=\"0 0 24 24\"\n",
              "       width=\"24px\">\n",
              "    <path d=\"M0 0h24v24H0V0z\" fill=\"none\"/>\n",
              "    <path d=\"M18.56 5.44l.94 2.06.94-2.06 2.06-.94-2.06-.94-.94-2.06-.94 2.06-2.06.94zm-11 1L8.5 8.5l.94-2.06 2.06-.94-2.06-.94L8.5 2.5l-.94 2.06-2.06.94zm10 10l.94 2.06.94-2.06 2.06-.94-2.06-.94-.94-2.06-.94 2.06-2.06.94z\"/><path d=\"M17.41 7.96l-1.37-1.37c-.4-.4-.92-.59-1.43-.59-.52 0-1.04.2-1.43.59L10.3 9.45l-7.72 7.72c-.78.78-.78 2.05 0 2.83L4 21.41c.39.39.9.59 1.41.59.51 0 1.02-.2 1.41-.59l7.78-7.78 2.81-2.81c.8-.78.8-2.07 0-2.86zM5.41 20L4 18.59l7.72-7.72 1.47 1.35L5.41 20z\"/>\n",
              "  </svg>\n",
              "      </button>\n",
              "      \n",
              "  <style>\n",
              "    .colab-df-container {\n",
              "      display:flex;\n",
              "      flex-wrap:wrap;\n",
              "      gap: 12px;\n",
              "    }\n",
              "\n",
              "    .colab-df-convert {\n",
              "      background-color: #E8F0FE;\n",
              "      border: none;\n",
              "      border-radius: 50%;\n",
              "      cursor: pointer;\n",
              "      display: none;\n",
              "      fill: #1967D2;\n",
              "      height: 32px;\n",
              "      padding: 0 0 0 0;\n",
              "      width: 32px;\n",
              "    }\n",
              "\n",
              "    .colab-df-convert:hover {\n",
              "      background-color: #E2EBFA;\n",
              "      box-shadow: 0px 1px 2px rgba(60, 64, 67, 0.3), 0px 1px 3px 1px rgba(60, 64, 67, 0.15);\n",
              "      fill: #174EA6;\n",
              "    }\n",
              "\n",
              "    [theme=dark] .colab-df-convert {\n",
              "      background-color: #3B4455;\n",
              "      fill: #D2E3FC;\n",
              "    }\n",
              "\n",
              "    [theme=dark] .colab-df-convert:hover {\n",
              "      background-color: #434B5C;\n",
              "      box-shadow: 0px 1px 3px 1px rgba(0, 0, 0, 0.15);\n",
              "      filter: drop-shadow(0px 1px 2px rgba(0, 0, 0, 0.3));\n",
              "      fill: #FFFFFF;\n",
              "    }\n",
              "  </style>\n",
              "\n",
              "      <script>\n",
              "        const buttonEl =\n",
              "          document.querySelector('#df-53f83860-f58d-44b7-ba74-31bea8eaa224 button.colab-df-convert');\n",
              "        buttonEl.style.display =\n",
              "          google.colab.kernel.accessAllowed ? 'block' : 'none';\n",
              "\n",
              "        async function convertToInteractive(key) {\n",
              "          const element = document.querySelector('#df-53f83860-f58d-44b7-ba74-31bea8eaa224');\n",
              "          const dataTable =\n",
              "            await google.colab.kernel.invokeFunction('convertToInteractive',\n",
              "                                                     [key], {});\n",
              "          if (!dataTable) return;\n",
              "\n",
              "          const docLinkHtml = 'Like what you see? Visit the ' +\n",
              "            '<a target=\"_blank\" href=https://colab.research.google.com/notebooks/data_table.ipynb>data table notebook</a>'\n",
              "            + ' to learn more about interactive tables.';\n",
              "          element.innerHTML = '';\n",
              "          dataTable['output_type'] = 'display_data';\n",
              "          await google.colab.output.renderOutput(dataTable, element);\n",
              "          const docLink = document.createElement('div');\n",
              "          docLink.innerHTML = docLinkHtml;\n",
              "          element.appendChild(docLink);\n",
              "        }\n",
              "      </script>\n",
              "    </div>\n",
              "  </div>\n",
              "  "
            ]
          },
          "metadata": {},
          "execution_count": 82
        }
      ],
      "source": [
        "# Example:\n",
        "\n",
        "txt9 = 'मी तुझा तिरस्कार करतो.'\n",
        "# English Translation:\n",
        "# 'I hate you.'\n",
        "\n",
        "modelSentiment.get_polarity_score(txt9)"
      ]
    },
    {
      "cell_type": "code",
      "execution_count": null,
      "metadata": {
        "colab": {
          "base_uri": "https://localhost:8080/"
        },
        "outputId": "337ab07d-9be8-4368-a771-111df8bfbdfa",
        "id": "uVK7laXJz_P2"
      },
      "outputs": [
        {
          "output_type": "execute_result",
          "data": {
            "text/plain": [
              "     label     score\n",
              "0  Neutral  0.993329"
            ],
            "text/html": [
              "\n",
              "  <div id=\"df-fe4ecbb0-4733-469b-98e3-b0946ceaff67\">\n",
              "    <div class=\"colab-df-container\">\n",
              "      <div>\n",
              "<style scoped>\n",
              "    .dataframe tbody tr th:only-of-type {\n",
              "        vertical-align: middle;\n",
              "    }\n",
              "\n",
              "    .dataframe tbody tr th {\n",
              "        vertical-align: top;\n",
              "    }\n",
              "\n",
              "    .dataframe thead th {\n",
              "        text-align: right;\n",
              "    }\n",
              "</style>\n",
              "<table border=\"1\" class=\"dataframe\">\n",
              "  <thead>\n",
              "    <tr style=\"text-align: right;\">\n",
              "      <th></th>\n",
              "      <th>label</th>\n",
              "      <th>score</th>\n",
              "    </tr>\n",
              "  </thead>\n",
              "  <tbody>\n",
              "    <tr>\n",
              "      <th>0</th>\n",
              "      <td>Neutral</td>\n",
              "      <td>0.993329</td>\n",
              "    </tr>\n",
              "  </tbody>\n",
              "</table>\n",
              "</div>\n",
              "      <button class=\"colab-df-convert\" onclick=\"convertToInteractive('df-fe4ecbb0-4733-469b-98e3-b0946ceaff67')\"\n",
              "              title=\"Convert this dataframe to an interactive table.\"\n",
              "              style=\"display:none;\">\n",
              "        \n",
              "  <svg xmlns=\"http://www.w3.org/2000/svg\" height=\"24px\"viewBox=\"0 0 24 24\"\n",
              "       width=\"24px\">\n",
              "    <path d=\"M0 0h24v24H0V0z\" fill=\"none\"/>\n",
              "    <path d=\"M18.56 5.44l.94 2.06.94-2.06 2.06-.94-2.06-.94-.94-2.06-.94 2.06-2.06.94zm-11 1L8.5 8.5l.94-2.06 2.06-.94-2.06-.94L8.5 2.5l-.94 2.06-2.06.94zm10 10l.94 2.06.94-2.06 2.06-.94-2.06-.94-.94-2.06-.94 2.06-2.06.94z\"/><path d=\"M17.41 7.96l-1.37-1.37c-.4-.4-.92-.59-1.43-.59-.52 0-1.04.2-1.43.59L10.3 9.45l-7.72 7.72c-.78.78-.78 2.05 0 2.83L4 21.41c.39.39.9.59 1.41.59.51 0 1.02-.2 1.41-.59l7.78-7.78 2.81-2.81c.8-.78.8-2.07 0-2.86zM5.41 20L4 18.59l7.72-7.72 1.47 1.35L5.41 20z\"/>\n",
              "  </svg>\n",
              "      </button>\n",
              "      \n",
              "  <style>\n",
              "    .colab-df-container {\n",
              "      display:flex;\n",
              "      flex-wrap:wrap;\n",
              "      gap: 12px;\n",
              "    }\n",
              "\n",
              "    .colab-df-convert {\n",
              "      background-color: #E8F0FE;\n",
              "      border: none;\n",
              "      border-radius: 50%;\n",
              "      cursor: pointer;\n",
              "      display: none;\n",
              "      fill: #1967D2;\n",
              "      height: 32px;\n",
              "      padding: 0 0 0 0;\n",
              "      width: 32px;\n",
              "    }\n",
              "\n",
              "    .colab-df-convert:hover {\n",
              "      background-color: #E2EBFA;\n",
              "      box-shadow: 0px 1px 2px rgba(60, 64, 67, 0.3), 0px 1px 3px 1px rgba(60, 64, 67, 0.15);\n",
              "      fill: #174EA6;\n",
              "    }\n",
              "\n",
              "    [theme=dark] .colab-df-convert {\n",
              "      background-color: #3B4455;\n",
              "      fill: #D2E3FC;\n",
              "    }\n",
              "\n",
              "    [theme=dark] .colab-df-convert:hover {\n",
              "      background-color: #434B5C;\n",
              "      box-shadow: 0px 1px 3px 1px rgba(0, 0, 0, 0.15);\n",
              "      filter: drop-shadow(0px 1px 2px rgba(0, 0, 0, 0.3));\n",
              "      fill: #FFFFFF;\n",
              "    }\n",
              "  </style>\n",
              "\n",
              "      <script>\n",
              "        const buttonEl =\n",
              "          document.querySelector('#df-fe4ecbb0-4733-469b-98e3-b0946ceaff67 button.colab-df-convert');\n",
              "        buttonEl.style.display =\n",
              "          google.colab.kernel.accessAllowed ? 'block' : 'none';\n",
              "\n",
              "        async function convertToInteractive(key) {\n",
              "          const element = document.querySelector('#df-fe4ecbb0-4733-469b-98e3-b0946ceaff67');\n",
              "          const dataTable =\n",
              "            await google.colab.kernel.invokeFunction('convertToInteractive',\n",
              "                                                     [key], {});\n",
              "          if (!dataTable) return;\n",
              "\n",
              "          const docLinkHtml = 'Like what you see? Visit the ' +\n",
              "            '<a target=\"_blank\" href=https://colab.research.google.com/notebooks/data_table.ipynb>data table notebook</a>'\n",
              "            + ' to learn more about interactive tables.';\n",
              "          element.innerHTML = '';\n",
              "          dataTable['output_type'] = 'display_data';\n",
              "          await google.colab.output.renderOutput(dataTable, element);\n",
              "          const docLink = document.createElement('div');\n",
              "          docLink.innerHTML = docLinkHtml;\n",
              "          element.appendChild(docLink);\n",
              "        }\n",
              "      </script>\n",
              "    </div>\n",
              "  </div>\n",
              "  "
            ]
          },
          "metadata": {},
          "execution_count": 83
        }
      ],
      "source": [
        "# Example:\n",
        "\n",
        "txt10 = 'मी कॉलेजला जात आहे.'\n",
        "# English Translation:\n",
        "# 'I am going to college.'\n",
        "\n",
        "modelSentiment.get_polarity_score(txt10)"
      ]
    },
    {
      "cell_type": "markdown",
      "metadata": {
        "id": "zsSbijfZz_P2"
      },
      "source": [
        "***"
      ]
    },
    {
      "cell_type": "markdown",
      "metadata": {
        "id": "P_TIRJCgAomN"
      },
      "source": [
        "## **Similarity Model:**"
      ]
    },
    {
      "cell_type": "code",
      "execution_count": null,
      "metadata": {
        "id": "5q-bY_9OAnj0"
      },
      "outputs": [],
      "source": [
        "# create an object\n",
        "modelSimilarity = SimilarityModel() # this loads with default model. Here, marathi-sentence-similarity-sbert"
      ]
    },
    {
      "cell_type": "code",
      "execution_count": null,
      "metadata": {
        "id": "7E9NExCWA57E",
        "colab": {
          "base_uri": "https://localhost:8080/"
        },
        "outputId": "06b81958-0af9-4488-a53f-1df1c75bd096"
      },
      "outputs": [
        {
          "output_type": "stream",
          "name": "stdout",
          "text": [
            " similarity models: \n",
            "\t marathi-sentence-similarity-sbert :  l3cube-pune/marathi-sentence-similarity-sbert\n",
            "\t marathi-sentence-bert-nli :  l3cube-pune/marathi-sentence-bert-nli\n",
            "\n",
            " tagger models: \n",
            "\t marathi-ner :  l3cube-pune/marathi-ner\n",
            "\n",
            " sentiment models: \n",
            "\t MarathiSentiment :  l3cube-pune/MarathiSentiment\n",
            "\n",
            " mask_fill models: \n",
            "\t marathi-bert-v2 :  l3cube-pune/marathi-bert-v2\n",
            "\t marathi-roberta :  l3cube-pune/marathi-roberta\n",
            "\t marathi-albert :  l3cube-pune/marathi-albert\n",
            "\n",
            " autocomplete models: \n",
            "\t marathi-gpt :  l3cube-pune/marathi-gpt\n",
            "\n",
            " hate models: \n",
            "\t mahahate-bert :  l3cube-pune/mahahate-bert\n",
            "\t mahahate-multi-roberta :  l3cube-pune/mahahate-multi-roberta\n"
          ]
        }
      ],
      "source": [
        "# list models present in it\n",
        "modelSimilarity.list_models()"
      ]
    },
    {
      "cell_type": "markdown",
      "metadata": {
        "id": "VCLFcHpjB2Zc"
      },
      "source": [
        "#### **To change the default model:**\n",
        "Pass the name of the model as the argument:\n",
        "\n",
        "modelSimilarity = SimilarityModel('name of model')"
      ]
    },
    {
      "cell_type": "code",
      "execution_count": null,
      "metadata": {
        "id": "j04iNlS_B9Z-"
      },
      "outputs": [],
      "source": [
        "# Example:\n",
        "\n",
        "modelSimilarity2 = SimilarityModel('marathi-sentence-bert-nli')"
      ]
    },
    {
      "cell_type": "markdown",
      "metadata": {
        "id": "jSz0kLOPCJY2"
      },
      "source": [
        "### **Usage of Similarity Model:**\n",
        "It provides two functionalities\n",
        "* **embed_sentences:** Embeds the sentences and return the values in an array\n",
        "* **get_similarity_score:** Checks the similarity of a word with respect to a sentence"
      ]
    },
    {
      "cell_type": "markdown",
      "metadata": {
        "id": "OwQrIyDBz_P3"
      },
      "source": [
        "#### **embed_sentences:**"
      ]
    },
    {
      "cell_type": "code",
      "execution_count": null,
      "metadata": {
        "id": "A60XDnI7z_P4",
        "colab": {
          "base_uri": "https://localhost:8080/"
        },
        "outputId": "e14c698e-af71-415f-a8b8-14ebfa65bc00"
      },
      "outputs": [
        {
          "output_type": "execute_result",
          "data": {
            "text/plain": [
              "array([-3.01300567e-02,  5.90831414e-03, -1.33653842e-02, -3.19638290e-02,\n",
              "        1.86218917e-02, -4.54362668e-02, -4.17430000e-03, -1.99699700e-02,\n",
              "        3.58055066e-03,  6.32557552e-03,  8.54484085e-03, -4.28140257e-03,\n",
              "       -2.65210052e-03, -2.75102090e-02, -4.76910640e-03, -1.02574527e-02,\n",
              "        1.45057738e-02, -2.26347074e-02,  1.03825964e-02,  1.66710522e-02,\n",
              "        1.12478454e-02, -1.54640013e-02,  1.83427520e-02, -7.28147337e-03,\n",
              "        3.23612755e-03, -7.66732628e-05, -2.73413304e-02, -7.00747129e-03,\n",
              "       -1.96131580e-02,  1.76331459e-03, -1.34859337e-02, -6.28395798e-03,\n",
              "        7.86420703e-03,  6.67924574e-03, -1.99246481e-02, -7.11166300e-03,\n",
              "        1.37242489e-02,  4.83197346e-03,  1.89735764e-03,  1.25255464e-02,\n",
              "       -2.43624533e-03, -3.05463821e-02, -5.00232819e-03,  1.55041367e-02,\n",
              "       -6.46519475e-03,  3.41299572e-04, -1.23329228e-03,  2.16220673e-02,\n",
              "        8.16373341e-03, -1.91043632e-03, -1.46023333e-02,  3.50541994e-03,\n",
              "        1.29642710e-02, -1.31144281e-02, -1.07188849e-02,  6.13190280e-03,\n",
              "        1.57648530e-02,  1.49627067e-02, -8.68066773e-03,  8.70533939e-03,\n",
              "        2.02721264e-03, -1.04711084e-02, -3.13782208e-02,  8.12012423e-03,\n",
              "        1.86757650e-02, -2.37665828e-02,  1.68768745e-02,  1.86287612e-02,\n",
              "        5.38041582e-03, -1.64038818e-02,  1.82129424e-02, -3.06159863e-03,\n",
              "       -1.36264302e-02, -1.37237029e-03, -2.08050385e-02, -2.17535887e-02,\n",
              "        4.09565959e-03, -2.18795333e-03,  2.38251667e-02, -7.78459886e-04,\n",
              "        8.39470048e-03,  6.64879475e-03, -4.71074920e-04, -1.31823670e-03,\n",
              "        4.67980169e-02,  1.38628250e-02, -1.40459388e-02, -7.31589366e-03,\n",
              "       -8.53210222e-03,  1.02604227e-02,  1.39796529e-02, -7.38808769e-04,\n",
              "        1.52945006e-02, -2.30120216e-02, -5.92223741e-03,  2.89008021e-02,\n",
              "       -1.05706165e-02, -5.85502125e-02,  8.75737797e-03,  2.83687450e-02,\n",
              "       -2.77393265e-03, -6.92070054e-04, -1.43744675e-02, -7.93470070e-03,\n",
              "        9.78245400e-03,  3.90987843e-03, -8.96375161e-03,  1.04735279e-03,\n",
              "       -1.68775562e-02, -1.14353199e-03, -2.11837459e-02,  1.41877392e-02,\n",
              "       -2.88327094e-02,  1.32410973e-02, -3.15350364e-03, -6.60709385e-03,\n",
              "       -1.81566016e-03,  3.65666370e-03, -7.90643599e-03, -2.48122844e-03,\n",
              "        3.74473408e-02, -7.60902371e-03, -1.64395161e-02, -7.73811946e-03,\n",
              "        5.42662013e-03, -6.12250157e-03,  5.78614371e-03,  3.22829857e-02,\n",
              "       -8.73410329e-03, -1.07156411e-02,  2.41189450e-02, -1.13051226e-02,\n",
              "        7.06660561e-03, -2.10517701e-02,  8.64951313e-03, -1.07456027e-02,\n",
              "       -5.31350728e-03, -1.93835516e-02, -3.23520810e-03,  1.87288336e-02,\n",
              "        6.24930859e-03, -2.20635068e-03,  2.40044412e-03, -3.70709924e-04,\n",
              "       -8.10144655e-03, -2.61169989e-02, -2.74008955e-03,  3.89310834e-03,\n",
              "       -1.62401106e-02,  7.72353262e-04, -7.89663102e-03,  1.69366915e-02,\n",
              "       -2.06134957e-03,  6.27972465e-03, -3.60580608e-02, -1.65324137e-02,\n",
              "        2.61243470e-02, -3.32334405e-03,  1.92946494e-02, -1.75731592e-02,\n",
              "       -5.80233196e-03,  3.87423113e-02, -1.57048198e-04,  1.81754678e-02,\n",
              "        7.39019969e-03,  4.74238815e-03,  7.72051839e-03, -9.33596864e-03,\n",
              "        3.10207810e-02,  1.66415367e-02,  3.07551622e-02,  5.44882193e-03,\n",
              "        1.91004965e-02,  1.01934858e-02, -1.34223057e-02,  1.39273740e-02,\n",
              "        3.23650357e-03, -4.07274859e-03, -8.36974359e-04, -2.70107221e-02,\n",
              "       -3.93888494e-03,  1.58594716e-02,  1.38497213e-02, -1.43317897e-02,\n",
              "        1.36467684e-02,  5.63269854e-03,  5.98637434e-03, -1.14387805e-02,\n",
              "        1.28081720e-02,  1.39406165e-02, -1.83685753e-03,  2.37052701e-02,\n",
              "        1.07621364e-02,  2.21172418e-03,  1.40940743e-02,  3.71910492e-03,\n",
              "       -3.26684862e-02, -1.04478411e-02,  1.56309716e-02,  5.50477114e-03,\n",
              "       -9.24829580e-03, -2.82028574e-03,  5.35641564e-04, -2.00675381e-03,\n",
              "        2.05834620e-02, -3.77388997e-03,  1.71750300e-02, -1.00417798e-02,\n",
              "       -1.05264066e-02, -6.66322326e-03, -5.86904399e-03, -4.71705757e-03,\n",
              "       -2.00132523e-02, -1.78187098e-02,  5.58415521e-03,  7.57336337e-03,\n",
              "       -1.67107582e-02, -1.30010757e-03, -1.49274189e-02,  3.50551819e-03,\n",
              "        2.17670351e-02, -1.67797953e-02,  3.83339380e-03, -1.05553754e-02,\n",
              "       -2.35121120e-02,  2.08909332e-04, -3.39195575e-03, -1.86632425e-02,\n",
              "        2.64606774e-02,  6.08105026e-03,  9.50834341e-03,  1.72959939e-02,\n",
              "       -1.90124735e-02,  1.02615152e-02,  3.19077447e-02,  1.16296867e-02,\n",
              "       -1.04003679e-02, -1.07591329e-02, -5.22280438e-03, -7.83951487e-03,\n",
              "       -2.10185517e-02,  3.65024284e-02, -2.43752170e-03, -7.85904378e-03,\n",
              "       -9.43526719e-03, -2.06877254e-02,  4.29566158e-03, -1.19257439e-02,\n",
              "        1.45899421e-02,  2.81834695e-03, -8.95560067e-03,  9.80569981e-03,\n",
              "        6.91806339e-03, -9.91333649e-03,  9.81487683e-05, -1.75190046e-02,\n",
              "       -1.44562277e-03,  9.32446122e-03,  1.28548862e-02, -5.05371392e-03,\n",
              "       -2.35051699e-02,  9.83045087e-04, -1.95382014e-02,  1.78223662e-02,\n",
              "       -9.21748951e-03,  1.47577683e-02, -6.65485580e-03, -3.82754463e-03,\n",
              "       -2.12943573e-02,  4.55991039e-03,  2.39620497e-03, -2.66811587e-02,\n",
              "        3.33867483e-02,  1.18107814e-03, -8.40934459e-03, -2.35186443e-02,\n",
              "        1.17391143e-02, -2.09729816e-03,  2.12101974e-02,  1.30233662e-02,\n",
              "        5.20479633e-03,  4.58413083e-03, -1.06222183e-02,  5.80319483e-03,\n",
              "        8.34929664e-03, -5.98841067e-03,  2.53006443e-02, -2.03151652e-03,\n",
              "       -5.21425810e-03, -1.70673858e-02,  1.18642217e-02, -8.61734618e-03,\n",
              "       -1.26698930e-02, -2.00788048e-03,  1.58148184e-02,  1.90217851e-03,\n",
              "        2.31811292e-02,  1.74661807e-03,  1.12167438e-02, -1.44134823e-03,\n",
              "       -9.30211972e-03, -1.46288686e-02, -5.37519902e-03, -1.51128722e-02,\n",
              "       -6.52607577e-03, -1.84238926e-02,  1.16902757e-02, -1.10544739e-02,\n",
              "        6.47493219e-03,  8.24404135e-03,  2.25995556e-02,  1.12281519e-03,\n",
              "        2.79650297e-02, -1.09998053e-02, -2.39875019e-02,  6.61455840e-03,\n",
              "       -2.13238411e-03, -1.07544120e-02, -1.44521073e-02,  8.23264383e-03,\n",
              "       -6.24397211e-03,  1.00773452e-02, -1.72209064e-03,  7.03164041e-02,\n",
              "        2.26020627e-02, -1.87014379e-02,  9.41382442e-03, -2.26891926e-03,\n",
              "       -8.50850530e-03,  2.18220335e-03, -5.21362294e-03, -2.49598920e-02,\n",
              "       -1.95235712e-03,  8.72646458e-03,  2.24973977e-04,  2.50084121e-02,\n",
              "        1.09973140e-02,  2.34574173e-02,  1.75530557e-03, -7.50083569e-03,\n",
              "       -1.20159052e-02, -2.25395244e-02,  3.14263906e-03,  8.86609592e-03,\n",
              "        1.39705110e-02, -5.49423881e-03,  1.06051681e-03, -7.56043708e-04,\n",
              "        6.75426843e-03,  3.88717372e-03, -4.17592004e-02, -1.21613974e-02,\n",
              "        1.72176231e-02, -2.00801026e-02,  1.64938439e-02,  3.24597210e-02,\n",
              "        1.27258059e-03,  2.64031510e-03,  1.64149683e-02, -1.65665913e-02,\n",
              "        1.38497306e-02, -1.34747904e-02, -1.70683097e-02, -7.75010500e-04,\n",
              "       -7.62506574e-03,  1.06168846e-02, -8.30881670e-03, -1.63614433e-02,\n",
              "       -8.31434038e-03, -5.89036802e-03, -4.56706807e-03,  4.10308316e-03,\n",
              "       -5.28457761e-03, -2.16052844e-03, -8.41693580e-03, -1.98922139e-02,\n",
              "       -5.73335215e-03, -2.97826412e-03, -1.58060119e-02,  6.83034724e-03,\n",
              "       -6.80320244e-03, -2.68580224e-02,  2.66475603e-04, -1.20156643e-03,\n",
              "       -4.36740275e-03,  2.58185286e-02,  1.46681378e-02, -1.91858131e-02,\n",
              "        5.36356634e-03, -3.59885441e-03, -8.10728502e-03, -2.03213170e-02,\n",
              "       -1.30788274e-02, -1.97040546e-03,  2.97905654e-02, -8.12922698e-03,\n",
              "        4.82294988e-03,  3.26284231e-03, -5.63285314e-03, -2.42652055e-02,\n",
              "       -2.56951433e-02, -1.05881244e-02,  1.37404930e-02, -3.08426050e-03,\n",
              "       -9.66538209e-03, -5.70280338e-03,  3.73372715e-03,  2.99664419e-02,\n",
              "        2.30270959e-02,  2.61647962e-02,  6.24329224e-03, -1.58823933e-02,\n",
              "       -7.67878164e-03, -2.34378837e-02,  1.97630213e-03,  3.83257167e-03,\n",
              "       -1.64743874e-03, -1.29566388e-02,  2.37314980e-02, -2.19344497e-02,\n",
              "        6.77843438e-03, -3.21579911e-03,  4.07669321e-03,  1.10282293e-02,\n",
              "       -2.01006196e-02, -1.91606558e-03,  2.48767231e-02,  1.03208981e-02,\n",
              "        9.56634246e-03,  1.29272393e-03,  1.51434797e-04,  2.52911486e-02,\n",
              "        1.55032901e-02, -1.83340926e-02, -2.37570982e-02, -2.01135837e-02,\n",
              "        3.22717405e-03,  1.25111891e-02, -3.53140570e-03,  1.99056547e-02,\n",
              "       -1.10834958e-02,  8.20708403e-04, -1.71925016e-02, -1.46573968e-03,\n",
              "        2.32204981e-02, -4.31600772e-03, -3.10518872e-02,  1.21611692e-02,\n",
              "        2.51019420e-03, -1.27003891e-02,  3.91936488e-03, -8.34067073e-03,\n",
              "       -4.12001163e-02,  2.64251307e-02, -2.23739818e-02,  1.53114125e-02,\n",
              "       -8.00363068e-03,  4.03148495e-03, -6.09059352e-04,  1.20638600e-02,\n",
              "       -8.32260214e-03,  3.14436443e-02,  5.42647438e-03,  3.54678323e-03,\n",
              "        6.54091965e-03, -4.42248397e-03, -1.59549937e-02,  8.70790053e-03,\n",
              "       -1.13972742e-02, -4.96648811e-03,  5.19420544e-04, -5.11824433e-03,\n",
              "        2.90488196e-03,  1.43197197e-02, -2.15492118e-03,  4.40999959e-03,\n",
              "       -7.72806909e-03,  1.00093763e-02,  1.39529640e-02,  1.97348539e-02,\n",
              "        2.92346557e-03,  2.31071073e-03,  2.28686687e-02, -1.32424217e-02,\n",
              "        4.46878234e-03, -2.24520732e-02,  1.26555851e-02,  1.26668802e-02,\n",
              "        2.51053218e-02,  1.66570093e-03,  1.62841100e-02,  4.91092168e-03,\n",
              "        1.18311001e-02,  3.06226313e-03, -4.41729762e-02,  6.44658273e-03,\n",
              "        3.77441710e-03, -4.45346115e-03,  2.51483754e-03, -9.54747107e-03,\n",
              "        5.07295644e-03,  9.58894845e-03, -9.64017212e-03, -1.29908137e-02,\n",
              "        1.25605324e-02, -6.00945577e-03, -4.05536741e-02, -8.90581775e-03,\n",
              "        4.75800969e-03, -1.29225040e-02, -1.31087331e-02, -2.99636764e-03,\n",
              "        2.67905910e-02, -8.39134678e-03, -1.71411857e-02,  1.17618619e-02,\n",
              "        3.46101169e-03, -1.04996590e-02,  1.91917680e-02,  1.60048436e-02,\n",
              "       -1.26531757e-02, -9.30885039e-03, -8.85535404e-03,  3.47554241e-03,\n",
              "       -8.06654338e-03, -7.09112128e-03, -1.45569956e-02, -8.53008684e-03,\n",
              "       -5.50549431e-03, -1.11811999e-02,  1.39078991e-02, -1.78972203e-02,\n",
              "       -5.37264068e-03, -7.95114972e-03,  1.66612130e-03,  1.49714928e-02,\n",
              "       -2.29896046e-03, -3.51317925e-03, -1.34335458e-02, -1.89827774e-02,\n",
              "        5.65612735e-03, -6.13900879e-03, -1.35030868e-02, -2.06421688e-02,\n",
              "       -3.99334989e-02, -7.07364921e-03,  1.32413581e-03,  3.05913240e-02,\n",
              "       -9.25755687e-03,  1.17319794e-02,  1.67940892e-02,  2.27046618e-03,\n",
              "        4.21515331e-02,  8.95134523e-04,  4.53621009e-03, -2.27014348e-02,\n",
              "       -1.70505699e-02, -6.69908768e-04, -2.95234565e-03, -1.20119983e-02,\n",
              "       -3.03255673e-03, -5.08836284e-03,  1.16614308e-02, -7.95295835e-03,\n",
              "       -6.87583862e-03, -8.76113307e-03,  1.59097724e-02, -4.99887904e-03,\n",
              "        7.86298607e-03, -1.07486523e-03, -2.52840705e-02,  1.73652954e-02,\n",
              "       -1.19469278e-02, -3.15723708e-03, -3.18114087e-02, -5.91686170e-04,\n",
              "       -1.77470334e-02, -6.21764511e-02,  2.17336435e-02,  2.50397865e-02,\n",
              "        1.11514870e-02, -3.27469297e-02,  3.57396454e-02, -9.02441330e-03,\n",
              "       -1.27898678e-02, -1.43719018e-02, -2.80508120e-03,  1.96212791e-02,\n",
              "       -1.33930845e-03, -5.71801793e-03,  4.31844592e-03,  4.44456702e-03,\n",
              "        1.84682310e-02,  9.90218855e-03, -1.22834202e-02,  2.90954928e-03,\n",
              "        1.11034410e-02,  1.16471425e-02, -6.29853643e-03, -7.61907594e-03,\n",
              "        1.22876773e-02,  1.49465376e-03,  2.51777247e-02, -6.27732463e-03,\n",
              "       -6.30162656e-04,  3.11643947e-02, -1.33118276e-02,  2.01808251e-02,\n",
              "        2.35714689e-02,  2.90486263e-03, -2.32108925e-02, -1.14355255e-02,\n",
              "        2.43298169e-02,  2.64594657e-03, -1.36404093e-02,  1.72139090e-02,\n",
              "        2.78569758e-03, -1.99184213e-02, -1.02488697e-02, -1.62941981e-02,\n",
              "        1.39606214e-04, -1.38764884e-02, -1.59546174e-02,  1.71408672e-02,\n",
              "       -4.28702775e-03,  3.97856394e-03, -2.13087369e-02, -4.46565187e-04,\n",
              "        9.97365732e-03, -5.33423969e-04, -7.81101780e-03, -1.03362948e-02,\n",
              "        2.32493076e-02,  2.53358949e-03,  1.06881596e-02, -2.75757611e-02,\n",
              "        3.05546052e-03,  1.20836301e-02,  2.55078729e-03, -2.64085666e-03,\n",
              "        1.18886549e-02,  1.65476985e-02, -1.50255878e-02, -1.35924844e-02,\n",
              "        6.30688807e-03,  2.13904008e-02,  1.28482061e-03,  2.58356091e-02,\n",
              "        1.88110434e-02, -9.25006717e-03,  4.92773950e-03,  1.25913462e-02,\n",
              "       -1.53622851e-02, -1.30425813e-02,  2.58008502e-02,  2.26189289e-02,\n",
              "        9.28014237e-03,  1.91216785e-02,  1.08732004e-02, -6.55537192e-03,\n",
              "        2.28530224e-02, -4.78427112e-03,  5.64280199e-03, -5.65334270e-03,\n",
              "       -4.90860664e-04, -3.22095230e-02,  2.43367394e-05,  1.82267372e-02,\n",
              "        6.36831298e-03,  2.40061134e-02,  1.80955902e-02,  1.81316794e-03,\n",
              "        2.65917219e-02, -1.02234036e-02, -2.56279651e-02, -5.13049029e-03,\n",
              "        1.09303920e-02, -1.27968295e-02,  9.69257485e-03,  1.76790189e-02,\n",
              "        1.44254672e-03, -6.05858117e-03, -2.89139058e-02, -1.32559566e-02,\n",
              "       -7.05092493e-03, -2.23880913e-03, -1.88185484e-03,  1.28575712e-02,\n",
              "       -5.90165332e-03, -1.04621686e-02, -1.81798637e-02,  8.95336177e-03,\n",
              "        8.05972796e-03, -1.66233480e-02,  2.88753752e-02,  2.69940961e-02,\n",
              "        1.93423722e-02, -4.08307975e-03,  4.58932435e-03, -1.18301436e-02,\n",
              "       -1.46909561e-02, -1.16073724e-03,  2.01492710e-03, -1.39601883e-02,\n",
              "        1.46909989e-02,  7.47408019e-03,  1.28439926e-02,  5.91197424e-03,\n",
              "        6.19409233e-03, -1.85675826e-02,  1.62065178e-02,  3.00651789e-02,\n",
              "        9.27971769e-03, -1.05103394e-02,  5.09447977e-03, -1.12338341e-04,\n",
              "        1.16246771e-02,  4.33592238e-02,  6.43806858e-03, -3.87382042e-03,\n",
              "       -2.10319571e-02, -3.44374441e-02,  1.10652894e-02, -6.04627375e-03,\n",
              "       -1.20555256e-02,  2.49228980e-02, -6.58341497e-03, -1.27568729e-02,\n",
              "        6.28885254e-03,  1.43585894e-02,  1.13199186e-02,  1.54524483e-02,\n",
              "       -1.88142527e-03,  1.09161260e-02,  2.53680337e-04,  5.61841205e-03,\n",
              "       -3.67084611e-03, -9.13179666e-03, -3.68264341e-03, -1.66544504e-03,\n",
              "        5.78228896e-03,  1.98325142e-06, -2.71640904e-02,  3.18495966e-02,\n",
              "        6.25977339e-03,  6.11360231e-03, -2.89459899e-02,  1.64688006e-02,\n",
              "        6.17533736e-03,  1.75410472e-02,  2.47646496e-02, -1.63277320e-03,\n",
              "       -1.83101837e-03,  1.62396356e-02, -1.26726767e-02, -1.03971874e-02,\n",
              "       -1.69838425e-02,  1.63755901e-02,  1.68589856e-02,  7.78541202e-03,\n",
              "       -5.80566237e-04,  4.29578824e-03, -1.49363782e-02, -1.92048121e-02,\n",
              "       -4.44946159e-03,  2.57898495e-02, -2.06551533e-02, -5.76212583e-03],\n",
              "      dtype=float32)"
            ]
          },
          "metadata": {},
          "execution_count": 87
        }
      ],
      "source": [
        "# Example\n",
        "\n",
        "txt11 = 'भारतात एकूण २८ राज्ये आहेत.'\n",
        "# English Translation:\n",
        "# 'There are total 28 states in India.'\n",
        "\n",
        "modelSimilarity.embed_sentences(txt11)"
      ]
    },
    {
      "cell_type": "markdown",
      "metadata": {
        "id": "tsO6kC_Sz_P4"
      },
      "source": [
        "#### **get_similarity_score:**"
      ]
    },
    {
      "cell_type": "code",
      "execution_count": null,
      "metadata": {
        "id": "MW7gao3Vz_P4",
        "colab": {
          "base_uri": "https://localhost:8080/"
        },
        "outputId": "9ddf34cc-9cf1-4a52-b690-61cc13c30fb1"
      },
      "outputs": [
        {
          "output_type": "execute_result",
          "data": {
            "text/plain": [
              "array([0.99999994, 0.24566299, 0.30104446], dtype=float32)"
            ]
          },
          "metadata": {},
          "execution_count": 88
        }
      ],
      "source": [
        "# Example\n",
        "\n",
        "source = 'वसई तालुक्यातील 15 ग्रामपंचायतींसाठी निवडणूक होत आहे.'\n",
        "# English Translation:\n",
        "# 'Elections are being held for 15 gram panchayats in Vasai taluka.'\n",
        "sentences = ['वसई तालुक्यातील 15 ग्रामपंचायतींसाठी निवडणूक होत आहे.', '28 ते 2 डिसेंबर पर्यंत उमेदवारी अर्ज भरण्याची वेळ असून आज आणि उध्या दोन दिवसात ऑफलाईन उमेदवारी अर्ज भरण्यासाठी 5 वाजेपर्यंत वेळ वाढवून दिला आहे.', 'त्यामुळे आज दिवसभरात उमेदवारांनी आपले उमेदवारी अर्ज भरण्यासाठी तहसील कार्यालयात गर्दी केली होती.']\n",
        "# English Translation:\n",
        "# [\n",
        "# 'Elections are being held for 15 gram panchayats in Vasai taluka.',\n",
        "# 'The time to fill candidature form is from 28th to 2nd December and the time for filling offline candidature form has been extended till 5 pm today and tomorrow.',\n",
        "# 'Therefore, candidates thronged the tehsil office to fill their nomination forms today.'\n",
        "# ]\n",
        "\n",
        "modelSimilarity.get_similarity_score(source, sentences)"
      ]
    },
    {
      "cell_type": "markdown",
      "metadata": {
        "id": "UnzimyXFz_P4"
      },
      "source": [
        "Optional Parameter(s):\n",
        "* **as_dict** (True, False) in boolean - Default: False\n",
        "  * Used to define the print type"
      ]
    },
    {
      "cell_type": "code",
      "execution_count": null,
      "metadata": {
        "id": "TAHBp8WIz_P4",
        "colab": {
          "base_uri": "https://localhost:8080/"
        },
        "outputId": "82321bea-9932-44c2-c1c8-2f4ecad74502"
      },
      "outputs": [
        {
          "output_type": "execute_result",
          "data": {
            "text/plain": [
              "{'वसई तालुक्यातील 15 ग्रामपंचायतींसाठी निवडणूक होत आहे.': 0.99999994,\n",
              " '28 ते 2 डिसेंबर पर्यंत उमेदवारी अर्ज भरण्याची वेळ असून आज आणि उध्या दोन दिवसात ऑफलाईन उमेदवारी अर्ज भरण्यासाठी 5 वाजेपर्यंत वेळ वाढवून दिला आहे.': 0.24566299,\n",
              " 'त्यामुळे आज दिवसभरात उमेदवारांनी आपले उमेदवारी अर्ज भरण्यासाठी तहसील कार्यालयात गर्दी केली होती.': 0.30104446}"
            ]
          },
          "metadata": {},
          "execution_count": 89
        }
      ],
      "source": [
        "modelSimilarity.get_similarity_score(source, sentences, as_dict = True)"
      ]
    },
    {
      "cell_type": "markdown",
      "metadata": {
        "id": "V_SVT31-ESyK"
      },
      "source": [
        "***\n",
        "***"
      ]
    },
    {
      "cell_type": "markdown",
      "metadata": {
        "id": "rlrrqsDdoCn1"
      },
      "source": [
        "# Extras:"
      ]
    },
    {
      "cell_type": "code",
      "execution_count": null,
      "metadata": {
        "id": "RkgxebETx3Vs",
        "colab": {
          "base_uri": "https://localhost:8080/"
        },
        "outputId": "e2f7dce4-4a87-4afd-c0c2-cf1ed1b329f6"
      },
      "outputs": [
        {
          "output_type": "stream",
          "name": "stdout",
          "text": [
            "      label     score\n",
            "0  Positive  0.995338\n"
          ]
        }
      ],
      "source": [
        "# import\n",
        "from mahaNLP.sentiment import SentimentAnalyzer\n",
        "\n",
        "# create a model object\n",
        "model = SentimentAnalyzer()\n",
        "\n",
        "# function - getPolarityScore\n",
        "# It gives the sentiment score in the range of 0 to 1\n",
        "# for 3 poles: Neutral, Positive, Negative\n",
        "\n",
        "# example:\n",
        "text = 'दिवाळीच्या सणादरम्यान सगळे आनंदी असतात.'\n",
        "# English Translation:\n",
        "# 'Everyone is happy during Diwali festival.'\n",
        "\n",
        "polarscore = model.get_polarity_score(text)\n",
        "print(polarscore)"
      ]
    },
    {
      "cell_type": "code",
      "execution_count": null,
      "metadata": {
        "id": "Bnb_wyVsy4SR",
        "colab": {
          "base_uri": "https://localhost:8080/",
          "height": 206
        },
        "outputId": "932031e8-21c4-457b-fbb5-0cacda0e4242"
      },
      "outputs": [
        {
          "output_type": "execute_result",
          "data": {
            "text/plain": [
              "      score  token token_str                 sequence\n",
              "0  0.465607   1155       आहे     मी महाराष्ट्रात आहे.\n",
              "1  0.079688  92222    राहणार  मी महाराष्ट्रात राहणार.\n",
              "2  0.074000   1826      नाही    मी महाराष्ट्रात नाही.\n",
              "3  0.050423   1617       ##च        मी महाराष्ट्रातच.\n",
              "4  0.043737  62560     राहतो   मी महाराष्ट्रात राहतो."
            ],
            "text/html": [
              "\n",
              "  <div id=\"df-6b1bc08e-0946-46e5-85c3-8d937490fd7b\">\n",
              "    <div class=\"colab-df-container\">\n",
              "      <div>\n",
              "<style scoped>\n",
              "    .dataframe tbody tr th:only-of-type {\n",
              "        vertical-align: middle;\n",
              "    }\n",
              "\n",
              "    .dataframe tbody tr th {\n",
              "        vertical-align: top;\n",
              "    }\n",
              "\n",
              "    .dataframe thead th {\n",
              "        text-align: right;\n",
              "    }\n",
              "</style>\n",
              "<table border=\"1\" class=\"dataframe\">\n",
              "  <thead>\n",
              "    <tr style=\"text-align: right;\">\n",
              "      <th></th>\n",
              "      <th>score</th>\n",
              "      <th>token</th>\n",
              "      <th>token_str</th>\n",
              "      <th>sequence</th>\n",
              "    </tr>\n",
              "  </thead>\n",
              "  <tbody>\n",
              "    <tr>\n",
              "      <th>0</th>\n",
              "      <td>0.465607</td>\n",
              "      <td>1155</td>\n",
              "      <td>आहे</td>\n",
              "      <td>मी महाराष्ट्रात आहे.</td>\n",
              "    </tr>\n",
              "    <tr>\n",
              "      <th>1</th>\n",
              "      <td>0.079688</td>\n",
              "      <td>92222</td>\n",
              "      <td>राहणार</td>\n",
              "      <td>मी महाराष्ट्रात राहणार.</td>\n",
              "    </tr>\n",
              "    <tr>\n",
              "      <th>2</th>\n",
              "      <td>0.074000</td>\n",
              "      <td>1826</td>\n",
              "      <td>नाही</td>\n",
              "      <td>मी महाराष्ट्रात नाही.</td>\n",
              "    </tr>\n",
              "    <tr>\n",
              "      <th>3</th>\n",
              "      <td>0.050423</td>\n",
              "      <td>1617</td>\n",
              "      <td>##च</td>\n",
              "      <td>मी महाराष्ट्रातच.</td>\n",
              "    </tr>\n",
              "    <tr>\n",
              "      <th>4</th>\n",
              "      <td>0.043737</td>\n",
              "      <td>62560</td>\n",
              "      <td>राहतो</td>\n",
              "      <td>मी महाराष्ट्रात राहतो.</td>\n",
              "    </tr>\n",
              "  </tbody>\n",
              "</table>\n",
              "</div>\n",
              "      <button class=\"colab-df-convert\" onclick=\"convertToInteractive('df-6b1bc08e-0946-46e5-85c3-8d937490fd7b')\"\n",
              "              title=\"Convert this dataframe to an interactive table.\"\n",
              "              style=\"display:none;\">\n",
              "        \n",
              "  <svg xmlns=\"http://www.w3.org/2000/svg\" height=\"24px\"viewBox=\"0 0 24 24\"\n",
              "       width=\"24px\">\n",
              "    <path d=\"M0 0h24v24H0V0z\" fill=\"none\"/>\n",
              "    <path d=\"M18.56 5.44l.94 2.06.94-2.06 2.06-.94-2.06-.94-.94-2.06-.94 2.06-2.06.94zm-11 1L8.5 8.5l.94-2.06 2.06-.94-2.06-.94L8.5 2.5l-.94 2.06-2.06.94zm10 10l.94 2.06.94-2.06 2.06-.94-2.06-.94-.94-2.06-.94 2.06-2.06.94z\"/><path d=\"M17.41 7.96l-1.37-1.37c-.4-.4-.92-.59-1.43-.59-.52 0-1.04.2-1.43.59L10.3 9.45l-7.72 7.72c-.78.78-.78 2.05 0 2.83L4 21.41c.39.39.9.59 1.41.59.51 0 1.02-.2 1.41-.59l7.78-7.78 2.81-2.81c.8-.78.8-2.07 0-2.86zM5.41 20L4 18.59l7.72-7.72 1.47 1.35L5.41 20z\"/>\n",
              "  </svg>\n",
              "      </button>\n",
              "      \n",
              "  <style>\n",
              "    .colab-df-container {\n",
              "      display:flex;\n",
              "      flex-wrap:wrap;\n",
              "      gap: 12px;\n",
              "    }\n",
              "\n",
              "    .colab-df-convert {\n",
              "      background-color: #E8F0FE;\n",
              "      border: none;\n",
              "      border-radius: 50%;\n",
              "      cursor: pointer;\n",
              "      display: none;\n",
              "      fill: #1967D2;\n",
              "      height: 32px;\n",
              "      padding: 0 0 0 0;\n",
              "      width: 32px;\n",
              "    }\n",
              "\n",
              "    .colab-df-convert:hover {\n",
              "      background-color: #E2EBFA;\n",
              "      box-shadow: 0px 1px 2px rgba(60, 64, 67, 0.3), 0px 1px 3px 1px rgba(60, 64, 67, 0.15);\n",
              "      fill: #174EA6;\n",
              "    }\n",
              "\n",
              "    [theme=dark] .colab-df-convert {\n",
              "      background-color: #3B4455;\n",
              "      fill: #D2E3FC;\n",
              "    }\n",
              "\n",
              "    [theme=dark] .colab-df-convert:hover {\n",
              "      background-color: #434B5C;\n",
              "      box-shadow: 0px 1px 3px 1px rgba(0, 0, 0, 0.15);\n",
              "      filter: drop-shadow(0px 1px 2px rgba(0, 0, 0, 0.3));\n",
              "      fill: #FFFFFF;\n",
              "    }\n",
              "  </style>\n",
              "\n",
              "      <script>\n",
              "        const buttonEl =\n",
              "          document.querySelector('#df-6b1bc08e-0946-46e5-85c3-8d937490fd7b button.colab-df-convert');\n",
              "        buttonEl.style.display =\n",
              "          google.colab.kernel.accessAllowed ? 'block' : 'none';\n",
              "\n",
              "        async function convertToInteractive(key) {\n",
              "          const element = document.querySelector('#df-6b1bc08e-0946-46e5-85c3-8d937490fd7b');\n",
              "          const dataTable =\n",
              "            await google.colab.kernel.invokeFunction('convertToInteractive',\n",
              "                                                     [key], {});\n",
              "          if (!dataTable) return;\n",
              "\n",
              "          const docLinkHtml = 'Like what you see? Visit the ' +\n",
              "            '<a target=\"_blank\" href=https://colab.research.google.com/notebooks/data_table.ipynb>data table notebook</a>'\n",
              "            + ' to learn more about interactive tables.';\n",
              "          element.innerHTML = '';\n",
              "          dataTable['output_type'] = 'display_data';\n",
              "          await google.colab.output.renderOutput(dataTable, element);\n",
              "          const docLink = document.createElement('div');\n",
              "          docLink.innerHTML = docLinkHtml;\n",
              "          element.appendChild(docLink);\n",
              "        }\n",
              "      </script>\n",
              "    </div>\n",
              "  </div>\n",
              "  "
            ]
          },
          "metadata": {},
          "execution_count": 4
        }
      ],
      "source": [
        "# import\n",
        "from mahaNLP.model_repo import MaskFillModel\n",
        "\n",
        "# create a model object\n",
        "# parameter:\n",
        "# model name\n",
        "model = MaskFillModel('marathi-bert-v2')\n",
        "\n",
        "# function - predictMask\n",
        "# It predictes the masked token\n",
        "\n",
        "text = 'मी महाराष्ट्रात [MASK].'\n",
        "# English Translation:\n",
        "# 'I in Maharashtra [MASK]'\n",
        "\n",
        "# parameters:\n",
        "# text, details of prediction, print in dict\n",
        "\n",
        "model.predict_mask(text, details = \"all\", as_dict = False)"
      ]
    },
    {
      "cell_type": "code",
      "execution_count": null,
      "metadata": {
        "id": "1CpGkbo2zXdF"
      },
      "outputs": [],
      "source": [
        "# import\n",
        "from mahaNLP.datasets import *\n",
        "\n",
        "# loadDatasets: This loads the dataset into our variable\n",
        "# parameter:\n",
        "# name of the dataset\n",
        "\n",
        "dataset = load_datasets('mahaSent')"
      ]
    },
    {
      "cell_type": "code",
      "source": [],
      "metadata": {
        "id": "pyhnflzcKTio"
      },
      "execution_count": null,
      "outputs": []
    }
  ],
  "metadata": {
    "colab": {
      "provenance": [],
      "collapsed_sections": [
        "diLkeHtJz_Pe",
        "xOJigNfwUOEg",
        "xHZDkZPVY1Cq",
        "b-Mfe4Wabixu",
        "DJ0ZcucFbeIh",
        "P_TIRJCgAomN",
        "rlrrqsDdoCn1"
      ],
      "machine_shape": "hm"
    },
    "kernelspec": {
      "display_name": "Python 3 (ipykernel)",
      "language": "python",
      "name": "python3"
    },
    "language_info": {
      "codemirror_mode": {
        "name": "ipython",
        "version": 3
      },
      "file_extension": ".py",
      "mimetype": "text/x-python",
      "name": "python",
      "nbconvert_exporter": "python",
      "pygments_lexer": "ipython3",
      "version": "3.9.7"
    },
    "gpuClass": "standard"
  },
  "nbformat": 4,
  "nbformat_minor": 0
}